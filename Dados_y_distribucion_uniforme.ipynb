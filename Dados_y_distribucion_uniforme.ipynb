{
  "nbformat": 4,
  "nbformat_minor": 0,
  "metadata": {
    "colab": {
      "name": "Dados y distribucion uniforme.ipynb",
      "provenance": [],
      "authorship_tag": "ABX9TyO6dYV9z/4VmG9KXWdLaxNZ",
      "include_colab_link": true
    },
    "kernelspec": {
      "name": "python3",
      "display_name": "Python 3"
    }
  },
  "cells": [
    {
      "cell_type": "markdown",
      "metadata": {
        "id": "view-in-github",
        "colab_type": "text"
      },
      "source": [
        "<a href=\"https://colab.research.google.com/github/JotaMTB/Python_exercises/blob/master/Dados_y_distribucion_uniforme.ipynb\" target=\"_parent\"><img src=\"https://colab.research.google.com/assets/colab-badge.svg\" alt=\"Open In Colab\"/></a>"
      ]
    },
    {
      "cell_type": "markdown",
      "metadata": {
        "id": "kfi_UNL37cjf",
        "colab_type": "text"
      },
      "source": [
        "## Tira el DADO"
      ]
    },
    {
      "cell_type": "markdown",
      "metadata": {
        "id": "1mgLSH8v7Mrf",
        "colab_type": "text"
      },
      "source": [
        "Salvo un error de fabricación del dado, la probabilidad de que salga cualquiera de los 6 valores es la misma (1/6).\n",
        "\n",
        "Esto implica que la función de distribución de lanzar un dado es uniforme.\n",
        "\n",
        "Si generáramos un histograma (diagrama de barras), con la cantidad suficiente de sucesos (lanzamientos del dado) comprobaríamos que el tamaño de las barras tiende a ser igual, pero, ¿cuántos lanzamientos serían necesarios? ¿50, 100, 1000, más?\n",
        "\n",
        "Comprúebalo con el siguiente script:"
      ]
    },
    {
      "cell_type": "code",
      "metadata": {
        "id": "yWjdmXD61A7w",
        "colab_type": "code",
        "colab": {
          "base_uri": "https://localhost:8080/",
          "height": 333
        },
        "outputId": "3f40f118-7f45-4aea-92a6-9ae1c32fb9c4"
      },
      "source": [
        "import numpy as np\n",
        "import matplotlib.pyplot as plt\n",
        "\n",
        "#Límites inferior y superior (valores mínimo y máximo del dado)\n",
        "dinf, dsup = 1, 6\n",
        "\n",
        "#Número de sucesos (veces que se lanza el dado)\n",
        "#Prueba a modificar este valor y vuelve a ejecutar varias veces (4 o 5) para ver la represntación en la gráfica.\n",
        "#Incrementa nuevamente el valor y repite.\n",
        "#¿A partir de qué valor consigues que la altura de las barras sea prácticamente la misma?\n",
        "n = 25 \n",
        "\n",
        "#Se generan los resultados de lanzar el dado de manera aleatoria.\n",
        "#Se definien el límite inferior y superior y el número de sucesos.\n",
        "resultados = np.random.randint(dinf, dsup+1, n)\n",
        "\n",
        "#Representación de histograma:\n",
        "%matplotlib inline\n",
        "plt.hist(resultados, bins = 6, color=\"m\")"
      ],
      "execution_count": 27,
      "outputs": [
        {
          "output_type": "execute_result",
          "data": {
            "text/plain": [
              "(array([5., 3., 5., 2., 4., 6.]),\n",
              " array([1.        , 1.83333333, 2.66666667, 3.5       , 4.33333333,\n",
              "        5.16666667, 6.        ]),\n",
              " <a list of 6 Patch objects>)"
            ]
          },
          "metadata": {
            "tags": []
          },
          "execution_count": 27
        },
        {
          "output_type": "display_data",
          "data": {
            "image/png": "[encoded data removed]",
            "text/plain": [
              "<Figure size 432x288 with 1 Axes>"
            ]
          },
          "metadata": {
            "tags": [],
            "needs_background": "light"
          }
        }
      ]
    },
    {
      "cell_type": "code",
      "metadata": {
        "id": "tau2-LRd1XfU",
        "colab_type": "code",
        "colab": {}
      },
      "source": [
        ""
      ],
      "execution_count": 0,
      "outputs": []
    },
    {
      "cell_type": "markdown",
      "metadata": {
        "id": "0O3-73vu731y",
        "colab_type": "text"
      },
      "source": [
        "Lo que buscamos, es algo similar a la imagen siguiente:\n",
        "\n",
        "![texto alternativo](https://raw.githubusercontent.com/JotaMTB/Python_exercises/master/Imagen%20ejercicio%20probabilidad-dado.png)"
      ]
    }
  ]
}