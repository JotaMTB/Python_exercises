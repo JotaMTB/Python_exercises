{
  "nbformat": 4,
  "nbformat_minor": 0,
  "metadata": {
    "colab": {
      "name": "Operaciones Dataset accidentes bici Madrid 2018.ipynb",
      "provenance": [],
      "authorship_tag": "ABX9TyOT3f0gMeA9WhjY8DuAwV2u",
      "include_colab_link": true
    },
    "kernelspec": {
      "name": "python3",
      "display_name": "Python 3"
    }
  },
  "cells": [
    {
      "cell_type": "markdown",
      "metadata": {
        "id": "view-in-github",
        "colab_type": "text"
      },
      "source": [
        "<a href=\"https://colab.research.google.com/github/JotaMTB/Python_exercises/blob/master/Operaciones_Dataset_accidentes_bici_Madrid_2018.ipynb\" target=\"_parent\"><img src=\"https://colab.research.google.com/assets/colab-badge.svg\" alt=\"Open In Colab\"/></a>"
      ]
    },
    {
      "cell_type": "markdown",
      "metadata": {
        "id": "ocdltS6ccs6G",
        "colab_type": "text"
      },
      "source": [
        "## Dataset Accidentes de bicicleta en la ciudad de Madrid en 2018\n",
        "Se muestran a continuación algunas operaciones de limpieza y filtrado del dataset.\n",
        "\n",
        "A modo de ejercicio, el reultado esperado es mostrar por pantalla la cantidad de accidentes por día."
      ]
    },
    {
      "cell_type": "code",
      "metadata": {
        "id": "EzLwakZjbCFl",
        "colab_type": "code",
        "colab": {
          "base_uri": "https://localhost:8080/",
          "height": 153
        },
        "outputId": "153ef7af-6f78-4d35-9395-f90d7d4af681"
      },
      "source": [
        "import pandas as pd\n",
        "\n",
        "#El lugar desde el que se leén los datos:\n",
        "url_data_2018 = \"https://datos.madrid.es/egob/catalogo/300110-2-accidentes-bicicleta.csv\"\n",
        "\n",
        "#Generación del dataset\n",
        "data_2018 = pd.read_csv(url_data_2018, encoding = \"ISO-8859-1\", sep = \";\")\n",
        "\n",
        "#Limpieza de posibles líneas totalmente vacías (no tienen porqué existir, es solo una verificación):\n",
        "###print(f\"El número de líneas antes de la limpieza es {data_2018.shape[0]}.\")\n",
        "data_2018 = data_2018.dropna(axis = 0, how = \"all\")\n",
        "###print(f\"El número de líneas después de la limpieza es {data_2018.shape[0]}.\")\n",
        "\n",
        "#Filtro el dataset con las columnas que quiero/necesito analizar.\n",
        "#Con el siguiente método eliminos todas las columnas que no quiero.\n",
        "#Será de ayuda hacer un >data_2018.columns.values< para tener el array con el nombre de las columnas.\n",
        "data_2018_filter = data_2018.drop(['FECHA', 'RANGO HORARIO', 'LUGAR ACCIDENTE', 'Nº', 'Nº PARTE', 'CPFA Granizo',\n",
        "        'CPFA Hielo', 'CPFA Lluvia', 'CPFA Niebla', 'CPFA Seco', 'CPFA Nieve', 'CPSV Mojada', 'CPSV Aceite',\n",
        "        'CPSV Barro', 'CPSV Grava Suelta', 'CPSV Hielo', 'CPSV Seca Y Limpia', 'TIPO ACCIDENTE', 'Tipo Vehiculo',\n",
        "        'TIPO PERSONA', 'LESIVIDAD'], axis = 1)\n",
        "\n",
        "num_victimas = data_2018_filter['* Nº VICTIMAS'].values.ravel().sum()\n",
        "print(f\"En un total de {data_2018.shape[0]} accidentes en 2018, las víctimas de diversa consideración han sido {num_victimas}.\")\n",
        "\n",
        "#Creación de una agrupación de los datos por día de la semana. Con esto vamos a ver qué día fue el de mayor siniestralidad:\n",
        "data_2018_dias = data_2018_filter.groupby(['DIA SEMANA'])\n",
        "print(\"Nº de accidentes en lunes:\", data_2018_dias.get_group(\"LUNES\").shape[0])\n",
        "print(\"Nº de accidentes en martes:\",data_2018_dias.get_group(\"MARTES\").shape[0])\n",
        "print(\"Nº de accidentes en miércoles:\",data_2018_dias.get_group(\"MIERCOLES\").shape[0])\n",
        "print(\"Nº de accidentes en jueves:\",data_2018_dias.get_group(\"JUEVES\").shape[0])\n",
        "print(\"Nº de accidentes en viernes:\",data_2018_dias.get_group(\"VIERNES\").shape[0])\n",
        "print(\"Nº de accidentes en sábado:\",data_2018_dias.get_group(\"SABADO\").shape[0])\n",
        "print(\"Nº de accidentes en domingo:\",data_2018_dias.get_group(\"DOMINGO\").shape[0])"
      ],
      "execution_count": 2,
      "outputs": [
        {
          "output_type": "stream",
          "text": [
            "En un total de 700 accidentes en 2018, las víctimas de diversa consideración han sido 789.\n",
            "Nº de accidentes en lunes: 91\n",
            "Nº de accidentes en martes: 106\n",
            "Nº de accidentes en miércoles: 100\n",
            "Nº de accidentes en jueves: 117\n",
            "Nº de accidentes en viernes: 101\n",
            "Nº de accidentes en sábado: 99\n",
            "Nº de accidentes en domingo: 86\n"
          ],
          "name": "stdout"
        }
      ]
    },
    {
      "cell_type": "markdown",
      "metadata": {
        "id": "dDZae6zXcpc9",
        "colab_type": "text"
      },
      "source": [
        "Apariencia del dataset antes de realizar el filtrado:"
      ]
    },
    {
      "cell_type": "code",
      "metadata": {
        "id": "p5ZA9gvNdycc",
        "colab_type": "code",
        "colab": {
          "base_uri": "https://localhost:8080/",
          "height": 496
        },
        "outputId": "f49ced8a-f162-44dc-eb07-a77912cea7a3"
      },
      "source": [
        "data_2018.head()"
      ],
      "execution_count": 3,
      "outputs": [
        {
          "output_type": "execute_result",
          "data": {
            "text/html": [
              "<div>\n",
              "<style scoped>\n",
              "    .dataframe tbody tr th:only-of-type {\n",
              "        vertical-align: middle;\n",
              "    }\n",
              "\n",
              "    .dataframe tbody tr th {\n",
              "        vertical-align: top;\n",
              "    }\n",
              "\n",
              "    .dataframe thead th {\n",
              "        text-align: right;\n",
              "    }\n",
              "</style>\n",
              "<table border=\"1\" class=\"dataframe\">\n",
              "  <thead>\n",
              "    <tr style=\"text-align: right;\">\n",
              "      <th></th>\n",
              "      <th>FECHA</th>\n",
              "      <th>RANGO HORARIO</th>\n",
              "      <th>DIA SEMANA</th>\n",
              "      <th>DISTRITO</th>\n",
              "      <th>LUGAR ACCIDENTE</th>\n",
              "      <th>Nº</th>\n",
              "      <th>Nº PARTE</th>\n",
              "      <th>CPFA Granizo</th>\n",
              "      <th>CPFA Hielo</th>\n",
              "      <th>CPFA Lluvia</th>\n",
              "      <th>CPFA Niebla</th>\n",
              "      <th>CPFA Seco</th>\n",
              "      <th>CPFA Nieve</th>\n",
              "      <th>CPSV Mojada</th>\n",
              "      <th>CPSV Aceite</th>\n",
              "      <th>CPSV Barro</th>\n",
              "      <th>CPSV Grava Suelta</th>\n",
              "      <th>CPSV Hielo</th>\n",
              "      <th>CPSV Seca Y Limpia</th>\n",
              "      <th>* Nº VICTIMAS</th>\n",
              "      <th>TIPO ACCIDENTE</th>\n",
              "      <th>Tipo Vehiculo</th>\n",
              "      <th>TIPO PERSONA</th>\n",
              "      <th>SEXO</th>\n",
              "      <th>LESIVIDAD</th>\n",
              "      <th>Tramo Edad</th>\n",
              "    </tr>\n",
              "  </thead>\n",
              "  <tbody>\n",
              "    <tr>\n",
              "      <th>0</th>\n",
              "      <td>01/01/2018</td>\n",
              "      <td>DE 13:00 A 13:59</td>\n",
              "      <td>LUNES</td>\n",
              "      <td>ARGANZUELA</td>\n",
              "      <td>CALLE DE ANCORA - PASEO DE LAS DELICIAS       ...</td>\n",
              "      <td>0</td>\n",
              "      <td>2018/25</td>\n",
              "      <td>NO</td>\n",
              "      <td>NO</td>\n",
              "      <td>NO</td>\n",
              "      <td>NO</td>\n",
              "      <td>SI</td>\n",
              "      <td>NO</td>\n",
              "      <td>NO</td>\n",
              "      <td>NO</td>\n",
              "      <td>NO</td>\n",
              "      <td>NO</td>\n",
              "      <td>NO</td>\n",
              "      <td>SI</td>\n",
              "      <td>1</td>\n",
              "      <td>COLISIÓN DOBLE</td>\n",
              "      <td>BICICLETA</td>\n",
              "      <td>CONDUCTOR</td>\n",
              "      <td>HOMBRE</td>\n",
              "      <td>HL</td>\n",
              "      <td>DE 30 A 34 ANOS</td>\n",
              "    </tr>\n",
              "    <tr>\n",
              "      <th>1</th>\n",
              "      <td>01/01/2018</td>\n",
              "      <td>DE 15:00 A 15:59</td>\n",
              "      <td>LUNES</td>\n",
              "      <td>CENTRO</td>\n",
              "      <td>CALLE DE ALCALA NUM                           ...</td>\n",
              "      <td>44</td>\n",
              "      <td>2018/76</td>\n",
              "      <td>NO</td>\n",
              "      <td>NO</td>\n",
              "      <td>NO</td>\n",
              "      <td>NO</td>\n",
              "      <td>SI</td>\n",
              "      <td>NO</td>\n",
              "      <td>NO</td>\n",
              "      <td>NO</td>\n",
              "      <td>NO</td>\n",
              "      <td>NO</td>\n",
              "      <td>NO</td>\n",
              "      <td>SI</td>\n",
              "      <td>2</td>\n",
              "      <td>ATROPELLO</td>\n",
              "      <td>BICICLETA</td>\n",
              "      <td>CONDUCTOR</td>\n",
              "      <td>HOMBRE</td>\n",
              "      <td>HL</td>\n",
              "      <td>DE 25 A 29 AÑOS</td>\n",
              "    </tr>\n",
              "    <tr>\n",
              "      <th>2</th>\n",
              "      <td>02/01/2018</td>\n",
              "      <td>DE 12:00 A 12:59</td>\n",
              "      <td>MARTES</td>\n",
              "      <td>SALAMANCA</td>\n",
              "      <td>CALLE DE SERRANO - CALLE DEL CONDE DE ARANDA  ...</td>\n",
              "      <td>0</td>\n",
              "      <td>2018/30</td>\n",
              "      <td>NO</td>\n",
              "      <td>NO</td>\n",
              "      <td>NO</td>\n",
              "      <td>NO</td>\n",
              "      <td>SI</td>\n",
              "      <td>NO</td>\n",
              "      <td>NO</td>\n",
              "      <td>NO</td>\n",
              "      <td>NO</td>\n",
              "      <td>NO</td>\n",
              "      <td>NO</td>\n",
              "      <td>SI</td>\n",
              "      <td>2</td>\n",
              "      <td>ATROPELLO</td>\n",
              "      <td>BICICLETA</td>\n",
              "      <td>CONDUCTOR</td>\n",
              "      <td>HOMBRE</td>\n",
              "      <td>HL</td>\n",
              "      <td>DE 40 A 44 AÑOS</td>\n",
              "    </tr>\n",
              "    <tr>\n",
              "      <th>3</th>\n",
              "      <td>03/01/2018</td>\n",
              "      <td>DE 13:00 A 13:59</td>\n",
              "      <td>MIERCOLES</td>\n",
              "      <td>SALAMANCA</td>\n",
              "      <td>PLAZA DE LA INDEPENDENCIA NUM                 ...</td>\n",
              "      <td>5</td>\n",
              "      <td>2018/94</td>\n",
              "      <td>NO</td>\n",
              "      <td>NO</td>\n",
              "      <td>NO</td>\n",
              "      <td>NO</td>\n",
              "      <td>SI</td>\n",
              "      <td>NO</td>\n",
              "      <td>NO</td>\n",
              "      <td>NO</td>\n",
              "      <td>NO</td>\n",
              "      <td>NO</td>\n",
              "      <td>NO</td>\n",
              "      <td>SI</td>\n",
              "      <td>1</td>\n",
              "      <td>COLISIÓN DOBLE</td>\n",
              "      <td>BICICLETA</td>\n",
              "      <td>CONDUCTOR</td>\n",
              "      <td>HOMBRE</td>\n",
              "      <td>HL</td>\n",
              "      <td>DE 50 A 54 AÑOS</td>\n",
              "    </tr>\n",
              "    <tr>\n",
              "      <th>4</th>\n",
              "      <td>03/01/2018</td>\n",
              "      <td>DE 15:00 A 15:59</td>\n",
              "      <td>MIERCOLES</td>\n",
              "      <td>CIUDAD LINEAL</td>\n",
              "      <td>CALLE DE RAMIREZ DE ARELLANO NUM              ...</td>\n",
              "      <td>35</td>\n",
              "      <td>2018/361</td>\n",
              "      <td>NO</td>\n",
              "      <td>NO</td>\n",
              "      <td>NO</td>\n",
              "      <td>NO</td>\n",
              "      <td>SI</td>\n",
              "      <td>NO</td>\n",
              "      <td>NO</td>\n",
              "      <td>NO</td>\n",
              "      <td>NO</td>\n",
              "      <td>NO</td>\n",
              "      <td>NO</td>\n",
              "      <td>SI</td>\n",
              "      <td>1</td>\n",
              "      <td>COLISIÓN DOBLE</td>\n",
              "      <td>BICICLETA</td>\n",
              "      <td>CONDUCTOR</td>\n",
              "      <td>HOMBRE</td>\n",
              "      <td>HL</td>\n",
              "      <td>DE 25 A 29 AÑOS</td>\n",
              "    </tr>\n",
              "  </tbody>\n",
              "</table>\n",
              "</div>"
            ],
            "text/plain": [
              "        FECHA  ...       Tramo Edad\n",
              "0  01/01/2018  ...  DE 30 A 34 ANOS\n",
              "1  01/01/2018  ...  DE 25 A 29 AÑOS\n",
              "2  02/01/2018  ...  DE 40 A 44 AÑOS\n",
              "3  03/01/2018  ...  DE 50 A 54 AÑOS\n",
              "4  03/01/2018  ...  DE 25 A 29 AÑOS\n",
              "\n",
              "[5 rows x 26 columns]"
            ]
          },
          "metadata": {
            "tags": []
          },
          "execution_count": 3
        }
      ]
    },
    {
      "cell_type": "markdown",
      "metadata": {
        "id": "phsZhlw7d6P-",
        "colab_type": "text"
      },
      "source": [
        "Apariencia del dataset después de filtrarlo:"
      ]
    },
    {
      "cell_type": "code",
      "metadata": {
        "id": "nqdzgVMVd2wt",
        "colab_type": "code",
        "colab": {
          "base_uri": "https://localhost:8080/",
          "height": 204
        },
        "outputId": "29b2c257-75c5-4f47-add5-84b29e7e3dd6"
      },
      "source": [
        "data_2018_filter.head()"
      ],
      "execution_count": 4,
      "outputs": [
        {
          "output_type": "execute_result",
          "data": {
            "text/html": [
              "<div>\n",
              "<style scoped>\n",
              "    .dataframe tbody tr th:only-of-type {\n",
              "        vertical-align: middle;\n",
              "    }\n",
              "\n",
              "    .dataframe tbody tr th {\n",
              "        vertical-align: top;\n",
              "    }\n",
              "\n",
              "    .dataframe thead th {\n",
              "        text-align: right;\n",
              "    }\n",
              "</style>\n",
              "<table border=\"1\" class=\"dataframe\">\n",
              "  <thead>\n",
              "    <tr style=\"text-align: right;\">\n",
              "      <th></th>\n",
              "      <th>DIA SEMANA</th>\n",
              "      <th>DISTRITO</th>\n",
              "      <th>* Nº VICTIMAS</th>\n",
              "      <th>SEXO</th>\n",
              "      <th>Tramo Edad</th>\n",
              "    </tr>\n",
              "  </thead>\n",
              "  <tbody>\n",
              "    <tr>\n",
              "      <th>0</th>\n",
              "      <td>LUNES</td>\n",
              "      <td>ARGANZUELA</td>\n",
              "      <td>1</td>\n",
              "      <td>HOMBRE</td>\n",
              "      <td>DE 30 A 34 ANOS</td>\n",
              "    </tr>\n",
              "    <tr>\n",
              "      <th>1</th>\n",
              "      <td>LUNES</td>\n",
              "      <td>CENTRO</td>\n",
              "      <td>2</td>\n",
              "      <td>HOMBRE</td>\n",
              "      <td>DE 25 A 29 AÑOS</td>\n",
              "    </tr>\n",
              "    <tr>\n",
              "      <th>2</th>\n",
              "      <td>MARTES</td>\n",
              "      <td>SALAMANCA</td>\n",
              "      <td>2</td>\n",
              "      <td>HOMBRE</td>\n",
              "      <td>DE 40 A 44 AÑOS</td>\n",
              "    </tr>\n",
              "    <tr>\n",
              "      <th>3</th>\n",
              "      <td>MIERCOLES</td>\n",
              "      <td>SALAMANCA</td>\n",
              "      <td>1</td>\n",
              "      <td>HOMBRE</td>\n",
              "      <td>DE 50 A 54 AÑOS</td>\n",
              "    </tr>\n",
              "    <tr>\n",
              "      <th>4</th>\n",
              "      <td>MIERCOLES</td>\n",
              "      <td>CIUDAD LINEAL</td>\n",
              "      <td>1</td>\n",
              "      <td>HOMBRE</td>\n",
              "      <td>DE 25 A 29 AÑOS</td>\n",
              "    </tr>\n",
              "  </tbody>\n",
              "</table>\n",
              "</div>"
            ],
            "text/plain": [
              "  DIA SEMANA                        DISTRITO  ...    SEXO       Tramo Edad\n",
              "0      LUNES  ARGANZUELA                      ...  HOMBRE  DE 30 A 34 ANOS\n",
              "1      LUNES  CENTRO                          ...  HOMBRE  DE 25 A 29 AÑOS\n",
              "2     MARTES  SALAMANCA                       ...  HOMBRE  DE 40 A 44 AÑOS\n",
              "3  MIERCOLES  SALAMANCA                       ...  HOMBRE  DE 50 A 54 AÑOS\n",
              "4  MIERCOLES  CIUDAD LINEAL                   ...  HOMBRE  DE 25 A 29 AÑOS\n",
              "\n",
              "[5 rows x 5 columns]"
            ]
          },
          "metadata": {
            "tags": []
          },
          "execution_count": 4
        }
      ]
    },
    {
      "cell_type": "markdown",
      "metadata": {
        "id": "4UyFifcNeOc8",
        "colab_type": "text"
      },
      "source": [
        "Consulta del nombre de las columnas del dataset sin filtar:"
      ]
    },
    {
      "cell_type": "code",
      "metadata": {
        "id": "uPIVeaEaeUaE",
        "colab_type": "code",
        "colab": {
          "base_uri": "https://localhost:8080/",
          "height": 136
        },
        "outputId": "b27b44f7-94b3-4d1b-8ce9-2580f7dacc40"
      },
      "source": [
        "data_2018.columns.values"
      ],
      "execution_count": 5,
      "outputs": [
        {
          "output_type": "execute_result",
          "data": {
            "text/plain": [
              "array(['FECHA', 'RANGO HORARIO', 'DIA SEMANA', 'DISTRITO',\n",
              "       'LUGAR ACCIDENTE', 'Nº', 'Nº PARTE', 'CPFA Granizo', 'CPFA Hielo',\n",
              "       'CPFA Lluvia', 'CPFA Niebla', 'CPFA Seco', 'CPFA Nieve',\n",
              "       'CPSV Mojada', 'CPSV Aceite', 'CPSV Barro', 'CPSV Grava Suelta',\n",
              "       'CPSV Hielo', 'CPSV Seca Y Limpia', '* Nº VICTIMAS',\n",
              "       'TIPO ACCIDENTE', 'Tipo Vehiculo', 'TIPO PERSONA', 'SEXO',\n",
              "       'LESIVIDAD', 'Tramo Edad'], dtype=object)"
            ]
          },
          "metadata": {
            "tags": []
          },
          "execution_count": 5
        }
      ]
    }
  ]
}