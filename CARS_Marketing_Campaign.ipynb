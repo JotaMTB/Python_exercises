{
  "nbformat": 4,
  "nbformat_minor": 0,
  "metadata": {
    "kernelspec": {
      "display_name": "Python 3",
      "language": "python",
      "name": "python3"
    },
    "language_info": {
      "codemirror_mode": {
        "name": "ipython",
        "version": 3
      },
      "file_extension": ".py",
      "mimetype": "text/x-python",
      "name": "python",
      "nbconvert_exporter": "python",
      "pygments_lexer": "ipython3",
      "version": "3.7.6"
    },
    "colab": {
      "name": "CARS - Marketing_Campaign.ipynb",
      "provenance": [],
      "include_colab_link": true
    }
  },
  "cells": [
    {
      "cell_type": "markdown",
      "metadata": {
        "id": "view-in-github",
        "colab_type": "text"
      },
      "source": [
        "<a href=\"https://colab.research.google.com/github/JotaMTB/Python_exercises/blob/master/CARS_Marketing_Campaign.ipynb\" target=\"_parent\"><img src=\"https://colab.research.google.com/assets/colab-badge.svg\" alt=\"Open In Colab\"/></a>"
      ]
    },
    {
      "cell_type": "markdown",
      "metadata": {
        "id": "NNKwNkPNEH_k",
        "colab_type": "text"
      },
      "source": [
        "## Marketing Campaign\n",
        "\n",
        "El siguiente documento registra el trabajo orientado a preparar una campaña de marketing para la venta de vehículos a un colectivo formado por casi 6.000 personas.\n",
        "\n",
        "Se tienen datos del sexo, ingresos anuales, clasificación del lugar en el que viven (urbano, semiurbano y rural) y estado civil (casado, divorciado, soltero).\n",
        "\n",
        "En base a los datos anteriores se realizará una tarea de clustering con el fin de obtener diferentes segmentaciones (previsiblemente entre 4 y 8) para optimizar qué tipo de publicidad  sobre un determinado tipo de vehículo se hace llegar a cada persona.\n",
        "\n",
        "Notas:\n",
        "* El dataset de trabajo proviene de la limpieza y filtrado de otro dataset.\n",
        "* La fuente del dataset orignal es: https://www.kaggle.com/pankajjsh06/ibm-watson-marketing-customer-value-data\n",
        "* El dataset original no tenía como finalidad la propuesta en este ejercicio, por ese motivo fue filtrado y modificado."
      ]
    },
    {
      "cell_type": "code",
      "metadata": {
        "id": "w5YtZtuUEH_l",
        "colab_type": "code",
        "colab": {}
      },
      "source": [
        "import pandas as pd\n",
        "import numpy as np\n",
        "import matplotlib.pyplot as plt"
      ],
      "execution_count": null,
      "outputs": []
    },
    {
      "cell_type": "markdown",
      "metadata": {
        "id": "oYGjDfNSEH_p",
        "colab_type": "text"
      },
      "source": [
        "Primer paso: lectura del dataset."
      ]
    },
    {
      "cell_type": "code",
      "metadata": {
        "id": "tWsEPzedEH_p",
        "colab_type": "code",
        "colab": {},
        "outputId": "67c48ef8-8b06-495b-9393-508392397975"
      },
      "source": [
        "data = pd.read_csv('https://raw.githubusercontent.com/JotaMTB/Archivos_auxiliares/master/Marketing_campaign.csv')\n",
        "data.head()"
      ],
      "execution_count": null,
      "outputs": [
        {
          "output_type": "execute_result",
          "data": {
            "text/html": [
              "<div>\n",
              "<style scoped>\n",
              "    .dataframe tbody tr th:only-of-type {\n",
              "        vertical-align: middle;\n",
              "    }\n",
              "\n",
              "    .dataframe tbody tr th {\n",
              "        vertical-align: top;\n",
              "    }\n",
              "\n",
              "    .dataframe thead th {\n",
              "        text-align: right;\n",
              "    }\n",
              "</style>\n",
              "<table border=\"1\" class=\"dataframe\">\n",
              "  <thead>\n",
              "    <tr style=\"text-align: right;\">\n",
              "      <th></th>\n",
              "      <th>Unnamed: 0</th>\n",
              "      <th>Customer</th>\n",
              "      <th>Gender</th>\n",
              "      <th>Income</th>\n",
              "      <th>Location Code</th>\n",
              "      <th>Marital Status</th>\n",
              "    </tr>\n",
              "  </thead>\n",
              "  <tbody>\n",
              "    <tr>\n",
              "      <th>0</th>\n",
              "      <td>0</td>\n",
              "      <td>BU79786</td>\n",
              "      <td>F</td>\n",
              "      <td>56274</td>\n",
              "      <td>Suburban</td>\n",
              "      <td>Married</td>\n",
              "    </tr>\n",
              "    <tr>\n",
              "      <th>1</th>\n",
              "      <td>2</td>\n",
              "      <td>AI49188</td>\n",
              "      <td>F</td>\n",
              "      <td>48767</td>\n",
              "      <td>Suburban</td>\n",
              "      <td>Married</td>\n",
              "    </tr>\n",
              "    <tr>\n",
              "      <th>2</th>\n",
              "      <td>4</td>\n",
              "      <td>HB64268</td>\n",
              "      <td>M</td>\n",
              "      <td>43836</td>\n",
              "      <td>Rural</td>\n",
              "      <td>Single</td>\n",
              "    </tr>\n",
              "    <tr>\n",
              "      <th>3</th>\n",
              "      <td>5</td>\n",
              "      <td>OC83172</td>\n",
              "      <td>F</td>\n",
              "      <td>62902</td>\n",
              "      <td>Rural</td>\n",
              "      <td>Married</td>\n",
              "    </tr>\n",
              "    <tr>\n",
              "      <th>4</th>\n",
              "      <td>6</td>\n",
              "      <td>XZ87318</td>\n",
              "      <td>F</td>\n",
              "      <td>55350</td>\n",
              "      <td>Suburban</td>\n",
              "      <td>Married</td>\n",
              "    </tr>\n",
              "  </tbody>\n",
              "</table>\n",
              "</div>"
            ],
            "text/plain": [
              "   Unnamed: 0 Customer Gender  Income Location Code Marital Status\n",
              "0           0  BU79786      F   56274      Suburban        Married\n",
              "1           2  AI49188      F   48767      Suburban        Married\n",
              "2           4  HB64268      M   43836         Rural         Single\n",
              "3           5  OC83172      F   62902         Rural        Married\n",
              "4           6  XZ87318      F   55350      Suburban        Married"
            ]
          },
          "metadata": {
            "tags": []
          },
          "execution_count": 32
        }
      ]
    },
    {
      "cell_type": "code",
      "metadata": {
        "id": "nY9scBAtEH_s",
        "colab_type": "code",
        "colab": {},
        "outputId": "41492392-8afe-4a17-b6f0-c843ca2ac7f9"
      },
      "source": [
        "#Tamaño del dataset:\n",
        "\n",
        "data.shape"
      ],
      "execution_count": null,
      "outputs": [
        {
          "output_type": "execute_result",
          "data": {
            "text/plain": [
              "(6817, 6)"
            ]
          },
          "metadata": {
            "tags": []
          },
          "execution_count": 3
        }
      ]
    },
    {
      "cell_type": "markdown",
      "metadata": {
        "id": "OYIQISHfEH_v",
        "colab_type": "text"
      },
      "source": [
        "#### Eliminación de columnas\n",
        "* Se elimina la primera columna por ser herencia de las modificaciones previas sobre otro dataset.\n",
        "\n",
        "* De acuerdo a las indicaciones de los expertos de marketing de la empresa, también se puede eliminar la columna 'Gender' ya que el feedback de campañas anteriores ha sido que no hay apenas diferencia de gustos entre hombres y mujeres a la hora de elegir coche, y dependen más los ingresos (es la principal característica a tener en cuenta), si se vive en un entorno rural o no o si se es soltero o no."
      ]
    },
    {
      "cell_type": "code",
      "metadata": {
        "id": "VJv_KgwMEH_v",
        "colab_type": "code",
        "colab": {},
        "outputId": "ed3672a7-edf5-4f6d-a1fc-dd5db4cbbf1b"
      },
      "source": [
        "data.columns.values"
      ],
      "execution_count": null,
      "outputs": [
        {
          "output_type": "execute_result",
          "data": {
            "text/plain": [
              "array(['Unnamed: 0', 'Customer', 'Gender', 'Income', 'Location Code',\n",
              "       'Marital Status'], dtype=object)"
            ]
          },
          "metadata": {
            "tags": []
          },
          "execution_count": 4
        }
      ]
    },
    {
      "cell_type": "code",
      "metadata": {
        "id": "UNTD3JlPEH_y",
        "colab_type": "code",
        "colab": {},
        "outputId": "c9925875-83ac-4f8d-ea79-44a3edbba60e"
      },
      "source": [
        "columns_out = ['Unnamed: 0', 'Gender']\n",
        "\n",
        "data = data.drop(columns_out, axis=1)\n",
        "data.head()"
      ],
      "execution_count": null,
      "outputs": [
        {
          "output_type": "execute_result",
          "data": {
            "text/html": [
              "<div>\n",
              "<style scoped>\n",
              "    .dataframe tbody tr th:only-of-type {\n",
              "        vertical-align: middle;\n",
              "    }\n",
              "\n",
              "    .dataframe tbody tr th {\n",
              "        vertical-align: top;\n",
              "    }\n",
              "\n",
              "    .dataframe thead th {\n",
              "        text-align: right;\n",
              "    }\n",
              "</style>\n",
              "<table border=\"1\" class=\"dataframe\">\n",
              "  <thead>\n",
              "    <tr style=\"text-align: right;\">\n",
              "      <th></th>\n",
              "      <th>Customer</th>\n",
              "      <th>Income</th>\n",
              "      <th>Location Code</th>\n",
              "      <th>Marital Status</th>\n",
              "    </tr>\n",
              "  </thead>\n",
              "  <tbody>\n",
              "    <tr>\n",
              "      <th>0</th>\n",
              "      <td>BU79786</td>\n",
              "      <td>56274</td>\n",
              "      <td>Suburban</td>\n",
              "      <td>Married</td>\n",
              "    </tr>\n",
              "    <tr>\n",
              "      <th>1</th>\n",
              "      <td>AI49188</td>\n",
              "      <td>48767</td>\n",
              "      <td>Suburban</td>\n",
              "      <td>Married</td>\n",
              "    </tr>\n",
              "    <tr>\n",
              "      <th>2</th>\n",
              "      <td>HB64268</td>\n",
              "      <td>43836</td>\n",
              "      <td>Rural</td>\n",
              "      <td>Single</td>\n",
              "    </tr>\n",
              "    <tr>\n",
              "      <th>3</th>\n",
              "      <td>OC83172</td>\n",
              "      <td>62902</td>\n",
              "      <td>Rural</td>\n",
              "      <td>Married</td>\n",
              "    </tr>\n",
              "    <tr>\n",
              "      <th>4</th>\n",
              "      <td>XZ87318</td>\n",
              "      <td>55350</td>\n",
              "      <td>Suburban</td>\n",
              "      <td>Married</td>\n",
              "    </tr>\n",
              "  </tbody>\n",
              "</table>\n",
              "</div>"
            ],
            "text/plain": [
              "  Customer  Income Location Code Marital Status\n",
              "0  BU79786   56274      Suburban        Married\n",
              "1  AI49188   48767      Suburban        Married\n",
              "2  HB64268   43836         Rural         Single\n",
              "3  OC83172   62902         Rural        Married\n",
              "4  XZ87318   55350      Suburban        Married"
            ]
          },
          "metadata": {
            "tags": []
          },
          "execution_count": 33
        }
      ]
    },
    {
      "cell_type": "markdown",
      "metadata": {
        "id": "cOyfEmVwEH_0",
        "colab_type": "text"
      },
      "source": [
        "#### Limpieza de filas que estén totalmente vacías:"
      ]
    },
    {
      "cell_type": "code",
      "metadata": {
        "id": "FHZo-LoCEH_1",
        "colab_type": "code",
        "colab": {},
        "outputId": "f7f43332-f87c-4386-98c8-4546cb654dda"
      },
      "source": [
        "data = data.dropna(axis=0, how='all')\n",
        "data.shape"
      ],
      "execution_count": null,
      "outputs": [
        {
          "output_type": "execute_result",
          "data": {
            "text/plain": [
              "(6817, 3)"
            ]
          },
          "metadata": {
            "tags": []
          },
          "execution_count": 6
        }
      ]
    },
    {
      "cell_type": "markdown",
      "metadata": {
        "id": "vjVWn13CEH_3",
        "colab_type": "text"
      },
      "source": [
        "#### Comprobación de falta de valores en alguna columna:"
      ]
    },
    {
      "cell_type": "code",
      "metadata": {
        "id": "wLmzilFfEH_4",
        "colab_type": "code",
        "colab": {},
        "outputId": "679315d3-3a34-4e7d-c830-bfe07d150214"
      },
      "source": [
        "pd.isnull(data[\"Income\"]).values.ravel().sum()"
      ],
      "execution_count": null,
      "outputs": [
        {
          "output_type": "execute_result",
          "data": {
            "text/plain": [
              "0"
            ]
          },
          "metadata": {
            "tags": []
          },
          "execution_count": 7
        }
      ]
    },
    {
      "cell_type": "code",
      "metadata": {
        "id": "SM6cTU-qEH_6",
        "colab_type": "code",
        "colab": {},
        "outputId": "1a6272fa-1b66-45de-be6b-09d06c66a729"
      },
      "source": [
        "pd.isnull(data[\"Location Code\"]).values.ravel().sum()"
      ],
      "execution_count": null,
      "outputs": [
        {
          "output_type": "execute_result",
          "data": {
            "text/plain": [
              "0"
            ]
          },
          "metadata": {
            "tags": []
          },
          "execution_count": 8
        }
      ]
    },
    {
      "cell_type": "code",
      "metadata": {
        "id": "B4sAwPRGEH_9",
        "colab_type": "code",
        "colab": {},
        "outputId": "5f6b1e78-a97b-49fa-a52d-edb42221e5d1"
      },
      "source": [
        "pd.isnull(data[\"Marital Status\"]).values.ravel().sum()"
      ],
      "execution_count": null,
      "outputs": [
        {
          "output_type": "execute_result",
          "data": {
            "text/plain": [
              "0"
            ]
          },
          "metadata": {
            "tags": []
          },
          "execution_count": 9
        }
      ]
    },
    {
      "cell_type": "markdown",
      "metadata": {
        "id": "WmPQX2qJEH__",
        "colab_type": "text"
      },
      "source": [
        "Todas las columnas tienen todos los campos rellenos con valores no nulos."
      ]
    },
    {
      "cell_type": "markdown",
      "metadata": {
        "id": "5sdblo0AEH__",
        "colab_type": "text"
      },
      "source": [
        "#### Generar columnas dummies\n",
        "Las columnas ['Gender', 'Location Code', 'Marital Status'] son categóricas, vamos a pasarlas a numéricas con ayuda de las variables dummy."
      ]
    },
    {
      "cell_type": "code",
      "metadata": {
        "id": "04ss6VqMEH__",
        "colab_type": "code",
        "colab": {}
      },
      "source": [
        "columns_to_dummy = ['Location Code', 'Marital Status']   #lista que guarda el nombre de la columnas que se van a transformar en dummy.\n",
        "\n",
        "def dummy_generator(dataframe, columns_list):   #la función pide un DF y una lista.\n",
        "    \n",
        "    for column in columns_list:\n",
        "        col_dummies = pd.get_dummies(dataframe[column], prefix=column)   #almacena las columnas dummy.\n",
        "        dataframe = dataframe.join(col_dummies)           #se añaden las nuevas columnas dummy al DF de partida.\n",
        "\n",
        "    dataframe = dataframe.drop(columns_list, axis=1)      #se eliminar las columnas de partida en el DF.\n",
        "    return dataframe\n",
        "\n",
        "\n",
        "data = dummy_generator(data, columns_to_dummy)    #Para obtener el DF modificado, se iguala a la función generadora."
      ],
      "execution_count": null,
      "outputs": []
    },
    {
      "cell_type": "code",
      "metadata": {
        "id": "Kpmiqo8qEIAC",
        "colab_type": "code",
        "colab": {},
        "outputId": "d56952ea-8bd2-43c7-aa3f-04c7dd4d17ce"
      },
      "source": [
        "data.head()"
      ],
      "execution_count": null,
      "outputs": [
        {
          "output_type": "execute_result",
          "data": {
            "text/html": [
              "<div>\n",
              "<style scoped>\n",
              "    .dataframe tbody tr th:only-of-type {\n",
              "        vertical-align: middle;\n",
              "    }\n",
              "\n",
              "    .dataframe tbody tr th {\n",
              "        vertical-align: top;\n",
              "    }\n",
              "\n",
              "    .dataframe thead th {\n",
              "        text-align: right;\n",
              "    }\n",
              "</style>\n",
              "<table border=\"1\" class=\"dataframe\">\n",
              "  <thead>\n",
              "    <tr style=\"text-align: right;\">\n",
              "      <th></th>\n",
              "      <th>Customer</th>\n",
              "      <th>Income</th>\n",
              "      <th>Location Code_Rural</th>\n",
              "      <th>Location Code_Suburban</th>\n",
              "      <th>Location Code_Urban</th>\n",
              "      <th>Marital Status_Divorced</th>\n",
              "      <th>Marital Status_Married</th>\n",
              "      <th>Marital Status_Single</th>\n",
              "    </tr>\n",
              "  </thead>\n",
              "  <tbody>\n",
              "    <tr>\n",
              "      <th>0</th>\n",
              "      <td>BU79786</td>\n",
              "      <td>56274</td>\n",
              "      <td>0</td>\n",
              "      <td>1</td>\n",
              "      <td>0</td>\n",
              "      <td>0</td>\n",
              "      <td>1</td>\n",
              "      <td>0</td>\n",
              "    </tr>\n",
              "    <tr>\n",
              "      <th>1</th>\n",
              "      <td>AI49188</td>\n",
              "      <td>48767</td>\n",
              "      <td>0</td>\n",
              "      <td>1</td>\n",
              "      <td>0</td>\n",
              "      <td>0</td>\n",
              "      <td>1</td>\n",
              "      <td>0</td>\n",
              "    </tr>\n",
              "    <tr>\n",
              "      <th>2</th>\n",
              "      <td>HB64268</td>\n",
              "      <td>43836</td>\n",
              "      <td>1</td>\n",
              "      <td>0</td>\n",
              "      <td>0</td>\n",
              "      <td>0</td>\n",
              "      <td>0</td>\n",
              "      <td>1</td>\n",
              "    </tr>\n",
              "    <tr>\n",
              "      <th>3</th>\n",
              "      <td>OC83172</td>\n",
              "      <td>62902</td>\n",
              "      <td>1</td>\n",
              "      <td>0</td>\n",
              "      <td>0</td>\n",
              "      <td>0</td>\n",
              "      <td>1</td>\n",
              "      <td>0</td>\n",
              "    </tr>\n",
              "    <tr>\n",
              "      <th>4</th>\n",
              "      <td>XZ87318</td>\n",
              "      <td>55350</td>\n",
              "      <td>0</td>\n",
              "      <td>1</td>\n",
              "      <td>0</td>\n",
              "      <td>0</td>\n",
              "      <td>1</td>\n",
              "      <td>0</td>\n",
              "    </tr>\n",
              "  </tbody>\n",
              "</table>\n",
              "</div>"
            ],
            "text/plain": [
              "  Customer  Income  Location Code_Rural  Location Code_Suburban  \\\n",
              "0  BU79786   56274                    0                       1   \n",
              "1  AI49188   48767                    0                       1   \n",
              "2  HB64268   43836                    1                       0   \n",
              "3  OC83172   62902                    1                       0   \n",
              "4  XZ87318   55350                    0                       1   \n",
              "\n",
              "   Location Code_Urban  Marital Status_Divorced  Marital Status_Married  \\\n",
              "0                    0                        0                       1   \n",
              "1                    0                        0                       1   \n",
              "2                    0                        0                       0   \n",
              "3                    0                        0                       1   \n",
              "4                    0                        0                       1   \n",
              "\n",
              "   Marital Status_Single  \n",
              "0                      0  \n",
              "1                      0  \n",
              "2                      1  \n",
              "3                      0  \n",
              "4                      0  "
            ]
          },
          "metadata": {
            "tags": []
          },
          "execution_count": 29
        }
      ]
    },
    {
      "cell_type": "markdown",
      "metadata": {
        "id": "aMrbrx1AEIAE",
        "colab_type": "text"
      },
      "source": [
        "Nuevamente es necesario eliminar algunas columnas. Además de la columna de ingresos (Income), permanecerán únicamente las columnas *Location Code_Rural* y *Marital Status_Single*, ya que son las que más peso tienen a la hora de preferir un modelo u otro de coche."
      ]
    },
    {
      "cell_type": "code",
      "metadata": {
        "id": "Z-73U8EmEIAE",
        "colab_type": "code",
        "colab": {},
        "outputId": "7134884e-cb4a-4e21-f485-a781516ff3bd"
      },
      "source": [
        "columns_out = ['Location Code_Suburban', 'Location Code_Urban', 'Marital Status_Divorced', 'Marital Status_Married']\n",
        "\n",
        "data = data.drop(columns_out, axis=1)\n",
        "data.head()"
      ],
      "execution_count": null,
      "outputs": [
        {
          "output_type": "execute_result",
          "data": {
            "text/html": [
              "<div>\n",
              "<style scoped>\n",
              "    .dataframe tbody tr th:only-of-type {\n",
              "        vertical-align: middle;\n",
              "    }\n",
              "\n",
              "    .dataframe tbody tr th {\n",
              "        vertical-align: top;\n",
              "    }\n",
              "\n",
              "    .dataframe thead th {\n",
              "        text-align: right;\n",
              "    }\n",
              "</style>\n",
              "<table border=\"1\" class=\"dataframe\">\n",
              "  <thead>\n",
              "    <tr style=\"text-align: right;\">\n",
              "      <th></th>\n",
              "      <th>Customer</th>\n",
              "      <th>Income</th>\n",
              "      <th>Location Code_Rural</th>\n",
              "      <th>Marital Status_Single</th>\n",
              "    </tr>\n",
              "  </thead>\n",
              "  <tbody>\n",
              "    <tr>\n",
              "      <th>0</th>\n",
              "      <td>BU79786</td>\n",
              "      <td>56274</td>\n",
              "      <td>0</td>\n",
              "      <td>0</td>\n",
              "    </tr>\n",
              "    <tr>\n",
              "      <th>1</th>\n",
              "      <td>AI49188</td>\n",
              "      <td>48767</td>\n",
              "      <td>0</td>\n",
              "      <td>0</td>\n",
              "    </tr>\n",
              "    <tr>\n",
              "      <th>2</th>\n",
              "      <td>HB64268</td>\n",
              "      <td>43836</td>\n",
              "      <td>1</td>\n",
              "      <td>1</td>\n",
              "    </tr>\n",
              "    <tr>\n",
              "      <th>3</th>\n",
              "      <td>OC83172</td>\n",
              "      <td>62902</td>\n",
              "      <td>1</td>\n",
              "      <td>0</td>\n",
              "    </tr>\n",
              "    <tr>\n",
              "      <th>4</th>\n",
              "      <td>XZ87318</td>\n",
              "      <td>55350</td>\n",
              "      <td>0</td>\n",
              "      <td>0</td>\n",
              "    </tr>\n",
              "  </tbody>\n",
              "</table>\n",
              "</div>"
            ],
            "text/plain": [
              "  Customer  Income  Location Code_Rural  Marital Status_Single\n",
              "0  BU79786   56274                    0                      0\n",
              "1  AI49188   48767                    0                      0\n",
              "2  HB64268   43836                    1                      1\n",
              "3  OC83172   62902                    1                      0\n",
              "4  XZ87318   55350                    0                      0"
            ]
          },
          "metadata": {
            "tags": []
          },
          "execution_count": 35
        }
      ]
    },
    {
      "cell_type": "markdown",
      "metadata": {
        "id": "_4i3eUDCEIAG",
        "colab_type": "text"
      },
      "source": [
        "#### Normalización del DataFrame\n",
        "Para que todos los valores estén entre 0 y 1. En caso contrario, la columna 'Income' tendría todo el peso en la generación de los clusters, ya que el orden de magnitud de los valores de esta columna es muy superior a la del resto.\n",
        "\n",
        "* También se aprovecha este momento para eliminar la columna 'Customer' del Dataframe de trabajo."
      ]
    },
    {
      "cell_type": "code",
      "metadata": {
        "id": "iB95DijeEIAH",
        "colab_type": "code",
        "colab": {},
        "outputId": "aaec9271-29b2-49d0-a56b-b8b5258145ae"
      },
      "source": [
        "data_norm = data.drop('Customer', axis=1)\n",
        "data_norm.head()"
      ],
      "execution_count": null,
      "outputs": [
        {
          "output_type": "execute_result",
          "data": {
            "text/html": [
              "<div>\n",
              "<style scoped>\n",
              "    .dataframe tbody tr th:only-of-type {\n",
              "        vertical-align: middle;\n",
              "    }\n",
              "\n",
              "    .dataframe tbody tr th {\n",
              "        vertical-align: top;\n",
              "    }\n",
              "\n",
              "    .dataframe thead th {\n",
              "        text-align: right;\n",
              "    }\n",
              "</style>\n",
              "<table border=\"1\" class=\"dataframe\">\n",
              "  <thead>\n",
              "    <tr style=\"text-align: right;\">\n",
              "      <th></th>\n",
              "      <th>Income</th>\n",
              "      <th>Location Code_Rural</th>\n",
              "      <th>Marital Status_Single</th>\n",
              "    </tr>\n",
              "  </thead>\n",
              "  <tbody>\n",
              "    <tr>\n",
              "      <th>0</th>\n",
              "      <td>56274</td>\n",
              "      <td>0</td>\n",
              "      <td>0</td>\n",
              "    </tr>\n",
              "    <tr>\n",
              "      <th>1</th>\n",
              "      <td>48767</td>\n",
              "      <td>0</td>\n",
              "      <td>0</td>\n",
              "    </tr>\n",
              "    <tr>\n",
              "      <th>2</th>\n",
              "      <td>43836</td>\n",
              "      <td>1</td>\n",
              "      <td>1</td>\n",
              "    </tr>\n",
              "    <tr>\n",
              "      <th>3</th>\n",
              "      <td>62902</td>\n",
              "      <td>1</td>\n",
              "      <td>0</td>\n",
              "    </tr>\n",
              "    <tr>\n",
              "      <th>4</th>\n",
              "      <td>55350</td>\n",
              "      <td>0</td>\n",
              "      <td>0</td>\n",
              "    </tr>\n",
              "  </tbody>\n",
              "</table>\n",
              "</div>"
            ],
            "text/plain": [
              "   Income  Location Code_Rural  Marital Status_Single\n",
              "0   56274                    0                      0\n",
              "1   48767                    0                      0\n",
              "2   43836                    1                      1\n",
              "3   62902                    1                      0\n",
              "4   55350                    0                      0"
            ]
          },
          "metadata": {
            "tags": []
          },
          "execution_count": 36
        }
      ]
    },
    {
      "cell_type": "code",
      "metadata": {
        "id": "7KN9PiJ4EIAJ",
        "colab_type": "code",
        "colab": {},
        "outputId": "801b2cdf-38f3-47e5-a0c3-c5ff532f574f"
      },
      "source": [
        "data_norm = (data_norm-data_norm.min())/(data_norm.max()-data_norm.min())\n",
        "data_norm.head()"
      ],
      "execution_count": null,
      "outputs": [
        {
          "output_type": "execute_result",
          "data": {
            "text/html": [
              "<div>\n",
              "<style scoped>\n",
              "    .dataframe tbody tr th:only-of-type {\n",
              "        vertical-align: middle;\n",
              "    }\n",
              "\n",
              "    .dataframe tbody tr th {\n",
              "        vertical-align: top;\n",
              "    }\n",
              "\n",
              "    .dataframe thead th {\n",
              "        text-align: right;\n",
              "    }\n",
              "</style>\n",
              "<table border=\"1\" class=\"dataframe\">\n",
              "  <thead>\n",
              "    <tr style=\"text-align: right;\">\n",
              "      <th></th>\n",
              "      <th>Income</th>\n",
              "      <th>Location Code_Rural</th>\n",
              "      <th>Marital Status_Single</th>\n",
              "    </tr>\n",
              "  </thead>\n",
              "  <tbody>\n",
              "    <tr>\n",
              "      <th>0</th>\n",
              "      <td>0.514064</td>\n",
              "      <td>0.0</td>\n",
              "      <td>0.0</td>\n",
              "    </tr>\n",
              "    <tr>\n",
              "      <th>1</th>\n",
              "      <td>0.430601</td>\n",
              "      <td>0.0</td>\n",
              "      <td>0.0</td>\n",
              "    </tr>\n",
              "    <tr>\n",
              "      <th>2</th>\n",
              "      <td>0.375778</td>\n",
              "      <td>1.0</td>\n",
              "      <td>1.0</td>\n",
              "    </tr>\n",
              "    <tr>\n",
              "      <th>3</th>\n",
              "      <td>0.587755</td>\n",
              "      <td>1.0</td>\n",
              "      <td>0.0</td>\n",
              "    </tr>\n",
              "    <tr>\n",
              "      <th>4</th>\n",
              "      <td>0.503791</td>\n",
              "      <td>0.0</td>\n",
              "      <td>0.0</td>\n",
              "    </tr>\n",
              "  </tbody>\n",
              "</table>\n",
              "</div>"
            ],
            "text/plain": [
              "     Income  Location Code_Rural  Marital Status_Single\n",
              "0  0.514064                  0.0                    0.0\n",
              "1  0.430601                  0.0                    0.0\n",
              "2  0.375778                  1.0                    1.0\n",
              "3  0.587755                  1.0                    0.0\n",
              "4  0.503791                  0.0                    0.0"
            ]
          },
          "metadata": {
            "tags": []
          },
          "execution_count": 37
        }
      ]
    },
    {
      "cell_type": "code",
      "metadata": {
        "id": "RV7sNv4YEIAL",
        "colab_type": "code",
        "colab": {},
        "outputId": "23395aac-5acc-4e5b-b159-4640b4307bd6"
      },
      "source": [
        "#Visualización de cómo han quedado los valores de la columna 'Income' tras ser normalizados:\n",
        "\n",
        "data_norm['Income'].describe()"
      ],
      "execution_count": null,
      "outputs": [
        {
          "output_type": "execute_result",
          "data": {
            "text/plain": [
              "count    6817.000000\n",
              "mean        0.449386\n",
              "std         0.270234\n",
              "min         0.000000\n",
              "25%         0.204516\n",
              "50%         0.422974\n",
              "75%         0.668749\n",
              "max         1.000000\n",
              "Name: Income, dtype: float64"
            ]
          },
          "metadata": {
            "tags": []
          },
          "execution_count": 38
        }
      ]
    },
    {
      "cell_type": "markdown",
      "metadata": {
        "id": "HfRk894uEIAN",
        "colab_type": "text"
      },
      "source": [
        "#### Comienza el trabajo de creación de los *CLUSTERS*\n",
        "\n",
        "* Obtención del dendrograma para observar el número adecuado de clusters.\n",
        "* Comprobación con el método del codo."
      ]
    },
    {
      "cell_type": "code",
      "metadata": {
        "id": "-UmWgNBJEIAO",
        "colab_type": "code",
        "colab": {}
      },
      "source": [
        "from scipy.cluster.hierarchy import dendrogram, linkage\n",
        "from scipy.cluster.hierarchy import cophenet\n",
        "from scipy.spatial.distance import pdist"
      ],
      "execution_count": null,
      "outputs": []
    },
    {
      "cell_type": "code",
      "metadata": {
        "id": "gyxptbp7EIAQ",
        "colab_type": "code",
        "colab": {}
      },
      "source": [
        "#Obtención de la matriz de distancias:\n",
        "\n",
        "Z = linkage(data_norm, \"ward\")"
      ],
      "execution_count": null,
      "outputs": []
    },
    {
      "cell_type": "code",
      "metadata": {
        "id": "vRQ53b8WEIAS",
        "colab_type": "code",
        "colab": {},
        "outputId": "e8be5318-568d-4432-9a7e-315ee1600087"
      },
      "source": [
        "#Valor del coeficiente cofenético:\n",
        "\n",
        "c, coph_dist = cophenet(Z, pdist(data_norm))\n",
        "c"
      ],
      "execution_count": null,
      "outputs": [
        {
          "output_type": "execute_result",
          "data": {
            "text/plain": [
              "0.9220549425846444"
            ]
          },
          "metadata": {
            "tags": []
          },
          "execution_count": 18
        }
      ]
    },
    {
      "cell_type": "code",
      "metadata": {
        "id": "kaCUUiqmEIAU",
        "colab_type": "code",
        "colab": {},
        "outputId": "c3703750-46c1-4f15-a87a-5776f5da9c7f"
      },
      "source": [
        "#Obtención del dendrograma:\n",
        "\n",
        "plt.figure(figsize=(25,8))\n",
        "plt.title(\"Dendrograma\")\n",
        "plt.xlabel(\"Nº Personas\")\n",
        "plt.ylabel(\"Distancia\")\n",
        "dendrogram(Z, leaf_rotation=0., leaf_font_size=15.0, truncate_mode=\"lastp\", p=15, show_leaf_counts=True,\n",
        "           show_contracted=True) #'p=' cambia el nº de sub-cluster a mostrar.\n",
        "plt.show()"
      ],
      "execution_count": null,
      "outputs": [
        {
          "output_type": "display_data",
          "data": {
            "image/png": "[encoded data removed]",
            "text/plain": [
              "<Figure size 1800x576 with 1 Axes>"
            ]
          },
          "metadata": {
            "tags": [],
            "needs_background": "light"
          }
        }
      ]
    },
    {
      "cell_type": "markdown",
      "metadata": {
        "id": "LPjMOgBREIAW",
        "colab_type": "text"
      },
      "source": [
        "De un primer vistazo se observan 3 grandes grupos, aunque también podría considerarse generar 5 o 6 clusters."
      ]
    },
    {
      "cell_type": "code",
      "metadata": {
        "id": "glOOAyZHEIAW",
        "colab_type": "code",
        "colab": {},
        "outputId": "5b27fad4-341a-4c23-8de3-0449f3f99c31"
      },
      "source": [
        "#Método del codo:\n",
        "\n",
        "last = Z[-15:,2]\n",
        "last_rev = last[::-1]\n",
        "print(last_rev)\n",
        "idx = np.arange(1, len(last)+1)\n",
        "plt.plot(idx, last_rev)\n",
        "\n",
        "#Aceleración:\n",
        "acc = np.diff(last,2)\n",
        "acc_rev = acc[::-1]\n",
        "plt.plot(idx[:-2]+1, acc_rev)\n",
        "plt.show()\n",
        "k = acc_rev.argmax() +2\n",
        "print(\"El número óptimo de cluster es %s\"%str(k))"
      ],
      "execution_count": null,
      "outputs": [
        {
          "output_type": "stream",
          "text": [
            "[46.51171569 43.39721562 21.59050565 20.10242752 11.43129016  9.14104359\n",
            "  8.34320501  6.06857848  5.26691965  4.72156015  4.62330735  3.53798073\n",
            "  3.00741827  2.70260945  2.5871895 ]\n"
          ],
          "name": "stdout"
        },
        {
          "output_type": "display_data",
          "data": {
            "image/png": "[encoded data removed]",
            "text/plain": [
              "<Figure size 432x288 with 1 Axes>"
            ]
          },
          "metadata": {
            "tags": [],
            "needs_background": "light"
          }
        },
        {
          "output_type": "stream",
          "text": [
            "El número óptimo de cluster es 3\n"
          ],
          "name": "stdout"
        }
      ]
    },
    {
      "cell_type": "markdown",
      "metadata": {
        "id": "uhI85ztXEIAY",
        "colab_type": "text"
      },
      "source": [
        "Se procede con una primera segmentación de 3 grupos (clusters) y se analizarán sus características. ¿Estarán suficientemente definidos los clusters?"
      ]
    },
    {
      "cell_type": "code",
      "metadata": {
        "id": "dwakPRgbEIAY",
        "colab_type": "code",
        "colab": {}
      },
      "source": [
        "from scipy.cluster.hierarchy import fcluster"
      ],
      "execution_count": null,
      "outputs": []
    },
    {
      "cell_type": "code",
      "metadata": {
        "id": "W167upnKEIAb",
        "colab_type": "code",
        "colab": {},
        "outputId": "23d8ef1e-6390-4bad-a90a-24869fa683a6"
      },
      "source": [
        "##Usando el nº de cluster 'k':\n",
        "\n",
        "k = 3\n",
        "clusters = fcluster(Z, k, criterion=\"maxclust\")\n",
        "\n",
        "data_cluster = data.copy()\n",
        "\n",
        "data_cluster['Cluster'] = clusters\n",
        "data_cluster.head()"
      ],
      "execution_count": null,
      "outputs": [
        {
          "output_type": "execute_result",
          "data": {
            "text/html": [
              "<div>\n",
              "<style scoped>\n",
              "    .dataframe tbody tr th:only-of-type {\n",
              "        vertical-align: middle;\n",
              "    }\n",
              "\n",
              "    .dataframe tbody tr th {\n",
              "        vertical-align: top;\n",
              "    }\n",
              "\n",
              "    .dataframe thead th {\n",
              "        text-align: right;\n",
              "    }\n",
              "</style>\n",
              "<table border=\"1\" class=\"dataframe\">\n",
              "  <thead>\n",
              "    <tr style=\"text-align: right;\">\n",
              "      <th></th>\n",
              "      <th>Customer</th>\n",
              "      <th>Income</th>\n",
              "      <th>Location Code_Rural</th>\n",
              "      <th>Marital Status_Single</th>\n",
              "      <th>Cluster</th>\n",
              "    </tr>\n",
              "  </thead>\n",
              "  <tbody>\n",
              "    <tr>\n",
              "      <th>0</th>\n",
              "      <td>BU79786</td>\n",
              "      <td>56274</td>\n",
              "      <td>0</td>\n",
              "      <td>0</td>\n",
              "      <td>3</td>\n",
              "    </tr>\n",
              "    <tr>\n",
              "      <th>1</th>\n",
              "      <td>AI49188</td>\n",
              "      <td>48767</td>\n",
              "      <td>0</td>\n",
              "      <td>0</td>\n",
              "      <td>3</td>\n",
              "    </tr>\n",
              "    <tr>\n",
              "      <th>2</th>\n",
              "      <td>HB64268</td>\n",
              "      <td>43836</td>\n",
              "      <td>1</td>\n",
              "      <td>1</td>\n",
              "      <td>2</td>\n",
              "    </tr>\n",
              "    <tr>\n",
              "      <th>3</th>\n",
              "      <td>OC83172</td>\n",
              "      <td>62902</td>\n",
              "      <td>1</td>\n",
              "      <td>0</td>\n",
              "      <td>1</td>\n",
              "    </tr>\n",
              "    <tr>\n",
              "      <th>4</th>\n",
              "      <td>XZ87318</td>\n",
              "      <td>55350</td>\n",
              "      <td>0</td>\n",
              "      <td>0</td>\n",
              "      <td>3</td>\n",
              "    </tr>\n",
              "  </tbody>\n",
              "</table>\n",
              "</div>"
            ],
            "text/plain": [
              "  Customer  Income  Location Code_Rural  Marital Status_Single  Cluster\n",
              "0  BU79786   56274                    0                      0        3\n",
              "1  AI49188   48767                    0                      0        3\n",
              "2  HB64268   43836                    1                      1        2\n",
              "3  OC83172   62902                    1                      0        1\n",
              "4  XZ87318   55350                    0                      0        3"
            ]
          },
          "metadata": {
            "tags": []
          },
          "execution_count": 39
        }
      ]
    },
    {
      "cell_type": "code",
      "metadata": {
        "id": "Ad3gVMu7EIAd",
        "colab_type": "code",
        "colab": {},
        "outputId": "7cca2753-6ab1-49af-ebcd-7bb8f289e8a1"
      },
      "source": [
        "#Histograma: número de personas en cada cluster:\n",
        "\n",
        "plt.figure(figsize=(2.5, 3))\n",
        "plt.hist(data_cluster['Cluster'], align='left', color='lightblue', bins=[1,2,3,4])\n",
        "plt.xlabel('Cluster (k = 3)')\n",
        "plt.ylabel('Nº Personas')\n",
        "plt.title('Nº de personas por cluster')\n",
        "plt.show()"
      ],
      "execution_count": null,
      "outputs": [
        {
          "output_type": "display_data",
          "data": {
            "image/png": "[encoded data removed]",
            "text/plain": [
              "<Figure size 180x216 with 1 Axes>"
            ]
          },
          "metadata": {
            "tags": [],
            "needs_background": "light"
          }
        }
      ]
    },
    {
      "cell_type": "markdown",
      "metadata": {
        "id": "UlfMDvQgEIAe",
        "colab_type": "text"
      },
      "source": [
        "En primera instancia es claro observar que uno de los clusters (el tercero), agrupa a un número de personas 3 veces superior a cualquier de los otros dos clusters."
      ]
    },
    {
      "cell_type": "code",
      "metadata": {
        "id": "hR7fczlPEIAf",
        "colab_type": "code",
        "colab": {},
        "outputId": "b5c783de-8ce4-472b-bc1b-3f164ec9d2bd"
      },
      "source": [
        "data_cluster.groupby('Cluster').mean()"
      ],
      "execution_count": null,
      "outputs": [
        {
          "output_type": "execute_result",
          "data": {
            "text/html": [
              "<div>\n",
              "<style scoped>\n",
              "    .dataframe tbody tr th:only-of-type {\n",
              "        vertical-align: middle;\n",
              "    }\n",
              "\n",
              "    .dataframe tbody tr th {\n",
              "        vertical-align: top;\n",
              "    }\n",
              "\n",
              "    .dataframe thead th {\n",
              "        text-align: right;\n",
              "    }\n",
              "</style>\n",
              "<table border=\"1\" class=\"dataframe\">\n",
              "  <thead>\n",
              "    <tr style=\"text-align: right;\">\n",
              "      <th></th>\n",
              "      <th>Income</th>\n",
              "      <th>Location Code_Rural</th>\n",
              "      <th>Marital Status_Single</th>\n",
              "    </tr>\n",
              "    <tr>\n",
              "      <th>Cluster</th>\n",
              "      <th></th>\n",
              "      <th></th>\n",
              "      <th></th>\n",
              "    </tr>\n",
              "  </thead>\n",
              "  <tbody>\n",
              "    <tr>\n",
              "      <th>1</th>\n",
              "      <td>59810.303267</td>\n",
              "      <td>1.000000</td>\n",
              "      <td>0.0</td>\n",
              "    </tr>\n",
              "    <tr>\n",
              "      <th>2</th>\n",
              "      <td>49578.435512</td>\n",
              "      <td>0.227032</td>\n",
              "      <td>1.0</td>\n",
              "    </tr>\n",
              "    <tr>\n",
              "      <th>3</th>\n",
              "      <td>47609.729483</td>\n",
              "      <td>0.000000</td>\n",
              "      <td>0.0</td>\n",
              "    </tr>\n",
              "  </tbody>\n",
              "</table>\n",
              "</div>"
            ],
            "text/plain": [
              "               Income  Location Code_Rural  Marital Status_Single\n",
              "Cluster                                                          \n",
              "1        59810.303267             1.000000                    0.0\n",
              "2        49578.435512             0.227032                    1.0\n",
              "3        47609.729483             0.000000                    0.0"
            ]
          },
          "metadata": {
            "tags": []
          },
          "execution_count": 41
        }
      ]
    },
    {
      "cell_type": "code",
      "metadata": {
        "id": "ckY8h0lGEIAh",
        "colab_type": "code",
        "colab": {},
        "outputId": "db4d3cde-41c5-485f-9d19-073442e7556f"
      },
      "source": [
        "data_cluster.groupby('Cluster')['Income'].describe()"
      ],
      "execution_count": null,
      "outputs": [
        {
          "output_type": "execute_result",
          "data": {
            "text/html": [
              "<div>\n",
              "<style scoped>\n",
              "    .dataframe tbody tr th:only-of-type {\n",
              "        vertical-align: middle;\n",
              "    }\n",
              "\n",
              "    .dataframe tbody tr th {\n",
              "        vertical-align: top;\n",
              "    }\n",
              "\n",
              "    .dataframe thead th {\n",
              "        text-align: right;\n",
              "    }\n",
              "</style>\n",
              "<table border=\"1\" class=\"dataframe\">\n",
              "  <thead>\n",
              "    <tr style=\"text-align: right;\">\n",
              "      <th></th>\n",
              "      <th>count</th>\n",
              "      <th>mean</th>\n",
              "      <th>std</th>\n",
              "      <th>min</th>\n",
              "      <th>25%</th>\n",
              "      <th>50%</th>\n",
              "      <th>75%</th>\n",
              "      <th>max</th>\n",
              "    </tr>\n",
              "    <tr>\n",
              "      <th>Cluster</th>\n",
              "      <th></th>\n",
              "      <th></th>\n",
              "      <th></th>\n",
              "      <th></th>\n",
              "      <th></th>\n",
              "      <th></th>\n",
              "      <th></th>\n",
              "      <th></th>\n",
              "    </tr>\n",
              "  </thead>\n",
              "  <tbody>\n",
              "    <tr>\n",
              "      <th>1</th>\n",
              "      <td>1408.0</td>\n",
              "      <td>59810.303267</td>\n",
              "      <td>22591.387098</td>\n",
              "      <td>10074.0</td>\n",
              "      <td>40515.25</td>\n",
              "      <td>61355.5</td>\n",
              "      <td>77880.50</td>\n",
              "      <td>99875.0</td>\n",
              "    </tr>\n",
              "    <tr>\n",
              "      <th>2</th>\n",
              "      <td>1132.0</td>\n",
              "      <td>49578.435512</td>\n",
              "      <td>24151.226967</td>\n",
              "      <td>10037.0</td>\n",
              "      <td>28720.50</td>\n",
              "      <td>48377.0</td>\n",
              "      <td>68051.25</td>\n",
              "      <td>99816.0</td>\n",
              "    </tr>\n",
              "    <tr>\n",
              "      <th>3</th>\n",
              "      <td>4277.0</td>\n",
              "      <td>47609.729483</td>\n",
              "      <td>24132.492274</td>\n",
              "      <td>10147.0</td>\n",
              "      <td>26056.00</td>\n",
              "      <td>43259.0</td>\n",
              "      <td>66676.00</td>\n",
              "      <td>99981.0</td>\n",
              "    </tr>\n",
              "  </tbody>\n",
              "</table>\n",
              "</div>"
            ],
            "text/plain": [
              "          count          mean           std      min       25%      50%  \\\n",
              "Cluster                                                                   \n",
              "1        1408.0  59810.303267  22591.387098  10074.0  40515.25  61355.5   \n",
              "2        1132.0  49578.435512  24151.226967  10037.0  28720.50  48377.0   \n",
              "3        4277.0  47609.729483  24132.492274  10147.0  26056.00  43259.0   \n",
              "\n",
              "              75%      max  \n",
              "Cluster                     \n",
              "1        77880.50  99875.0  \n",
              "2        68051.25  99816.0  \n",
              "3        66676.00  99981.0  "
            ]
          },
          "metadata": {
            "tags": []
          },
          "execution_count": 42
        }
      ]
    },
    {
      "cell_type": "markdown",
      "metadata": {
        "id": "uDpM6_XUEIAj",
        "colab_type": "text"
      },
      "source": [
        "Observando las dos tablas anteriores se desprenden las siguientes conclusiones:\n",
        "* Los ingresos para las personas de los 3 clusters son similares. Esto no es nada beneficioso, ya que será imposible atribuir diferentes gamas de producto (coches en este caso) en función de esta característica.\n",
        "* La definición de los clusters responde claramente al lugar de residencia y al estado civil, y como se ha visto, los ingresos influyen poco en la generación de los grupos o clusters.\n",
        "* El resumen de los clusters podría ser:\n",
        "    * Cluster-1: personas que viven en un entorno rural y que no están solteras.\n",
        "    * Cluster-2: personas solteras y que mayoritariamente (77%) no viven en un entorno rural.\n",
        "    * Cluster-3: personas que no viven en un entorno rural y que no están casadas.\n",
        "    \n",
        "\n",
        "Ya que es sabido que el factor con más importancia a la hora de comprar un coche son los ingresos, vamos a asignarle más peso en el DataFrame. Para ello, multiplico por 5 su valor en el DF normalizado con el fin de balancearlo."
      ]
    },
    {
      "cell_type": "code",
      "metadata": {
        "id": "vjtoYwPtEIAk",
        "colab_type": "code",
        "colab": {}
      },
      "source": [
        "data_balance = data_norm.copy()"
      ],
      "execution_count": null,
      "outputs": []
    },
    {
      "cell_type": "code",
      "metadata": {
        "id": "JKa5s0M8EIAm",
        "colab_type": "code",
        "colab": {},
        "outputId": "32a76c12-d153-4c07-de75-d1138ff1a63e"
      },
      "source": [
        "income = data_balance['Income'].values.tolist()\n",
        "\n",
        "for i, n in enumerate(income):\n",
        "    income[i] = n*5\n",
        "\n",
        "data_balance['Income'] = income\n",
        "    \n",
        "data_balance.head()"
      ],
      "execution_count": null,
      "outputs": [
        {
          "output_type": "execute_result",
          "data": {
            "text/html": [
              "<div>\n",
              "<style scoped>\n",
              "    .dataframe tbody tr th:only-of-type {\n",
              "        vertical-align: middle;\n",
              "    }\n",
              "\n",
              "    .dataframe tbody tr th {\n",
              "        vertical-align: top;\n",
              "    }\n",
              "\n",
              "    .dataframe thead th {\n",
              "        text-align: right;\n",
              "    }\n",
              "</style>\n",
              "<table border=\"1\" class=\"dataframe\">\n",
              "  <thead>\n",
              "    <tr style=\"text-align: right;\">\n",
              "      <th></th>\n",
              "      <th>Income</th>\n",
              "      <th>Location Code_Rural</th>\n",
              "      <th>Marital Status_Single</th>\n",
              "    </tr>\n",
              "  </thead>\n",
              "  <tbody>\n",
              "    <tr>\n",
              "      <th>0</th>\n",
              "      <td>2.570322</td>\n",
              "      <td>0.0</td>\n",
              "      <td>0.0</td>\n",
              "    </tr>\n",
              "    <tr>\n",
              "      <th>1</th>\n",
              "      <td>2.153006</td>\n",
              "      <td>0.0</td>\n",
              "      <td>0.0</td>\n",
              "    </tr>\n",
              "    <tr>\n",
              "      <th>2</th>\n",
              "      <td>1.878891</td>\n",
              "      <td>1.0</td>\n",
              "      <td>1.0</td>\n",
              "    </tr>\n",
              "    <tr>\n",
              "      <th>3</th>\n",
              "      <td>2.938773</td>\n",
              "      <td>1.0</td>\n",
              "      <td>0.0</td>\n",
              "    </tr>\n",
              "    <tr>\n",
              "      <th>4</th>\n",
              "      <td>2.518956</td>\n",
              "      <td>0.0</td>\n",
              "      <td>0.0</td>\n",
              "    </tr>\n",
              "  </tbody>\n",
              "</table>\n",
              "</div>"
            ],
            "text/plain": [
              "     Income  Location Code_Rural  Marital Status_Single\n",
              "0  2.570322                  0.0                    0.0\n",
              "1  2.153006                  0.0                    0.0\n",
              "2  1.878891                  1.0                    1.0\n",
              "3  2.938773                  1.0                    0.0\n",
              "4  2.518956                  0.0                    0.0"
            ]
          },
          "metadata": {
            "tags": []
          },
          "execution_count": 49
        }
      ]
    },
    {
      "cell_type": "code",
      "metadata": {
        "id": "xno1uNX4EIAo",
        "colab_type": "code",
        "colab": {},
        "outputId": "d3de8a72-6048-4f64-d789-1cc25ed98967"
      },
      "source": [
        "data_balance.describe()"
      ],
      "execution_count": null,
      "outputs": [
        {
          "output_type": "execute_result",
          "data": {
            "text/html": [
              "<div>\n",
              "<style scoped>\n",
              "    .dataframe tbody tr th:only-of-type {\n",
              "        vertical-align: middle;\n",
              "    }\n",
              "\n",
              "    .dataframe tbody tr th {\n",
              "        vertical-align: top;\n",
              "    }\n",
              "\n",
              "    .dataframe thead th {\n",
              "        text-align: right;\n",
              "    }\n",
              "</style>\n",
              "<table border=\"1\" class=\"dataframe\">\n",
              "  <thead>\n",
              "    <tr style=\"text-align: right;\">\n",
              "      <th></th>\n",
              "      <th>Income</th>\n",
              "      <th>Location Code_Rural</th>\n",
              "      <th>Marital Status_Single</th>\n",
              "    </tr>\n",
              "  </thead>\n",
              "  <tbody>\n",
              "    <tr>\n",
              "      <th>count</th>\n",
              "      <td>6817.000000</td>\n",
              "      <td>6817.000000</td>\n",
              "      <td>6817.000000</td>\n",
              "    </tr>\n",
              "    <tr>\n",
              "      <th>mean</th>\n",
              "      <td>2.246930</td>\n",
              "      <td>0.244242</td>\n",
              "      <td>0.166055</td>\n",
              "    </tr>\n",
              "    <tr>\n",
              "      <th>std</th>\n",
              "      <td>1.351172</td>\n",
              "      <td>0.429669</td>\n",
              "      <td>0.372158</td>\n",
              "    </tr>\n",
              "    <tr>\n",
              "      <th>min</th>\n",
              "      <td>0.000000</td>\n",
              "      <td>0.000000</td>\n",
              "      <td>0.000000</td>\n",
              "    </tr>\n",
              "    <tr>\n",
              "      <th>25%</th>\n",
              "      <td>1.022581</td>\n",
              "      <td>0.000000</td>\n",
              "      <td>0.000000</td>\n",
              "    </tr>\n",
              "    <tr>\n",
              "      <th>50%</th>\n",
              "      <td>2.114871</td>\n",
              "      <td>0.000000</td>\n",
              "      <td>0.000000</td>\n",
              "    </tr>\n",
              "    <tr>\n",
              "      <th>75%</th>\n",
              "      <td>3.343747</td>\n",
              "      <td>0.000000</td>\n",
              "      <td>0.000000</td>\n",
              "    </tr>\n",
              "    <tr>\n",
              "      <th>max</th>\n",
              "      <td>5.000000</td>\n",
              "      <td>1.000000</td>\n",
              "      <td>1.000000</td>\n",
              "    </tr>\n",
              "  </tbody>\n",
              "</table>\n",
              "</div>"
            ],
            "text/plain": [
              "            Income  Location Code_Rural  Marital Status_Single\n",
              "count  6817.000000          6817.000000            6817.000000\n",
              "mean      2.246930             0.244242               0.166055\n",
              "std       1.351172             0.429669               0.372158\n",
              "min       0.000000             0.000000               0.000000\n",
              "25%       1.022581             0.000000               0.000000\n",
              "50%       2.114871             0.000000               0.000000\n",
              "75%       3.343747             0.000000               0.000000\n",
              "max       5.000000             1.000000               1.000000"
            ]
          },
          "metadata": {
            "tags": []
          },
          "execution_count": 50
        }
      ]
    },
    {
      "cell_type": "markdown",
      "metadata": {
        "id": "xIPXxrsJEIAq",
        "colab_type": "text"
      },
      "source": [
        "#### Prueba en el DataFrame balanceado."
      ]
    },
    {
      "cell_type": "code",
      "metadata": {
        "id": "5n0-r1EHEIAr",
        "colab_type": "code",
        "colab": {}
      },
      "source": [
        "#Obtención de la matriz de distancias:\n",
        "\n",
        "Z = linkage(data_balance, \"ward\")"
      ],
      "execution_count": null,
      "outputs": []
    },
    {
      "cell_type": "code",
      "metadata": {
        "id": "Rdc_u0C3EIAs",
        "colab_type": "code",
        "colab": {},
        "outputId": "7954cfc2-643c-4c80-d487-5f7b6cef5983"
      },
      "source": [
        "#Valor del coeficiente cofenético:\n",
        "\n",
        "c, coph_dist = cophenet(Z, pdist(data_norm))\n",
        "c"
      ],
      "execution_count": null,
      "outputs": [
        {
          "output_type": "execute_result",
          "data": {
            "text/plain": [
              "0.29227063842880474"
            ]
          },
          "metadata": {
            "tags": []
          },
          "execution_count": 52
        }
      ]
    },
    {
      "cell_type": "code",
      "metadata": {
        "id": "gaz0sQwyEIAu",
        "colab_type": "code",
        "colab": {},
        "outputId": "df184ff7-39fe-4f3f-c988-e5504bd1c2f7"
      },
      "source": [
        "#Obtención del dendrograma:\n",
        "\n",
        "plt.figure(figsize=(25,8))\n",
        "plt.title(\"Dendrograma\")\n",
        "plt.xlabel(\"Nº Personas\")\n",
        "plt.ylabel(\"Distancia\")\n",
        "dendrogram(Z, leaf_rotation=0., leaf_font_size=15.0, truncate_mode=\"lastp\", p=15, show_leaf_counts=True,\n",
        "           show_contracted=True) #'p=' cambia el nº de sub-cluster a mostrar.\n",
        "plt.show()"
      ],
      "execution_count": null,
      "outputs": [
        {
          "output_type": "display_data",
          "data": {
            "image/png": "[encoded data removed]",
            "text/plain": [
              "<Figure size 1800x576 with 1 Axes>"
            ]
          },
          "metadata": {
            "tags": [],
            "needs_background": "light"
          }
        }
      ]
    },
    {
      "cell_type": "markdown",
      "metadata": {
        "id": "wgbsdiEJEIAw",
        "colab_type": "text"
      },
      "source": [
        "Se observan 2 grandes grupos, aunque también podría considerarse generar 3 o 4 clusters."
      ]
    },
    {
      "cell_type": "code",
      "metadata": {
        "id": "bCDglje2EIAw",
        "colab_type": "code",
        "colab": {},
        "outputId": "6a754592-f766-486a-e7df-270726508e2f"
      },
      "source": [
        "#Método del codo:\n",
        "\n",
        "last = Z[-15:,2]\n",
        "last_rev = last[::-1]\n",
        "print(last_rev)\n",
        "idx = np.arange(1, len(last)+1)\n",
        "plt.plot(idx, last_rev)\n",
        "\n",
        "#Aceleración:\n",
        "acc = np.diff(last,2)\n",
        "acc_rev = acc[::-1]\n",
        "plt.plot(idx[:-2]+1, acc_rev)\n",
        "plt.show()\n",
        "k = acc_rev.argmax() +2\n",
        "print(\"El número óptimo de cluster es %s\"%str(k))"
      ],
      "execution_count": null,
      "outputs": [
        {
          "output_type": "stream",
          "text": [
            "[136.14356255  53.26634446  37.14342638  31.38638224  29.0970544\n",
            "  26.0551098   24.8754433   20.41149297  17.68990367  17.28879614\n",
            "  16.88605488  15.03709136  13.51304724  13.11404424  12.93594748]\n"
          ],
          "name": "stdout"
        },
        {
          "output_type": "display_data",
          "data": {
            "image/png": "[encoded data removed]",
            "text/plain": [
              "<Figure size 432x288 with 1 Axes>"
            ]
          },
          "metadata": {
            "tags": [],
            "needs_background": "light"
          }
        },
        {
          "output_type": "stream",
          "text": [
            "El número óptimo de cluster es 2\n"
          ],
          "name": "stdout"
        }
      ]
    },
    {
      "cell_type": "markdown",
      "metadata": {
        "id": "13pDu-EgEIAy",
        "colab_type": "text"
      },
      "source": [
        "Como se pretenden vender diferentes modelos de coches, se opta por una división en 3 clusters:"
      ]
    },
    {
      "cell_type": "code",
      "metadata": {
        "id": "YfRgfuRBEIAz",
        "colab_type": "code",
        "colab": {},
        "outputId": "77bd7b8a-66f4-4fb4-f7fc-ee658d1ccb14"
      },
      "source": [
        "##Usando el nº de cluster 'k':\n",
        "\n",
        "k = 3\n",
        "clusters = fcluster(Z, k, criterion=\"maxclust\")\n",
        "\n",
        "data_cluster_k3 = data.copy()\n",
        "\n",
        "data_cluster_k3['Cluster'] = clusters\n",
        "data_cluster_k3.head()"
      ],
      "execution_count": null,
      "outputs": [
        {
          "output_type": "execute_result",
          "data": {
            "text/html": [
              "<div>\n",
              "<style scoped>\n",
              "    .dataframe tbody tr th:only-of-type {\n",
              "        vertical-align: middle;\n",
              "    }\n",
              "\n",
              "    .dataframe tbody tr th {\n",
              "        vertical-align: top;\n",
              "    }\n",
              "\n",
              "    .dataframe thead th {\n",
              "        text-align: right;\n",
              "    }\n",
              "</style>\n",
              "<table border=\"1\" class=\"dataframe\">\n",
              "  <thead>\n",
              "    <tr style=\"text-align: right;\">\n",
              "      <th></th>\n",
              "      <th>Customer</th>\n",
              "      <th>Income</th>\n",
              "      <th>Location Code_Rural</th>\n",
              "      <th>Marital Status_Single</th>\n",
              "      <th>Cluster</th>\n",
              "    </tr>\n",
              "  </thead>\n",
              "  <tbody>\n",
              "    <tr>\n",
              "      <th>0</th>\n",
              "      <td>BU79786</td>\n",
              "      <td>56274</td>\n",
              "      <td>0</td>\n",
              "      <td>0</td>\n",
              "      <td>3</td>\n",
              "    </tr>\n",
              "    <tr>\n",
              "      <th>1</th>\n",
              "      <td>AI49188</td>\n",
              "      <td>48767</td>\n",
              "      <td>0</td>\n",
              "      <td>0</td>\n",
              "      <td>3</td>\n",
              "    </tr>\n",
              "    <tr>\n",
              "      <th>2</th>\n",
              "      <td>HB64268</td>\n",
              "      <td>43836</td>\n",
              "      <td>1</td>\n",
              "      <td>1</td>\n",
              "      <td>1</td>\n",
              "    </tr>\n",
              "    <tr>\n",
              "      <th>3</th>\n",
              "      <td>OC83172</td>\n",
              "      <td>62902</td>\n",
              "      <td>1</td>\n",
              "      <td>0</td>\n",
              "      <td>3</td>\n",
              "    </tr>\n",
              "    <tr>\n",
              "      <th>4</th>\n",
              "      <td>XZ87318</td>\n",
              "      <td>55350</td>\n",
              "      <td>0</td>\n",
              "      <td>0</td>\n",
              "      <td>3</td>\n",
              "    </tr>\n",
              "  </tbody>\n",
              "</table>\n",
              "</div>"
            ],
            "text/plain": [
              "  Customer  Income  Location Code_Rural  Marital Status_Single  Cluster\n",
              "0  BU79786   56274                    0                      0        3\n",
              "1  AI49188   48767                    0                      0        3\n",
              "2  HB64268   43836                    1                      1        1\n",
              "3  OC83172   62902                    1                      0        3\n",
              "4  XZ87318   55350                    0                      0        3"
            ]
          },
          "metadata": {
            "tags": []
          },
          "execution_count": 55
        }
      ]
    },
    {
      "cell_type": "code",
      "metadata": {
        "id": "zJf2eu57EIA1",
        "colab_type": "code",
        "colab": {},
        "outputId": "e024676d-86c3-425b-e8f4-572051cad962"
      },
      "source": [
        "#Histograma: número de personas en cada cluster:\n",
        "\n",
        "plt.figure(figsize=(2.5, 3))\n",
        "plt.hist(data_cluster_k3['Cluster'], align='left', color='blue', bins=[1,2,3,4])\n",
        "plt.xlabel('Cluster (k = 3)')\n",
        "plt.ylabel('Nº Personas')\n",
        "plt.title('Nº de personas por cluster')\n",
        "plt.show()"
      ],
      "execution_count": null,
      "outputs": [
        {
          "output_type": "display_data",
          "data": {
            "image/png": "[encoded data removed]",
            "text/plain": [
              "<Figure size 180x216 with 1 Axes>"
            ]
          },
          "metadata": {
            "tags": [],
            "needs_background": "light"
          }
        }
      ]
    },
    {
      "cell_type": "code",
      "metadata": {
        "scrolled": false,
        "id": "72y977OwEIA4",
        "colab_type": "code",
        "colab": {},
        "outputId": "7362baa9-d557-4780-8edc-df156f1d60bd"
      },
      "source": [
        "data_cluster_k3.groupby('Cluster').mean()"
      ],
      "execution_count": null,
      "outputs": [
        {
          "output_type": "execute_result",
          "data": {
            "text/html": [
              "<div>\n",
              "<style scoped>\n",
              "    .dataframe tbody tr th:only-of-type {\n",
              "        vertical-align: middle;\n",
              "    }\n",
              "\n",
              "    .dataframe tbody tr th {\n",
              "        vertical-align: top;\n",
              "    }\n",
              "\n",
              "    .dataframe thead th {\n",
              "        text-align: right;\n",
              "    }\n",
              "</style>\n",
              "<table border=\"1\" class=\"dataframe\">\n",
              "  <thead>\n",
              "    <tr style=\"text-align: right;\">\n",
              "      <th></th>\n",
              "      <th>Income</th>\n",
              "      <th>Location Code_Rural</th>\n",
              "      <th>Marital Status_Single</th>\n",
              "    </tr>\n",
              "    <tr>\n",
              "      <th>Cluster</th>\n",
              "      <th></th>\n",
              "      <th></th>\n",
              "      <th></th>\n",
              "    </tr>\n",
              "  </thead>\n",
              "  <tbody>\n",
              "    <tr>\n",
              "      <th>1</th>\n",
              "      <td>30339.757610</td>\n",
              "      <td>0.199831</td>\n",
              "      <td>0.162909</td>\n",
              "    </tr>\n",
              "    <tr>\n",
              "      <th>2</th>\n",
              "      <td>88295.060501</td>\n",
              "      <td>0.295592</td>\n",
              "      <td>0.145203</td>\n",
              "    </tr>\n",
              "    <tr>\n",
              "      <th>3</th>\n",
              "      <td>63522.568182</td>\n",
              "      <td>0.290720</td>\n",
              "      <td>0.182765</td>\n",
              "    </tr>\n",
              "  </tbody>\n",
              "</table>\n",
              "</div>"
            ],
            "text/plain": [
              "               Income  Location Code_Rural  Marital Status_Single\n",
              "Cluster                                                          \n",
              "1        30339.757610             0.199831               0.162909\n",
              "2        88295.060501             0.295592               0.145203\n",
              "3        63522.568182             0.290720               0.182765"
            ]
          },
          "metadata": {
            "tags": []
          },
          "execution_count": 56
        }
      ]
    },
    {
      "cell_type": "code",
      "metadata": {
        "id": "ikx8scd0EIA6",
        "colab_type": "code",
        "colab": {},
        "outputId": "667569fd-ade3-4a5f-c660-dd2d8dfd64b2"
      },
      "source": [
        "data_cluster_k3.groupby('Cluster')['Income'].describe()"
      ],
      "execution_count": null,
      "outputs": [
        {
          "output_type": "execute_result",
          "data": {
            "text/html": [
              "<div>\n",
              "<style scoped>\n",
              "    .dataframe tbody tr th:only-of-type {\n",
              "        vertical-align: middle;\n",
              "    }\n",
              "\n",
              "    .dataframe tbody tr th {\n",
              "        vertical-align: top;\n",
              "    }\n",
              "\n",
              "    .dataframe thead th {\n",
              "        text-align: right;\n",
              "    }\n",
              "</style>\n",
              "<table border=\"1\" class=\"dataframe\">\n",
              "  <thead>\n",
              "    <tr style=\"text-align: right;\">\n",
              "      <th></th>\n",
              "      <th>count</th>\n",
              "      <th>mean</th>\n",
              "      <th>std</th>\n",
              "      <th>min</th>\n",
              "      <th>25%</th>\n",
              "      <th>50%</th>\n",
              "      <th>75%</th>\n",
              "      <th>max</th>\n",
              "    </tr>\n",
              "    <tr>\n",
              "      <th>Cluster</th>\n",
              "      <th></th>\n",
              "      <th></th>\n",
              "      <th></th>\n",
              "      <th></th>\n",
              "      <th></th>\n",
              "      <th></th>\n",
              "      <th></th>\n",
              "      <th></th>\n",
              "    </tr>\n",
              "  </thead>\n",
              "  <tbody>\n",
              "    <tr>\n",
              "      <th>1</th>\n",
              "      <td>3548.0</td>\n",
              "      <td>30339.757610</td>\n",
              "      <td>10287.499137</td>\n",
              "      <td>10037.0</td>\n",
              "      <td>22692.5</td>\n",
              "      <td>28917.0</td>\n",
              "      <td>38415.75</td>\n",
              "      <td>54878.0</td>\n",
              "    </tr>\n",
              "    <tr>\n",
              "      <th>2</th>\n",
              "      <td>1157.0</td>\n",
              "      <td>88295.060501</td>\n",
              "      <td>6683.333020</td>\n",
              "      <td>75909.0</td>\n",
              "      <td>82875.0</td>\n",
              "      <td>88340.0</td>\n",
              "      <td>93987.00</td>\n",
              "      <td>99981.0</td>\n",
              "    </tr>\n",
              "    <tr>\n",
              "      <th>3</th>\n",
              "      <td>2112.0</td>\n",
              "      <td>63522.568182</td>\n",
              "      <td>8339.260715</td>\n",
              "      <td>47122.0</td>\n",
              "      <td>56970.0</td>\n",
              "      <td>63033.5</td>\n",
              "      <td>70346.50</td>\n",
              "      <td>81491.0</td>\n",
              "    </tr>\n",
              "  </tbody>\n",
              "</table>\n",
              "</div>"
            ],
            "text/plain": [
              "          count          mean           std      min      25%      50%  \\\n",
              "Cluster                                                                  \n",
              "1        3548.0  30339.757610  10287.499137  10037.0  22692.5  28917.0   \n",
              "2        1157.0  88295.060501   6683.333020  75909.0  82875.0  88340.0   \n",
              "3        2112.0  63522.568182   8339.260715  47122.0  56970.0  63033.5   \n",
              "\n",
              "              75%      max  \n",
              "Cluster                     \n",
              "1        38415.75  54878.0  \n",
              "2        93987.00  99981.0  \n",
              "3        70346.50  81491.0  "
            ]
          },
          "metadata": {
            "tags": []
          },
          "execution_count": 58
        }
      ]
    },
    {
      "cell_type": "markdown",
      "metadata": {
        "id": "juIVa9RYEIA8",
        "colab_type": "text"
      },
      "source": [
        "Ahora sí se ha conseguido que el peso de los ingresos anuales sea determinante a la hora de crear los clusters. No obstante, no hay ninguno de ellos en el que predominen personas que viven en entornos rurales o sean solteras, por tanto, se va a probar con un mayor número de clusters.\n",
        "\n",
        "#### k = 8"
      ]
    },
    {
      "cell_type": "code",
      "metadata": {
        "id": "eeVBUq_8EIA8",
        "colab_type": "code",
        "colab": {}
      },
      "source": [
        "data_balance = data_norm.copy()"
      ],
      "execution_count": null,
      "outputs": []
    },
    {
      "cell_type": "code",
      "metadata": {
        "id": "u3KGbmBaEIA_",
        "colab_type": "code",
        "colab": {},
        "outputId": "a044ed42-8f97-40e3-8976-c1b77f25f7c4"
      },
      "source": [
        "k = 8\n",
        "clusters = fcluster(Z, k, criterion=\"maxclust\")\n",
        "\n",
        "data_cluster_k8 = data.copy()\n",
        "\n",
        "data_cluster_k8['Cluster'] = clusters\n",
        "data_cluster_k8.head()"
      ],
      "execution_count": null,
      "outputs": [
        {
          "output_type": "execute_result",
          "data": {
            "text/html": [
              "<div>\n",
              "<style scoped>\n",
              "    .dataframe tbody tr th:only-of-type {\n",
              "        vertical-align: middle;\n",
              "    }\n",
              "\n",
              "    .dataframe tbody tr th {\n",
              "        vertical-align: top;\n",
              "    }\n",
              "\n",
              "    .dataframe thead th {\n",
              "        text-align: right;\n",
              "    }\n",
              "</style>\n",
              "<table border=\"1\" class=\"dataframe\">\n",
              "  <thead>\n",
              "    <tr style=\"text-align: right;\">\n",
              "      <th></th>\n",
              "      <th>Customer</th>\n",
              "      <th>Income</th>\n",
              "      <th>Location Code_Rural</th>\n",
              "      <th>Marital Status_Single</th>\n",
              "      <th>Cluster</th>\n",
              "    </tr>\n",
              "  </thead>\n",
              "  <tbody>\n",
              "    <tr>\n",
              "      <th>0</th>\n",
              "      <td>BU79786</td>\n",
              "      <td>56274</td>\n",
              "      <td>0</td>\n",
              "      <td>0</td>\n",
              "      <td>8</td>\n",
              "    </tr>\n",
              "    <tr>\n",
              "      <th>1</th>\n",
              "      <td>AI49188</td>\n",
              "      <td>48767</td>\n",
              "      <td>0</td>\n",
              "      <td>0</td>\n",
              "      <td>8</td>\n",
              "    </tr>\n",
              "    <tr>\n",
              "      <th>2</th>\n",
              "      <td>HB64268</td>\n",
              "      <td>43836</td>\n",
              "      <td>1</td>\n",
              "      <td>1</td>\n",
              "      <td>4</td>\n",
              "    </tr>\n",
              "    <tr>\n",
              "      <th>3</th>\n",
              "      <td>OC83172</td>\n",
              "      <td>62902</td>\n",
              "      <td>1</td>\n",
              "      <td>0</td>\n",
              "      <td>6</td>\n",
              "    </tr>\n",
              "    <tr>\n",
              "      <th>4</th>\n",
              "      <td>XZ87318</td>\n",
              "      <td>55350</td>\n",
              "      <td>0</td>\n",
              "      <td>0</td>\n",
              "      <td>8</td>\n",
              "    </tr>\n",
              "  </tbody>\n",
              "</table>\n",
              "</div>"
            ],
            "text/plain": [
              "  Customer  Income  Location Code_Rural  Marital Status_Single  Cluster\n",
              "0  BU79786   56274                    0                      0        8\n",
              "1  AI49188   48767                    0                      0        8\n",
              "2  HB64268   43836                    1                      1        4\n",
              "3  OC83172   62902                    1                      0        6\n",
              "4  XZ87318   55350                    0                      0        8"
            ]
          },
          "metadata": {
            "tags": []
          },
          "execution_count": 65
        }
      ]
    },
    {
      "cell_type": "code",
      "metadata": {
        "id": "x-INx7VWEIBB",
        "colab_type": "code",
        "colab": {},
        "outputId": "d515f058-818a-40db-b139-8f573d935d78"
      },
      "source": [
        "#Histograma: número de personas en cada cluster:\n",
        "\n",
        "plt.figure(figsize=(7, 5))\n",
        "plt.hist(data_cluster_k8['Cluster'], align='left', color='#006097', bins=[1,2,3,4,5,6,7,8,9])\n",
        "plt.xlabel('Cluster (k = 8)')\n",
        "plt.ylabel('Nº Personas')\n",
        "plt.title('Nº de personas por cluster')\n",
        "plt.show()"
      ],
      "execution_count": null,
      "outputs": [
        {
          "output_type": "display_data",
          "data": {
            "image/png": "[encoded data removed]",
            "text/plain": [
              "<Figure size 504x360 with 1 Axes>"
            ]
          },
          "metadata": {
            "tags": [],
            "needs_background": "light"
          }
        }
      ]
    },
    {
      "cell_type": "code",
      "metadata": {
        "id": "LwPEEXbKEIBE",
        "colab_type": "code",
        "colab": {},
        "outputId": "7c8b90aa-317c-4cdb-e4eb-94593f44be1e"
      },
      "source": [
        "data_cluster_k8.groupby('Cluster').mean()"
      ],
      "execution_count": null,
      "outputs": [
        {
          "output_type": "execute_result",
          "data": {
            "text/html": [
              "<div>\n",
              "<style scoped>\n",
              "    .dataframe tbody tr th:only-of-type {\n",
              "        vertical-align: middle;\n",
              "    }\n",
              "\n",
              "    .dataframe tbody tr th {\n",
              "        vertical-align: top;\n",
              "    }\n",
              "\n",
              "    .dataframe thead th {\n",
              "        text-align: right;\n",
              "    }\n",
              "</style>\n",
              "<table border=\"1\" class=\"dataframe\">\n",
              "  <thead>\n",
              "    <tr style=\"text-align: right;\">\n",
              "      <th></th>\n",
              "      <th>Income</th>\n",
              "      <th>Location Code_Rural</th>\n",
              "      <th>Marital Status_Single</th>\n",
              "    </tr>\n",
              "    <tr>\n",
              "      <th>Cluster</th>\n",
              "      <th></th>\n",
              "      <th></th>\n",
              "      <th></th>\n",
              "    </tr>\n",
              "  </thead>\n",
              "  <tbody>\n",
              "    <tr>\n",
              "      <th>1</th>\n",
              "      <td>40825.188627</td>\n",
              "      <td>0.000000</td>\n",
              "      <td>0.000000</td>\n",
              "    </tr>\n",
              "    <tr>\n",
              "      <th>2</th>\n",
              "      <td>37128.890572</td>\n",
              "      <td>1.000000</td>\n",
              "      <td>0.000000</td>\n",
              "    </tr>\n",
              "    <tr>\n",
              "      <th>3</th>\n",
              "      <td>23602.507553</td>\n",
              "      <td>0.000000</td>\n",
              "      <td>0.000000</td>\n",
              "    </tr>\n",
              "    <tr>\n",
              "      <th>4</th>\n",
              "      <td>29574.027682</td>\n",
              "      <td>0.198962</td>\n",
              "      <td>1.000000</td>\n",
              "    </tr>\n",
              "    <tr>\n",
              "      <th>5</th>\n",
              "      <td>88295.060501</td>\n",
              "      <td>0.295592</td>\n",
              "      <td>0.145203</td>\n",
              "    </tr>\n",
              "    <tr>\n",
              "      <th>6</th>\n",
              "      <td>68468.543186</td>\n",
              "      <td>1.000000</td>\n",
              "      <td>0.000000</td>\n",
              "    </tr>\n",
              "    <tr>\n",
              "      <th>7</th>\n",
              "      <td>62117.603627</td>\n",
              "      <td>0.240933</td>\n",
              "      <td>1.000000</td>\n",
              "    </tr>\n",
              "    <tr>\n",
              "      <th>8</th>\n",
              "      <td>61834.156017</td>\n",
              "      <td>0.000000</td>\n",
              "      <td>0.000000</td>\n",
              "    </tr>\n",
              "  </tbody>\n",
              "</table>\n",
              "</div>"
            ],
            "text/plain": [
              "               Income  Location Code_Rural  Marital Status_Single\n",
              "Cluster                                                          \n",
              "1        40825.188627             0.000000               0.000000\n",
              "2        37128.890572             1.000000               0.000000\n",
              "3        23602.507553             0.000000               0.000000\n",
              "4        29574.027682             0.198962               1.000000\n",
              "5        88295.060501             0.295592               0.145203\n",
              "6        68468.543186             1.000000               0.000000\n",
              "7        62117.603627             0.240933               1.000000\n",
              "8        61834.156017             0.000000               0.000000"
            ]
          },
          "metadata": {
            "tags": []
          },
          "execution_count": 71
        }
      ]
    },
    {
      "cell_type": "code",
      "metadata": {
        "id": "RBLiYjQAEIBH",
        "colab_type": "code",
        "colab": {},
        "outputId": "c8459009-4fcc-42a6-b42a-d6c48944326a"
      },
      "source": [
        "data_cluster_k8.groupby('Cluster')['Income'].describe()"
      ],
      "execution_count": null,
      "outputs": [
        {
          "output_type": "execute_result",
          "data": {
            "text/html": [
              "<div>\n",
              "<style scoped>\n",
              "    .dataframe tbody tr th:only-of-type {\n",
              "        vertical-align: middle;\n",
              "    }\n",
              "\n",
              "    .dataframe tbody tr th {\n",
              "        vertical-align: top;\n",
              "    }\n",
              "\n",
              "    .dataframe thead th {\n",
              "        text-align: right;\n",
              "    }\n",
              "</style>\n",
              "<table border=\"1\" class=\"dataframe\">\n",
              "  <thead>\n",
              "    <tr style=\"text-align: right;\">\n",
              "      <th></th>\n",
              "      <th>count</th>\n",
              "      <th>mean</th>\n",
              "      <th>std</th>\n",
              "      <th>min</th>\n",
              "      <th>25%</th>\n",
              "      <th>50%</th>\n",
              "      <th>75%</th>\n",
              "      <th>max</th>\n",
              "    </tr>\n",
              "    <tr>\n",
              "      <th>Cluster</th>\n",
              "      <th></th>\n",
              "      <th></th>\n",
              "      <th></th>\n",
              "      <th></th>\n",
              "      <th></th>\n",
              "      <th></th>\n",
              "      <th></th>\n",
              "      <th></th>\n",
              "    </tr>\n",
              "  </thead>\n",
              "  <tbody>\n",
              "    <tr>\n",
              "      <th>1</th>\n",
              "      <td>721.0</td>\n",
              "      <td>40825.188627</td>\n",
              "      <td>4086.580951</td>\n",
              "      <td>34062.0</td>\n",
              "      <td>37384.00</td>\n",
              "      <td>40516.0</td>\n",
              "      <td>44320.00</td>\n",
              "      <td>48448.0</td>\n",
              "    </tr>\n",
              "    <tr>\n",
              "      <th>2</th>\n",
              "      <td>594.0</td>\n",
              "      <td>37128.890572</td>\n",
              "      <td>10430.995212</td>\n",
              "      <td>10074.0</td>\n",
              "      <td>29538.75</td>\n",
              "      <td>37530.5</td>\n",
              "      <td>45700.25</td>\n",
              "      <td>54878.0</td>\n",
              "    </tr>\n",
              "    <tr>\n",
              "      <th>3</th>\n",
              "      <td>1655.0</td>\n",
              "      <td>23602.507553</td>\n",
              "      <td>5761.111099</td>\n",
              "      <td>10147.0</td>\n",
              "      <td>20149.00</td>\n",
              "      <td>23893.0</td>\n",
              "      <td>27906.50</td>\n",
              "      <td>33967.0</td>\n",
              "    </tr>\n",
              "    <tr>\n",
              "      <th>4</th>\n",
              "      <td>578.0</td>\n",
              "      <td>29574.027682</td>\n",
              "      <td>10352.260279</td>\n",
              "      <td>10037.0</td>\n",
              "      <td>22571.00</td>\n",
              "      <td>28867.5</td>\n",
              "      <td>37360.25</td>\n",
              "      <td>53703.0</td>\n",
              "    </tr>\n",
              "    <tr>\n",
              "      <th>5</th>\n",
              "      <td>1157.0</td>\n",
              "      <td>88295.060501</td>\n",
              "      <td>6683.333020</td>\n",
              "      <td>75909.0</td>\n",
              "      <td>82875.00</td>\n",
              "      <td>88340.0</td>\n",
              "      <td>93987.00</td>\n",
              "      <td>99981.0</td>\n",
              "    </tr>\n",
              "    <tr>\n",
              "      <th>6</th>\n",
              "      <td>521.0</td>\n",
              "      <td>68468.543186</td>\n",
              "      <td>7203.471671</td>\n",
              "      <td>55099.0</td>\n",
              "      <td>62120.00</td>\n",
              "      <td>68507.0</td>\n",
              "      <td>74965.00</td>\n",
              "      <td>81491.0</td>\n",
              "    </tr>\n",
              "    <tr>\n",
              "      <th>7</th>\n",
              "      <td>386.0</td>\n",
              "      <td>62117.603627</td>\n",
              "      <td>8996.514606</td>\n",
              "      <td>47122.0</td>\n",
              "      <td>54819.50</td>\n",
              "      <td>60920.0</td>\n",
              "      <td>69379.00</td>\n",
              "      <td>79681.0</td>\n",
              "    </tr>\n",
              "    <tr>\n",
              "      <th>8</th>\n",
              "      <td>1205.0</td>\n",
              "      <td>61834.156017</td>\n",
              "      <td>7718.041294</td>\n",
              "      <td>48534.0</td>\n",
              "      <td>55437.00</td>\n",
              "      <td>61146.0</td>\n",
              "      <td>68568.00</td>\n",
              "      <td>75774.0</td>\n",
              "    </tr>\n",
              "  </tbody>\n",
              "</table>\n",
              "</div>"
            ],
            "text/plain": [
              "          count          mean           std      min       25%      50%  \\\n",
              "Cluster                                                                   \n",
              "1         721.0  40825.188627   4086.580951  34062.0  37384.00  40516.0   \n",
              "2         594.0  37128.890572  10430.995212  10074.0  29538.75  37530.5   \n",
              "3        1655.0  23602.507553   5761.111099  10147.0  20149.00  23893.0   \n",
              "4         578.0  29574.027682  10352.260279  10037.0  22571.00  28867.5   \n",
              "5        1157.0  88295.060501   6683.333020  75909.0  82875.00  88340.0   \n",
              "6         521.0  68468.543186   7203.471671  55099.0  62120.00  68507.0   \n",
              "7         386.0  62117.603627   8996.514606  47122.0  54819.50  60920.0   \n",
              "8        1205.0  61834.156017   7718.041294  48534.0  55437.00  61146.0   \n",
              "\n",
              "              75%      max  \n",
              "Cluster                     \n",
              "1        44320.00  48448.0  \n",
              "2        45700.25  54878.0  \n",
              "3        27906.50  33967.0  \n",
              "4        37360.25  53703.0  \n",
              "5        93987.00  99981.0  \n",
              "6        74965.00  81491.0  \n",
              "7        69379.00  79681.0  \n",
              "8        68568.00  75774.0  "
            ]
          },
          "metadata": {
            "tags": []
          },
          "execution_count": 75
        }
      ]
    },
    {
      "cell_type": "markdown",
      "metadata": {
        "id": "5GPaN-QUEIBL",
        "colab_type": "text"
      },
      "source": [
        "### Descripción de cada Cluster:\n",
        "\n",
        "* **Cluster-1**: las personas de este grupo tienen unos ingresos medios anuales de 40.825 €. Ninguna de ellas vive en entornos rurales y tampoco está soltera.\n",
        "    * Podrían ser los destinatarios de una campaña de marketing de un **Monovolumen de precio medio**.\n",
        "\n",
        "\n",
        "* **Cluster-2**: las personas de este grupo tienen unos ingresos medios anuales de poco más de 37.000 €; el 75% presenta ingresos superiores a 29.500 €. Todos los individuos de este cluster *viven en entornos rurales* y *no están solteros*.\n",
        "    * Podrían ser los destinatarios de una campaña de marketing de un **Suv de precio medio**, ideal para carretera pero también para circular por caminos no asfaltados.\n",
        "\n",
        "\n",
        "* **Cluster-3**: es el cluster más numeroso (24,3%). Las personas de este grupo tienen unos ingresos medios anuales de 23.600 €; menos del 25% supera los 28.000 €. Ninguna de ellas vive en entornos rurales y tampoco está soltera.\n",
        "    * Podrían ser los destinatarios de una campaña de marketing de un **coche de pequeño o mediano tamaño y gama baja**.\n",
        "\n",
        "\n",
        "* **Cluster-4**: las personas de este grupo tienen unos ingresos medios anuales de 29.500 €; solo el 25% supera los 37.000 € anuales. Todas ellas son *solteras* y en su mayoría (más del 80%) viven en entornos *no rurales*.\n",
        "    * Podrían ser los destinatarios de una campaña de marketing de un **coche de pequeño tamaño, con acabados deportivos y de gama media**.\n",
        "\n",
        "\n",
        "* **Cluster-5**: las personas de este grupo tienen unos ingresos medios anuales de casi 88.300 €; el ingreso más bajo en este cluster se sitúa en los 75.900 €. Solo el 14,5% de los individuos está soltero y el 70% vive en entornos no rurales. Este cluster es el tercero más numeroso, segmentando a un 17% del total de personas.\n",
        "    * Podrían ser los destinatarios de una campaña de marketing de un **coche de medio y gran tamaño y de gama alta o superior**.\n",
        "\n",
        "\n",
        "* **Cluster-6**: las personas de este grupo tienen unos ingresos medios anuales de, aproximadamente, 68.500 €; solo el 25% dispone de unos ingresos superiores a los 75.000 €. Todas estas personas *viven en entornos rurales* y *no están solteras*.\n",
        "    * Podrían ser los destinatarios de una campaña de marketing de un **coche de gran tamaño y de gama media-alta o alta, como un 4x4 o un Suv**.\n",
        "\n",
        "\n",
        "* **Cluster-7**: es el cluster menos numeroso (5,7%). Las personas de este grupo tienen unos ingresos medios anuales de 62.100 €; casi el 75% supera los 55.000 € anuales. Todos los individuos *son solteros* y el *24,1% vive en entornos rurales*.\n",
        "    * Podrían ser los destinatarios de una campaña de marketing de un **Deportivo de gama alta**.\n",
        "\n",
        "\n",
        "* **Cluster-8**: es el segundo grupo más numeroso, con un 17,7% del total de individuos. Las características de ingresos anuales son prácticamente iguales a las observadas en el cluster-7; la diferencia reside en que *ninguna de las personas vive en entornos rurales o es soltera*.\n",
        "    * Podrían ser los destinatarios de una campaña de marketing de un **coche de tamaño medio o grande de gama media-alta, quizá una furgoneta familiar**."
      ]
    },
    {
      "cell_type": "markdown",
      "metadata": {
        "id": "DOPrjbFBEIBL",
        "colab_type": "text"
      },
      "source": [
        "Por último, un **Scater Plot** en 3 dimensiones. La forma singular de 4 barras verticales en cada una de las esquinas del plano horizontal se debe al hecho de que dos de las tres variables que se han tenido en cuenta son de origen categórico (sí/no) y han sido transformadas a valores numéricos (1 y 0)."
      ]
    },
    {
      "cell_type": "code",
      "metadata": {
        "id": "jIpVE6wrEIBM",
        "colab_type": "code",
        "colab": {}
      },
      "source": [
        "import matplotlib.pyplot as plt\n",
        "from mpl_toolkits.mplot3d import Axes3D"
      ],
      "execution_count": null,
      "outputs": []
    },
    {
      "cell_type": "code",
      "metadata": {
        "id": "BY51uOdqEIBO",
        "colab_type": "code",
        "colab": {},
        "outputId": "5f5cb623-5f40-4b02-84a3-d367f28a4186"
      },
      "source": [
        "fig = plt.figure()\n",
        "ax = fig.add_subplot(111, projection=\"3d\")\n",
        "ax.scatter(xs = data_balance[\"Marital Status_Single\"], ys = data_balance[\"Location Code_Rural\"], zs = data_balance[\"Income\"])"
      ],
      "execution_count": null,
      "outputs": [
        {
          "output_type": "execute_result",
          "data": {
            "text/plain": [
              "<mpl_toolkits.mplot3d.art3d.Path3DCollection at 0x2a401fe6408>"
            ]
          },
          "metadata": {
            "tags": []
          },
          "execution_count": 85
        },
        {
          "output_type": "display_data",
          "data": {
            "image/png": "[encoded data removed]",
            "text/plain": [
              "<Figure size 432x288 with 1 Axes>"
            ]
          },
          "metadata": {
            "tags": [],
            "needs_background": "light"
          }
        }
      ]
    }
  ]
}