{
  "nbformat": 4,
  "nbformat_minor": 0,
  "metadata": {
    "colab": {
      "name": "Web_Scraping.ipynb",
      "provenance": [],
      "collapsed_sections": [],
      "authorship_tag": "ABX9TyOUbUHbz6eexy7csQnHfDIi",
      "include_colab_link": true
    },
    "kernelspec": {
      "name": "python3",
      "display_name": "Python 3"
    }
  },
  "cells": [
    {
      "cell_type": "markdown",
      "metadata": {
        "id": "view-in-github",
        "colab_type": "text"
      },
      "source": [
        "<a href=\"https://colab.research.google.com/github/JotaMTB/Python_exercises/blob/master/Web_Scraping.ipynb\" target=\"_parent\"><img src=\"https://colab.research.google.com/assets/colab-badge.svg\" alt=\"Open In Colab\"/></a>"
      ]
    },
    {
      "cell_type": "markdown",
      "metadata": {
        "id": "iaBKhdPtn9kj",
        "colab_type": "text"
      },
      "source": [
        "#Web Scraping\n",
        "\n",
        "En ocasiones, puede resultar interensante extraer información de una página web, por ejemplo, todos sus enlaces.\n",
        "\n",
        "En este Notebook explico una forma de hacerlo."
      ]
    },
    {
      "cell_type": "code",
      "metadata": {
        "id": "k61tBOvmlgh9",
        "colab_type": "code",
        "colab": {}
      },
      "source": [
        "# Primero, las librerías que vamos a necesitar:\n",
        "\n",
        "import pandas as pd\n",
        "\n",
        "# Las librerías y funciones específicas para el escrapeo:\n",
        "\n",
        "from urllib.request import urlopen\n",
        "from bs4 import BeautifulSoup\n",
        "\n",
        "# La librería para exportar el listado con los enlaces escrapeados:\n",
        "\n",
        "from google.colab import files"
      ],
      "execution_count": 29,
      "outputs": []
    },
    {
      "cell_type": "code",
      "metadata": {
        "id": "HFZU3z63o8P8",
        "colab_type": "code",
        "colab": {
          "base_uri": "https://localhost:8080/",
          "height": 34
        },
        "outputId": "1def510e-a409-4182-9e65-ec9954e3e689"
      },
      "source": [
        "# Indicar la web a escrapear:\n",
        "\n",
        "url = \"https://www.elmundo.es/\"  # Cambia la dirección web por otra y haz tus pruebas :-)\n",
        "\n",
        "# Abrir la web, extraer la información y almacenarla en una lista:\n",
        "\n",
        "r = urlopen(url)\n",
        "bs = BeautifulSoup(r.read(), \"html.parser\")\n",
        "r.close()\n",
        "\n",
        "url_list = []\n",
        "\n",
        "for link in bs.find_all(\"a\"):\n",
        "    url_list.append(link.get(\"href\"))\n",
        "\n",
        "print(\"Web escrapeada.\")"
      ],
      "execution_count": 34,
      "outputs": [
        {
          "output_type": "stream",
          "text": [
            "Web escrapeada.\n"
          ],
          "name": "stdout"
        }
      ]
    },
    {
      "cell_type": "code",
      "metadata": {
        "id": "WD7qNlrrpl2j",
        "colab_type": "code",
        "colab": {
          "base_uri": "https://localhost:8080/",
          "height": 119
        },
        "outputId": "95f8eb9d-b608-4d59-906c-d623f99c9803"
      },
      "source": [
        "# Mostrar una muestra del contenido escrapeado:\n",
        "\n",
        "print(\"Número de líneas:\", len(url_list))\n",
        "url_list[0:5]"
      ],
      "execution_count": 32,
      "outputs": [
        {
          "output_type": "stream",
          "text": [
            "Número de líneas: 335\n"
          ],
          "name": "stdout"
        },
        {
          "output_type": "execute_result",
          "data": {
            "text/plain": [
              "['https://www.elmundo.es/ciencia-y-salud/salud/2020/09/23/5f6afa7921efa07b3f8b45fe.html',\n",
              " 'https://www.elmundo.es/espana/2020/09/23/5f6b03cdfdddffb5668b4663.html',\n",
              " 'https://www.elmundo.es/madrid/2020/09/23/5f6b0cf021efa04c6a8b45bb.html',\n",
              " 'https://www.elmundo.es/television/momentvs/2020/09/23/5f6ade2dfc6c8339778b4649.html',\n",
              " 'https://www.elmundo.es/ciencia-y-salud/salud/2020/09/23/5f6b05c421efa0d52d8b4641.html']"
            ]
          },
          "metadata": {
            "tags": []
          },
          "execution_count": 32
        }
      ]
    },
    {
      "cell_type": "code",
      "metadata": {
        "id": "j5EOLuABpr7G",
        "colab_type": "code",
        "colab": {
          "base_uri": "https://localhost:8080/",
          "height": 17
        },
        "outputId": "9e26c6a5-1128-494f-cb60-b886f85fa321"
      },
      "source": [
        "# Pasar el contenido de la lista a un archivo CSV.\n",
        "# Emplearé Pandas, creando un dataframe a partir de la lista y después guardándolo en un CSV.\n",
        "# Después descargaré el CSV.\n",
        "\n",
        "df = pd.DataFrame(data={\"col1\": url_list})\n",
        "df.to_csv(\"news_urls.csv\", index=False)\n",
        "files.download('news_urls.csv')"
      ],
      "execution_count": 33,
      "outputs": [
        {
          "output_type": "display_data",
          "data": {
            "application/javascript": [
              "\n",
              "    async function download(id, filename, size) {\n",
              "      if (!google.colab.kernel.accessAllowed) {\n",
              "        return;\n",
              "      }\n",
              "      const div = document.createElement('div');\n",
              "      const label = document.createElement('label');\n",
              "      label.textContent = `Downloading \"${filename}\": `;\n",
              "      div.appendChild(label);\n",
              "      const progress = document.createElement('progress');\n",
              "      progress.max = size;\n",
              "      div.appendChild(progress);\n",
              "      document.body.appendChild(div);\n",
              "\n",
              "      const buffers = [];\n",
              "      let downloaded = 0;\n",
              "\n",
              "      const channel = await google.colab.kernel.comms.open(id);\n",
              "      // Send a message to notify the kernel that we're ready.\n",
              "      channel.send({})\n",
              "\n",
              "      for await (const message of channel.messages) {\n",
              "        // Send a message to notify the kernel that we're ready.\n",
              "        channel.send({})\n",
              "        if (message.buffers) {\n",
              "          for (const buffer of message.buffers) {\n",
              "            buffers.push(buffer);\n",
              "            downloaded += buffer.byteLength;\n",
              "            progress.value = downloaded;\n",
              "          }\n",
              "        }\n",
              "      }\n",
              "      const blob = new Blob(buffers, {type: 'application/binary'});\n",
              "      const a = document.createElement('a');\n",
              "      a.href = window.URL.createObjectURL(blob);\n",
              "      a.download = filename;\n",
              "      div.appendChild(a);\n",
              "      a.click();\n",
              "      div.remove();\n",
              "    }\n",
              "  "
            ],
            "text/plain": [
              "<IPython.core.display.Javascript object>"
            ]
          },
          "metadata": {
            "tags": []
          }
        },
        {
          "output_type": "display_data",
          "data": {
            "application/javascript": [
              "download(\"download_b9297817-2f2d-44fc-8026-4dc5b64e9fef\", \"news_urls.csv\", 24942)"
            ],
            "text/plain": [
              "<IPython.core.display.Javascript object>"
            ]
          },
          "metadata": {
            "tags": []
          }
        }
      ]
    },
    {
      "cell_type": "markdown",
      "metadata": {
        "id": "ZHdc0msn3lIl",
        "colab_type": "text"
      },
      "source": [
        "¡Espero que estas líneas te sean de utilidad!"
      ]
    }
  ]
}