{
  "nbformat": 4,
  "nbformat_minor": 0,
  "metadata": {
    "kernelspec": {
      "display_name": "Python 3",
      "language": "python",
      "name": "python3"
    },
    "language_info": {
      "codemirror_mode": {
        "name": "ipython",
        "version": 3
      },
      "file_extension": ".py",
      "mimetype": "text/x-python",
      "name": "python",
      "nbconvert_exporter": "python",
      "pygments_lexer": "ipython3",
      "version": "3.7.0"
    },
    "colab": {
      "name": "Airplane Crashes.ipynb",
      "provenance": [],
      "collapsed_sections": [
        "gdHZbOCgpkAO"
      ],
      "include_colab_link": true
    }
  },
  "cells": [
    {
      "cell_type": "markdown",
      "metadata": {
        "id": "view-in-github",
        "colab_type": "text"
      },
      "source": [
        "<a href=\"https://colab.research.google.com/github/JotaMTB/Python_exercises/blob/master/Airplane_Crashes.ipynb\" target=\"_parent\"><img src=\"https://colab.research.google.com/assets/colab-badge.svg\" alt=\"Open In Colab\"/></a>"
      ]
    },
    {
      "cell_type": "markdown",
      "metadata": {
        "id": "bNsrPGCkpj_F",
        "colab_type": "text"
      },
      "source": [
        "## Análisis DataSet \"Accidentes de Aviones\" desde 1908 hasta 2009\n",
        "\n",
        "Fuente: https://data.world/data-society/airplane-crashes\n",
        "\n",
        "El análisis se centrará en los componentes cuantitativos de los fallecidos: número de pasajeros, cuántos de ellos fallecieron y el número de fallecidos en tierra a consecuencia del accidente.\n",
        "\n",
        "Se pretenden segmentar los accidentes de acuerdo a sus pasajeros y número de fallecidos, lo que supone un trabajo de creación de Clusters.\n",
        "\n",
        "Otra información como el modelo o marca de avión, el continente en el que ocurrió el accidente o el operador, también podrían ser empleados para la segmentación. No obstante, quedan fuera del alcance de esta primera revisión.\n",
        "\n",
        "La información de la fuente del DataSet afirma contener todos los accidentes aereos en el periodo indicado."
      ]
    },
    {
      "cell_type": "code",
      "metadata": {
        "id": "Hw1DWRZPpj_G",
        "colab_type": "code",
        "colab": {}
      },
      "source": [
        "import pandas as pd\n",
        "import numpy as np\n",
        "import matplotlib.pyplot as plt"
      ],
      "execution_count": 0,
      "outputs": []
    },
    {
      "cell_type": "code",
      "metadata": {
        "id": "nnsYrchCpj_J",
        "colab_type": "code",
        "colab": {}
      },
      "source": [
        "data = pd.read_csv('https://raw.githubusercontent.com/JotaMTB/Archivos_auxiliares/master/Airplane_Crashes.csv')"
      ],
      "execution_count": 0,
      "outputs": []
    },
    {
      "cell_type": "code",
      "metadata": {
        "id": "rjsjoKH0pj_L",
        "colab_type": "code",
        "outputId": "8a329dc0-e0ed-44a2-94c6-0142888baf9e",
        "colab": {
          "base_uri": "https://localhost:8080/",
          "height": 306
        }
      },
      "source": [
        "data.head()"
      ],
      "execution_count": 0,
      "outputs": [
        {
          "output_type": "execute_result",
          "data": {
            "text/html": [
              "<div>\n",
              "<style scoped>\n",
              "    .dataframe tbody tr th:only-of-type {\n",
              "        vertical-align: middle;\n",
              "    }\n",
              "\n",
              "    .dataframe tbody tr th {\n",
              "        vertical-align: top;\n",
              "    }\n",
              "\n",
              "    .dataframe thead th {\n",
              "        text-align: right;\n",
              "    }\n",
              "</style>\n",
              "<table border=\"1\" class=\"dataframe\">\n",
              "  <thead>\n",
              "    <tr style=\"text-align: right;\">\n",
              "      <th></th>\n",
              "      <th>Date</th>\n",
              "      <th>Time</th>\n",
              "      <th>Location</th>\n",
              "      <th>Operator</th>\n",
              "      <th>Flight #</th>\n",
              "      <th>Route</th>\n",
              "      <th>Type</th>\n",
              "      <th>Registration</th>\n",
              "      <th>cn/In</th>\n",
              "      <th>Aboard</th>\n",
              "      <th>Fatalities</th>\n",
              "      <th>Ground</th>\n",
              "      <th>Summary</th>\n",
              "    </tr>\n",
              "  </thead>\n",
              "  <tbody>\n",
              "    <tr>\n",
              "      <th>0</th>\n",
              "      <td>09/17/1908</td>\n",
              "      <td>17:18</td>\n",
              "      <td>Fort Myer, Virginia</td>\n",
              "      <td>Military - U.S. Army</td>\n",
              "      <td>NaN</td>\n",
              "      <td>Demonstration</td>\n",
              "      <td>Wright Flyer III</td>\n",
              "      <td>NaN</td>\n",
              "      <td>1</td>\n",
              "      <td>2.0</td>\n",
              "      <td>1.0</td>\n",
              "      <td>0.0</td>\n",
              "      <td>During a demonstration flight, a U.S. Army fly...</td>\n",
              "    </tr>\n",
              "    <tr>\n",
              "      <th>1</th>\n",
              "      <td>07/12/1912</td>\n",
              "      <td>06:30</td>\n",
              "      <td>AtlantiCity, New Jersey</td>\n",
              "      <td>Military - U.S. Navy</td>\n",
              "      <td>NaN</td>\n",
              "      <td>Test flight</td>\n",
              "      <td>Dirigible</td>\n",
              "      <td>NaN</td>\n",
              "      <td>NaN</td>\n",
              "      <td>5.0</td>\n",
              "      <td>5.0</td>\n",
              "      <td>0.0</td>\n",
              "      <td>First U.S. dirigible Akron exploded just offsh...</td>\n",
              "    </tr>\n",
              "    <tr>\n",
              "      <th>2</th>\n",
              "      <td>08/06/1913</td>\n",
              "      <td>NaN</td>\n",
              "      <td>Victoria, British Columbia, Canada</td>\n",
              "      <td>Private</td>\n",
              "      <td>-</td>\n",
              "      <td>NaN</td>\n",
              "      <td>Curtiss seaplane</td>\n",
              "      <td>NaN</td>\n",
              "      <td>NaN</td>\n",
              "      <td>1.0</td>\n",
              "      <td>1.0</td>\n",
              "      <td>0.0</td>\n",
              "      <td>The first fatal airplane accident in Canada oc...</td>\n",
              "    </tr>\n",
              "    <tr>\n",
              "      <th>3</th>\n",
              "      <td>09/09/1913</td>\n",
              "      <td>18:30</td>\n",
              "      <td>Over the North Sea</td>\n",
              "      <td>Military - German Navy</td>\n",
              "      <td>NaN</td>\n",
              "      <td>NaN</td>\n",
              "      <td>Zeppelin L-1 (airship)</td>\n",
              "      <td>NaN</td>\n",
              "      <td>NaN</td>\n",
              "      <td>20.0</td>\n",
              "      <td>14.0</td>\n",
              "      <td>0.0</td>\n",
              "      <td>The airship flew into a thunderstorm and encou...</td>\n",
              "    </tr>\n",
              "    <tr>\n",
              "      <th>4</th>\n",
              "      <td>10/17/1913</td>\n",
              "      <td>10:30</td>\n",
              "      <td>Near Johannisthal, Germany</td>\n",
              "      <td>Military - German Navy</td>\n",
              "      <td>NaN</td>\n",
              "      <td>NaN</td>\n",
              "      <td>Zeppelin L-2 (airship)</td>\n",
              "      <td>NaN</td>\n",
              "      <td>NaN</td>\n",
              "      <td>30.0</td>\n",
              "      <td>30.0</td>\n",
              "      <td>0.0</td>\n",
              "      <td>Hydrogen gas which was being vented was sucked...</td>\n",
              "    </tr>\n",
              "  </tbody>\n",
              "</table>\n",
              "</div>"
            ],
            "text/plain": [
              "         Date   Time  ... Ground                                            Summary\n",
              "0  09/17/1908  17:18  ...    0.0  During a demonstration flight, a U.S. Army fly...\n",
              "1  07/12/1912  06:30  ...    0.0  First U.S. dirigible Akron exploded just offsh...\n",
              "2  08/06/1913    NaN  ...    0.0  The first fatal airplane accident in Canada oc...\n",
              "3  09/09/1913  18:30  ...    0.0  The airship flew into a thunderstorm and encou...\n",
              "4  10/17/1913  10:30  ...    0.0  Hydrogen gas which was being vented was sucked...\n",
              "\n",
              "[5 rows x 13 columns]"
            ]
          },
          "metadata": {
            "tags": []
          },
          "execution_count": 4
        }
      ]
    },
    {
      "cell_type": "code",
      "metadata": {
        "id": "sLCXgYkspj_P",
        "colab_type": "code",
        "outputId": "98a9a2f8-2f07-48e1-dccb-ea151c8745e6",
        "colab": {
          "base_uri": "https://localhost:8080/",
          "height": 561
        }
      },
      "source": [
        "data.tail()"
      ],
      "execution_count": 0,
      "outputs": [
        {
          "output_type": "execute_result",
          "data": {
            "text/html": [
              "<div>\n",
              "<style scoped>\n",
              "    .dataframe tbody tr th:only-of-type {\n",
              "        vertical-align: middle;\n",
              "    }\n",
              "\n",
              "    .dataframe tbody tr th {\n",
              "        vertical-align: top;\n",
              "    }\n",
              "\n",
              "    .dataframe thead th {\n",
              "        text-align: right;\n",
              "    }\n",
              "</style>\n",
              "<table border=\"1\" class=\"dataframe\">\n",
              "  <thead>\n",
              "    <tr style=\"text-align: right;\">\n",
              "      <th></th>\n",
              "      <th>Date</th>\n",
              "      <th>Time</th>\n",
              "      <th>Location</th>\n",
              "      <th>Operator</th>\n",
              "      <th>Flight #</th>\n",
              "      <th>Route</th>\n",
              "      <th>Type</th>\n",
              "      <th>Registration</th>\n",
              "      <th>cn/In</th>\n",
              "      <th>Aboard</th>\n",
              "      <th>Fatalities</th>\n",
              "      <th>Ground</th>\n",
              "      <th>Summary</th>\n",
              "    </tr>\n",
              "  </thead>\n",
              "  <tbody>\n",
              "    <tr>\n",
              "      <th>5263</th>\n",
              "      <td>05/20/2009</td>\n",
              "      <td>06:30</td>\n",
              "      <td>Near Madiun, Indonesia</td>\n",
              "      <td>Military - Indonesian Air Force</td>\n",
              "      <td>NaN</td>\n",
              "      <td>Jakarta - Maduin</td>\n",
              "      <td>Lockheed C-130 Hercules</td>\n",
              "      <td>A-1325</td>\n",
              "      <td>1982</td>\n",
              "      <td>112.0</td>\n",
              "      <td>98.0</td>\n",
              "      <td>2.0</td>\n",
              "      <td>While on approach, the military transport cras...</td>\n",
              "    </tr>\n",
              "    <tr>\n",
              "      <th>5264</th>\n",
              "      <td>05/26/2009</td>\n",
              "      <td>NaN</td>\n",
              "      <td>Near Isiro, DemocratiRepubliCongo</td>\n",
              "      <td>Service Air</td>\n",
              "      <td>NaN</td>\n",
              "      <td>Goma - Isiro</td>\n",
              "      <td>Antonov An-26</td>\n",
              "      <td>9Q-CSA</td>\n",
              "      <td>5005</td>\n",
              "      <td>4.0</td>\n",
              "      <td>4.0</td>\n",
              "      <td>NaN</td>\n",
              "      <td>The cargo plane crashed while on approach to I...</td>\n",
              "    </tr>\n",
              "    <tr>\n",
              "      <th>5265</th>\n",
              "      <td>06/01/2009</td>\n",
              "      <td>00:15</td>\n",
              "      <td>AtlantiOcean, 570 miles northeast of Natal, Br...</td>\n",
              "      <td>Air France</td>\n",
              "      <td>447</td>\n",
              "      <td>Rio de Janeiro - Paris</td>\n",
              "      <td>Airbus A330-203</td>\n",
              "      <td>F-GZCP</td>\n",
              "      <td>660</td>\n",
              "      <td>228.0</td>\n",
              "      <td>228.0</td>\n",
              "      <td>0.0</td>\n",
              "      <td>The Airbus went missing over the AtlantiOcean ...</td>\n",
              "    </tr>\n",
              "    <tr>\n",
              "      <th>5266</th>\n",
              "      <td>06/07/2009</td>\n",
              "      <td>08:30</td>\n",
              "      <td>Near Port Hope Simpson, Newfoundland, Canada</td>\n",
              "      <td>Strait Air</td>\n",
              "      <td>NaN</td>\n",
              "      <td>Lourdes de BlanSablon - Port Hope Simpson</td>\n",
              "      <td>Britten-Norman BN-2A-27 Islander</td>\n",
              "      <td>C-FJJR</td>\n",
              "      <td>424</td>\n",
              "      <td>1.0</td>\n",
              "      <td>1.0</td>\n",
              "      <td>0.0</td>\n",
              "      <td>The air ambulance crashed into hills while att...</td>\n",
              "    </tr>\n",
              "    <tr>\n",
              "      <th>5267</th>\n",
              "      <td>06/08/2009</td>\n",
              "      <td>NaN</td>\n",
              "      <td>State of Arunachal Pradesh, India</td>\n",
              "      <td>Military - Indian Air Force</td>\n",
              "      <td>NaN</td>\n",
              "      <td>Mechuka for Jorhat</td>\n",
              "      <td>Antonov An-32</td>\n",
              "      <td>NaN</td>\n",
              "      <td>NaN</td>\n",
              "      <td>13.0</td>\n",
              "      <td>13.0</td>\n",
              "      <td>0.0</td>\n",
              "      <td>The military transport went missing while en r...</td>\n",
              "    </tr>\n",
              "  </tbody>\n",
              "</table>\n",
              "</div>"
            ],
            "text/plain": [
              "            Date  ...                                            Summary\n",
              "5263  05/20/2009  ...  While on approach, the military transport cras...\n",
              "5264  05/26/2009  ...  The cargo plane crashed while on approach to I...\n",
              "5265  06/01/2009  ...  The Airbus went missing over the AtlantiOcean ...\n",
              "5266  06/07/2009  ...  The air ambulance crashed into hills while att...\n",
              "5267  06/08/2009  ...  The military transport went missing while en r...\n",
              "\n",
              "[5 rows x 13 columns]"
            ]
          },
          "metadata": {
            "tags": []
          },
          "execution_count": 5
        }
      ]
    },
    {
      "cell_type": "code",
      "metadata": {
        "id": "u49gLfzUpj_R",
        "colab_type": "code",
        "outputId": "4fa138ac-9d55-402f-a3fd-9cdf02025c36",
        "colab": {}
      },
      "source": [
        "#Tamaño del DataFrame:\n",
        "\n",
        "data.shape"
      ],
      "execution_count": 0,
      "outputs": [
        {
          "output_type": "execute_result",
          "data": {
            "text/plain": [
              "(5268, 13)"
            ]
          },
          "metadata": {
            "tags": []
          },
          "execution_count": 14
        }
      ]
    },
    {
      "cell_type": "code",
      "metadata": {
        "id": "X7MnelFupj_U",
        "colab_type": "code",
        "outputId": "34a6470d-8d17-43cd-f2a1-e5f8211f2d3c",
        "colab": {}
      },
      "source": [
        "#Consulta del nombre de las columnas:\n",
        "\n",
        "data.columns.values.tolist()"
      ],
      "execution_count": 0,
      "outputs": [
        {
          "output_type": "execute_result",
          "data": {
            "text/plain": [
              "['Date',\n",
              " 'Time',\n",
              " 'Location',\n",
              " 'Operator',\n",
              " 'Flight #',\n",
              " 'Route',\n",
              " 'Type',\n",
              " 'Registration',\n",
              " 'cn/In',\n",
              " 'Aboard',\n",
              " 'Fatalities',\n",
              " 'Ground',\n",
              " 'Summary']"
            ]
          },
          "metadata": {
            "tags": []
          },
          "execution_count": 5
        }
      ]
    },
    {
      "cell_type": "code",
      "metadata": {
        "id": "IV0MUyxOpj_W",
        "colab_type": "code",
        "colab": {}
      },
      "source": [
        "#Filtrado de las columnas que servirán para el estudio.\n",
        "#Son las relacionadas con la cantidad de pasajeros que viajan, fallecidos en el accidente, y fallecidos que estaban en tierra.\n",
        "\n",
        "selected_colums = ['Aboard', 'Fatalities', 'Ground']"
      ],
      "execution_count": 0,
      "outputs": []
    },
    {
      "cell_type": "code",
      "metadata": {
        "id": "io_Vp-9Bpj_Z",
        "colab_type": "code",
        "colab": {}
      },
      "source": [
        "data = data[selected_colums]"
      ],
      "execution_count": 0,
      "outputs": []
    },
    {
      "cell_type": "code",
      "metadata": {
        "id": "_UEHtoqfpj_b",
        "colab_type": "code",
        "outputId": "c035ac44-1767-4173-be24-11b3f8a5207b",
        "colab": {}
      },
      "source": [
        "#DataFrame filtrado:\n",
        "\n",
        "data.head()"
      ],
      "execution_count": 0,
      "outputs": [
        {
          "output_type": "execute_result",
          "data": {
            "text/html": [
              "<div>\n",
              "<style scoped>\n",
              "    .dataframe tbody tr th:only-of-type {\n",
              "        vertical-align: middle;\n",
              "    }\n",
              "\n",
              "    .dataframe tbody tr th {\n",
              "        vertical-align: top;\n",
              "    }\n",
              "\n",
              "    .dataframe thead th {\n",
              "        text-align: right;\n",
              "    }\n",
              "</style>\n",
              "<table border=\"1\" class=\"dataframe\">\n",
              "  <thead>\n",
              "    <tr style=\"text-align: right;\">\n",
              "      <th></th>\n",
              "      <th>Aboard</th>\n",
              "      <th>Fatalities</th>\n",
              "      <th>Ground</th>\n",
              "    </tr>\n",
              "  </thead>\n",
              "  <tbody>\n",
              "    <tr>\n",
              "      <th>0</th>\n",
              "      <td>2.0</td>\n",
              "      <td>1.0</td>\n",
              "      <td>0.0</td>\n",
              "    </tr>\n",
              "    <tr>\n",
              "      <th>1</th>\n",
              "      <td>5.0</td>\n",
              "      <td>5.0</td>\n",
              "      <td>0.0</td>\n",
              "    </tr>\n",
              "    <tr>\n",
              "      <th>2</th>\n",
              "      <td>1.0</td>\n",
              "      <td>1.0</td>\n",
              "      <td>0.0</td>\n",
              "    </tr>\n",
              "    <tr>\n",
              "      <th>3</th>\n",
              "      <td>20.0</td>\n",
              "      <td>14.0</td>\n",
              "      <td>0.0</td>\n",
              "    </tr>\n",
              "    <tr>\n",
              "      <th>4</th>\n",
              "      <td>30.0</td>\n",
              "      <td>30.0</td>\n",
              "      <td>0.0</td>\n",
              "    </tr>\n",
              "  </tbody>\n",
              "</table>\n",
              "</div>"
            ],
            "text/plain": [
              "   Aboard  Fatalities  Ground\n",
              "0     2.0         1.0     0.0\n",
              "1     5.0         5.0     0.0\n",
              "2     1.0         1.0     0.0\n",
              "3    20.0        14.0     0.0\n",
              "4    30.0        30.0     0.0"
            ]
          },
          "metadata": {
            "tags": []
          },
          "execution_count": 16
        }
      ]
    },
    {
      "cell_type": "code",
      "metadata": {
        "id": "n-r-uvu3pj_d",
        "colab_type": "code",
        "outputId": "2df20680-1222-44f4-ea74-47de09d8ecca",
        "colab": {}
      },
      "source": [
        "#Tareas de limpieza del DataFrame:\n",
        "\n",
        "print('Datos que faltan en la columna Aboard: ', pd.isnull(data[\"Aboard\"]).values.ravel().sum())\n",
        "print('Datos que faltan en la columna Fatalities: ', pd.isnull(data[\"Fatalities\"]).values.ravel().sum())\n",
        "print('Datos que faltan en la columna Ground: ', pd.isnull(data[\"Ground\"]).values.ravel().sum())"
      ],
      "execution_count": 0,
      "outputs": [
        {
          "output_type": "stream",
          "text": [
            "Datos que faltan en la columna Aboard:  22\n",
            "Datos que faltan en la columna Fatalities:  12\n",
            "Datos que faltan en la columna Ground:  22\n"
          ],
          "name": "stdout"
        }
      ]
    },
    {
      "cell_type": "markdown",
      "metadata": {
        "id": "vVfloODEpj_f",
        "colab_type": "text"
      },
      "source": [
        "Son muy pocos los valores afectados, será buena idea eliminar las líneas que los contienen."
      ]
    },
    {
      "cell_type": "code",
      "metadata": {
        "id": "9Zm1X0j5pj_g",
        "colab_type": "code",
        "outputId": "1090447d-205f-4abe-f713-bab0d846fb3e",
        "colab": {}
      },
      "source": [
        "data = data.dropna(axis=0, how=\"any\")\n",
        "data.shape"
      ],
      "execution_count": 0,
      "outputs": [
        {
          "output_type": "execute_result",
          "data": {
            "text/plain": [
              "(5236, 3)"
            ]
          },
          "metadata": {
            "tags": []
          },
          "execution_count": 21
        }
      ]
    },
    {
      "cell_type": "markdown",
      "metadata": {
        "id": "2fI07xGJpj_i",
        "colab_type": "text"
      },
      "source": [
        "Se han eliminado --> 5268 - 5236 = **32 filas**."
      ]
    },
    {
      "cell_type": "markdown",
      "metadata": {
        "id": "uqm1YYrMpj_i",
        "colab_type": "text"
      },
      "source": [
        "Comienza el trabajo de creación de los **CLUSTERS**\n",
        "\n",
        "* Obtención del dendrograma para observar el número adecuado de clusters.\n",
        "* Comprobación con el método del codo."
      ]
    },
    {
      "cell_type": "code",
      "metadata": {
        "id": "mWKhD2bMpj_j",
        "colab_type": "code",
        "colab": {}
      },
      "source": [
        "from scipy.cluster.hierarchy import dendrogram, linkage\n",
        "from scipy.cluster.hierarchy import cophenet\n",
        "from scipy.spatial.distance import pdist"
      ],
      "execution_count": 0,
      "outputs": []
    },
    {
      "cell_type": "code",
      "metadata": {
        "id": "LbP7v79Tpj_l",
        "colab_type": "code",
        "colab": {}
      },
      "source": [
        "#Obtención de la matriz de distancias:\n",
        "\n",
        "Z = linkage(data, \"ward\")"
      ],
      "execution_count": 0,
      "outputs": []
    },
    {
      "cell_type": "code",
      "metadata": {
        "id": "uuIVnLOWpj_n",
        "colab_type": "code",
        "outputId": "f45fd739-50b8-4796-a263-bd8bf4ce3fe2",
        "colab": {}
      },
      "source": [
        "#Valor del coeficiente cofenético:\n",
        "\n",
        "c, coph_dist = cophenet(Z, pdist(data))\n",
        "c"
      ],
      "execution_count": 0,
      "outputs": [
        {
          "output_type": "execute_result",
          "data": {
            "text/plain": [
              "0.5413299398664504"
            ]
          },
          "metadata": {
            "tags": []
          },
          "execution_count": 55
        }
      ]
    },
    {
      "cell_type": "code",
      "metadata": {
        "scrolled": true,
        "id": "8VjekAGjpj_p",
        "colab_type": "code",
        "outputId": "51b94414-9db3-4634-e5b4-4fa521af2720",
        "colab": {}
      },
      "source": [
        "#Obtención del dendrograma:\n",
        "\n",
        "plt.figure(figsize=(25,8))\n",
        "plt.title(\"Dendrograma\")\n",
        "plt.xlabel(\"Nº Observaciones\")\n",
        "plt.ylabel(\"Distancia\")\n",
        "dendrogram(Z, leaf_rotation=0., leaf_font_size=15.0, truncate_mode=\"lastp\", p=15, show_leaf_counts=True,\n",
        "           show_contracted=True) #'p=' cambia el nº de sub-cluster a mostrar.\n",
        "plt.show()"
      ],
      "execution_count": 0,
      "outputs": [
        {
          "output_type": "display_data",
          "data": {
            "image/png": "[encoded data removed]",
            "text/plain": [
              "<Figure size 1800x576 with 1 Axes>"
            ]
          },
          "metadata": {
            "tags": [],
            "needs_background": "light"
          }
        }
      ]
    },
    {
      "cell_type": "markdown",
      "metadata": {
        "id": "aC5_TmL1pj_r",
        "colab_type": "text"
      },
      "source": [
        "Viendo el dendograma, lo más claro sería inclinarse por 3 clusters diferentes, aunque podríamos hablar también de 4 o 7 clusters."
      ]
    },
    {
      "cell_type": "code",
      "metadata": {
        "id": "l36y9Z8fpj_r",
        "colab_type": "code",
        "outputId": "00f23262-0c05-417d-d3ec-14ae38c8f83b",
        "colab": {}
      },
      "source": [
        "#Método del codo:\n",
        "\n",
        "last = Z[-15:,2]\n",
        "last_rev = last[::-1]\n",
        "print(last_rev)\n",
        "idx = np.arange(1, len(last)+1)\n",
        "plt.plot(idx, last_rev)\n",
        "\n",
        "#Aceleración:\n",
        "acc = np.diff(last,2)\n",
        "acc_rev = acc[::-1]\n",
        "plt.plot(idx[:-2]+1, acc_rev)\n",
        "plt.show()\n",
        "k = acc_rev.argmax() +2\n",
        "print(\"El número óptimo de cluster es %s\"%str(k))"
      ],
      "execution_count": 0,
      "outputs": [
        {
          "output_type": "stream",
          "text": [
            "[5500.01157194 4101.92904644 2038.48955709 1443.3241849  1364.88915125\n",
            " 1289.1031172   990.54051642  839.1674013   601.81533003  523.33831844\n",
            "  518.52291293  517.15610592  448.39138916  365.2229591   327.0566067 ]\n"
          ],
          "name": "stdout"
        },
        {
          "output_type": "display_data",
          "data": {
            "image/png": "[encoded data removed]",
            "text/plain": [
              "<Figure size 432x288 with 1 Axes>"
            ]
          },
          "metadata": {
            "tags": [],
            "needs_background": "light"
          }
        },
        {
          "output_type": "stream",
          "text": [
            "El número óptimo de cluster es 3\n"
          ],
          "name": "stdout"
        }
      ]
    },
    {
      "cell_type": "markdown",
      "metadata": {
        "id": "jbsE1TeMpj_t",
        "colab_type": "text"
      },
      "source": [
        "Continúo el trabajo empleando **3 clusters**"
      ]
    },
    {
      "cell_type": "code",
      "metadata": {
        "id": "mpNkIzS2pj_u",
        "colab_type": "code",
        "colab": {}
      },
      "source": [
        "from scipy.cluster.hierarchy import fcluster"
      ],
      "execution_count": 0,
      "outputs": []
    },
    {
      "cell_type": "code",
      "metadata": {
        "id": "HYqDjiJkpj_w",
        "colab_type": "code",
        "outputId": "0029ef9b-63ef-4d5c-e929-6b322d9f2b37",
        "colab": {}
      },
      "source": [
        "##Usando el nº de cluster 'k':\n",
        "\n",
        "k = 3\n",
        "clusters = fcluster(Z, k, criterion=\"maxclust\")\n",
        "\n",
        "data_cluster = data.copy()\n",
        "\n",
        "data_cluster['Cluster'] = clusters\n",
        "data_cluster.head()"
      ],
      "execution_count": 0,
      "outputs": [
        {
          "output_type": "execute_result",
          "data": {
            "text/html": [
              "<div>\n",
              "<style scoped>\n",
              "    .dataframe tbody tr th:only-of-type {\n",
              "        vertical-align: middle;\n",
              "    }\n",
              "\n",
              "    .dataframe tbody tr th {\n",
              "        vertical-align: top;\n",
              "    }\n",
              "\n",
              "    .dataframe thead th {\n",
              "        text-align: right;\n",
              "    }\n",
              "</style>\n",
              "<table border=\"1\" class=\"dataframe\">\n",
              "  <thead>\n",
              "    <tr style=\"text-align: right;\">\n",
              "      <th></th>\n",
              "      <th>Aboard</th>\n",
              "      <th>Fatalities</th>\n",
              "      <th>Ground</th>\n",
              "      <th>Cluster</th>\n",
              "    </tr>\n",
              "  </thead>\n",
              "  <tbody>\n",
              "    <tr>\n",
              "      <th>0</th>\n",
              "      <td>2.0</td>\n",
              "      <td>1.0</td>\n",
              "      <td>0.0</td>\n",
              "      <td>2</td>\n",
              "    </tr>\n",
              "    <tr>\n",
              "      <th>1</th>\n",
              "      <td>5.0</td>\n",
              "      <td>5.0</td>\n",
              "      <td>0.0</td>\n",
              "      <td>2</td>\n",
              "    </tr>\n",
              "    <tr>\n",
              "      <th>2</th>\n",
              "      <td>1.0</td>\n",
              "      <td>1.0</td>\n",
              "      <td>0.0</td>\n",
              "      <td>2</td>\n",
              "    </tr>\n",
              "    <tr>\n",
              "      <th>3</th>\n",
              "      <td>20.0</td>\n",
              "      <td>14.0</td>\n",
              "      <td>0.0</td>\n",
              "      <td>2</td>\n",
              "    </tr>\n",
              "    <tr>\n",
              "      <th>4</th>\n",
              "      <td>30.0</td>\n",
              "      <td>30.0</td>\n",
              "      <td>0.0</td>\n",
              "      <td>2</td>\n",
              "    </tr>\n",
              "  </tbody>\n",
              "</table>\n",
              "</div>"
            ],
            "text/plain": [
              "   Aboard  Fatalities  Ground  Cluster\n",
              "0     2.0         1.0     0.0        2\n",
              "1     5.0         5.0     0.0        2\n",
              "2     1.0         1.0     0.0        2\n",
              "3    20.0        14.0     0.0        2\n",
              "4    30.0        30.0     0.0        2"
            ]
          },
          "metadata": {
            "tags": []
          },
          "execution_count": 68
        }
      ]
    },
    {
      "cell_type": "code",
      "metadata": {
        "id": "Mql-sj19pj_y",
        "colab_type": "code",
        "outputId": "0488dce9-cbf9-4523-97c4-2c7fb8ecd1e2",
        "colab": {}
      },
      "source": [
        "#Medias de pasajeros, pasajeros fallecidos y personas en tierra fallecias para cada Cluster:\n",
        "\n",
        "data_cluster.groupby('Cluster').mean()"
      ],
      "execution_count": 0,
      "outputs": [
        {
          "output_type": "execute_result",
          "data": {
            "text/html": [
              "<div>\n",
              "<style scoped>\n",
              "    .dataframe tbody tr th:only-of-type {\n",
              "        vertical-align: middle;\n",
              "    }\n",
              "\n",
              "    .dataframe tbody tr th {\n",
              "        vertical-align: top;\n",
              "    }\n",
              "\n",
              "    .dataframe thead th {\n",
              "        text-align: right;\n",
              "    }\n",
              "</style>\n",
              "<table border=\"1\" class=\"dataframe\">\n",
              "  <thead>\n",
              "    <tr style=\"text-align: right;\">\n",
              "      <th></th>\n",
              "      <th>Aboard</th>\n",
              "      <th>Fatalities</th>\n",
              "      <th>Ground</th>\n",
              "    </tr>\n",
              "    <tr>\n",
              "      <th>Cluster</th>\n",
              "      <th></th>\n",
              "      <th></th>\n",
              "      <th></th>\n",
              "    </tr>\n",
              "  </thead>\n",
              "  <tbody>\n",
              "    <tr>\n",
              "      <th>1</th>\n",
              "      <td>78.500000</td>\n",
              "      <td>78.500000</td>\n",
              "      <td>2750.000000</td>\n",
              "    </tr>\n",
              "    <tr>\n",
              "      <th>2</th>\n",
              "      <td>15.542322</td>\n",
              "      <td>12.340513</td>\n",
              "      <td>0.542322</td>\n",
              "    </tr>\n",
              "    <tr>\n",
              "      <th>3</th>\n",
              "      <td>122.059222</td>\n",
              "      <td>80.905245</td>\n",
              "      <td>0.707276</td>\n",
              "    </tr>\n",
              "  </tbody>\n",
              "</table>\n",
              "</div>"
            ],
            "text/plain": [
              "             Aboard  Fatalities       Ground\n",
              "Cluster                                     \n",
              "1         78.500000   78.500000  2750.000000\n",
              "2         15.542322   12.340513     0.542322\n",
              "3        122.059222   80.905245     0.707276"
            ]
          },
          "metadata": {
            "tags": []
          },
          "execution_count": 76
        }
      ]
    },
    {
      "cell_type": "code",
      "metadata": {
        "id": "e8IZmItbpj_0",
        "colab_type": "code",
        "outputId": "2908e942-a066-49b0-b928-ff8d53cba9b0",
        "colab": {}
      },
      "source": [
        "#Información estadística:\n",
        "\n",
        "data_cluster.groupby('Cluster').describe()"
      ],
      "execution_count": 0,
      "outputs": [
        {
          "output_type": "execute_result",
          "data": {
            "text/html": [
              "<div>\n",
              "<style scoped>\n",
              "    .dataframe tbody tr th:only-of-type {\n",
              "        vertical-align: middle;\n",
              "    }\n",
              "\n",
              "    .dataframe tbody tr th {\n",
              "        vertical-align: top;\n",
              "    }\n",
              "\n",
              "    .dataframe thead tr th {\n",
              "        text-align: left;\n",
              "    }\n",
              "\n",
              "    .dataframe thead tr:last-of-type th {\n",
              "        text-align: right;\n",
              "    }\n",
              "</style>\n",
              "<table border=\"1\" class=\"dataframe\">\n",
              "  <thead>\n",
              "    <tr>\n",
              "      <th></th>\n",
              "      <th colspan=\"8\" halign=\"left\">Aboard</th>\n",
              "      <th colspan=\"5\" halign=\"left\">Fatalities</th>\n",
              "      <th colspan=\"8\" halign=\"left\">Ground</th>\n",
              "    </tr>\n",
              "    <tr>\n",
              "      <th></th>\n",
              "      <th>count</th>\n",
              "      <th>mean</th>\n",
              "      <th>std</th>\n",
              "      <th>min</th>\n",
              "      <th>25%</th>\n",
              "      <th>50%</th>\n",
              "      <th>75%</th>\n",
              "      <th>max</th>\n",
              "      <th>count</th>\n",
              "      <th>mean</th>\n",
              "      <th>...</th>\n",
              "      <th>75%</th>\n",
              "      <th>max</th>\n",
              "      <th>count</th>\n",
              "      <th>mean</th>\n",
              "      <th>std</th>\n",
              "      <th>min</th>\n",
              "      <th>25%</th>\n",
              "      <th>50%</th>\n",
              "      <th>75%</th>\n",
              "      <th>max</th>\n",
              "    </tr>\n",
              "    <tr>\n",
              "      <th>Cluster</th>\n",
              "      <th></th>\n",
              "      <th></th>\n",
              "      <th></th>\n",
              "      <th></th>\n",
              "      <th></th>\n",
              "      <th></th>\n",
              "      <th></th>\n",
              "      <th></th>\n",
              "      <th></th>\n",
              "      <th></th>\n",
              "      <th></th>\n",
              "      <th></th>\n",
              "      <th></th>\n",
              "      <th></th>\n",
              "      <th></th>\n",
              "      <th></th>\n",
              "      <th></th>\n",
              "      <th></th>\n",
              "      <th></th>\n",
              "      <th></th>\n",
              "      <th></th>\n",
              "    </tr>\n",
              "  </thead>\n",
              "  <tbody>\n",
              "    <tr>\n",
              "      <th>1</th>\n",
              "      <td>2.0</td>\n",
              "      <td>78.500000</td>\n",
              "      <td>19.091883</td>\n",
              "      <td>65.0</td>\n",
              "      <td>71.75</td>\n",
              "      <td>78.5</td>\n",
              "      <td>85.25</td>\n",
              "      <td>92.0</td>\n",
              "      <td>2.0</td>\n",
              "      <td>78.500000</td>\n",
              "      <td>...</td>\n",
              "      <td>85.25</td>\n",
              "      <td>92.0</td>\n",
              "      <td>2.0</td>\n",
              "      <td>2750.000000</td>\n",
              "      <td>0.000000</td>\n",
              "      <td>2750.0</td>\n",
              "      <td>2750.0</td>\n",
              "      <td>2750.0</td>\n",
              "      <td>2750.0</td>\n",
              "      <td>2750.0</td>\n",
              "    </tr>\n",
              "    <tr>\n",
              "      <th>2</th>\n",
              "      <td>4643.0</td>\n",
              "      <td>15.542322</td>\n",
              "      <td>14.242442</td>\n",
              "      <td>0.0</td>\n",
              "      <td>4.00</td>\n",
              "      <td>11.0</td>\n",
              "      <td>22.00</td>\n",
              "      <td>84.0</td>\n",
              "      <td>4643.0</td>\n",
              "      <td>12.340513</td>\n",
              "      <td>...</td>\n",
              "      <td>18.00</td>\n",
              "      <td>84.0</td>\n",
              "      <td>4643.0</td>\n",
              "      <td>0.542322</td>\n",
              "      <td>5.973560</td>\n",
              "      <td>0.0</td>\n",
              "      <td>0.0</td>\n",
              "      <td>0.0</td>\n",
              "      <td>0.0</td>\n",
              "      <td>225.0</td>\n",
              "    </tr>\n",
              "    <tr>\n",
              "      <th>3</th>\n",
              "      <td>591.0</td>\n",
              "      <td>122.059222</td>\n",
              "      <td>69.300585</td>\n",
              "      <td>53.0</td>\n",
              "      <td>78.00</td>\n",
              "      <td>102.0</td>\n",
              "      <td>142.50</td>\n",
              "      <td>644.0</td>\n",
              "      <td>591.0</td>\n",
              "      <td>80.905245</td>\n",
              "      <td>...</td>\n",
              "      <td>109.00</td>\n",
              "      <td>583.0</td>\n",
              "      <td>591.0</td>\n",
              "      <td>0.707276</td>\n",
              "      <td>3.858593</td>\n",
              "      <td>0.0</td>\n",
              "      <td>0.0</td>\n",
              "      <td>0.0</td>\n",
              "      <td>0.0</td>\n",
              "      <td>47.0</td>\n",
              "    </tr>\n",
              "  </tbody>\n",
              "</table>\n",
              "<p>3 rows × 24 columns</p>\n",
              "</div>"
            ],
            "text/plain": [
              "         Aboard                                                            \\\n",
              "          count        mean        std   min    25%    50%     75%    max   \n",
              "Cluster                                                                     \n",
              "1           2.0   78.500000  19.091883  65.0  71.75   78.5   85.25   92.0   \n",
              "2        4643.0   15.542322  14.242442   0.0   4.00   11.0   22.00   84.0   \n",
              "3         591.0  122.059222  69.300585  53.0  78.00  102.0  142.50  644.0   \n",
              "\n",
              "        Fatalities              ...                   Ground               \\\n",
              "             count       mean   ...       75%    max   count         mean   \n",
              "Cluster                         ...                                         \n",
              "1              2.0  78.500000   ...     85.25   92.0     2.0  2750.000000   \n",
              "2           4643.0  12.340513   ...     18.00   84.0  4643.0     0.542322   \n",
              "3            591.0  80.905245   ...    109.00  583.0   591.0     0.707276   \n",
              "\n",
              "                                                           \n",
              "              std     min     25%     50%     75%     max  \n",
              "Cluster                                                    \n",
              "1        0.000000  2750.0  2750.0  2750.0  2750.0  2750.0  \n",
              "2        5.973560     0.0     0.0     0.0     0.0   225.0  \n",
              "3        3.858593     0.0     0.0     0.0     0.0    47.0  \n",
              "\n",
              "[3 rows x 24 columns]"
            ]
          },
          "metadata": {
            "tags": []
          },
          "execution_count": 81
        }
      ]
    },
    {
      "cell_type": "code",
      "metadata": {
        "id": "PGEnYMI5pj_2",
        "colab_type": "code",
        "outputId": "af735ecc-9605-4668-d845-64a755e23edd",
        "colab": {}
      },
      "source": [
        "#Histograma: número de accidentes en cada cluster:\n",
        "\n",
        "plt.figure(figsize=(2.5, 3))\n",
        "plt.hist(data_cluster['Cluster'], align='left', color='lightgreen', bins=[1,2,3,4])\n",
        "plt.xlabel('Cluster (k = 3)')\n",
        "plt.ylabel('Nº Accidentes')\n",
        "plt.title('Nº de accidentes por cluster')\n",
        "plt.show()"
      ],
      "execution_count": 0,
      "outputs": [
        {
          "output_type": "display_data",
          "data": {
            "image/png": "[encoded data removed]",
            "text/plain": [
              "<Figure size 180x216 with 1 Axes>"
            ]
          },
          "metadata": {
            "tags": [],
            "needs_background": "light"
          }
        }
      ]
    },
    {
      "cell_type": "code",
      "metadata": {
        "id": "5rqzTekIpj_4",
        "colab_type": "code",
        "outputId": "3a856d9c-0ebc-498a-a89e-a940c28328d9",
        "colab": {}
      },
      "source": [
        "#Observación en detalle del cluster nº 1 que recoge los dos aviones estrellados en los atentados de NY de 2001.\n",
        "\n",
        "data_cluster[data_cluster['Cluster'] == 1]"
      ],
      "execution_count": 0,
      "outputs": [
        {
          "output_type": "execute_result",
          "data": {
            "text/html": [
              "<div>\n",
              "<style scoped>\n",
              "    .dataframe tbody tr th:only-of-type {\n",
              "        vertical-align: middle;\n",
              "    }\n",
              "\n",
              "    .dataframe tbody tr th {\n",
              "        vertical-align: top;\n",
              "    }\n",
              "\n",
              "    .dataframe thead th {\n",
              "        text-align: right;\n",
              "    }\n",
              "</style>\n",
              "<table border=\"1\" class=\"dataframe\">\n",
              "  <thead>\n",
              "    <tr style=\"text-align: right;\">\n",
              "      <th></th>\n",
              "      <th>Aboard</th>\n",
              "      <th>Fatalities</th>\n",
              "      <th>Ground</th>\n",
              "      <th>Cluster</th>\n",
              "    </tr>\n",
              "  </thead>\n",
              "  <tbody>\n",
              "    <tr>\n",
              "      <th>4803</th>\n",
              "      <td>92.0</td>\n",
              "      <td>92.0</td>\n",
              "      <td>2750.0</td>\n",
              "      <td>1</td>\n",
              "    </tr>\n",
              "    <tr>\n",
              "      <th>4804</th>\n",
              "      <td>65.0</td>\n",
              "      <td>65.0</td>\n",
              "      <td>2750.0</td>\n",
              "      <td>1</td>\n",
              "    </tr>\n",
              "  </tbody>\n",
              "</table>\n",
              "</div>"
            ],
            "text/plain": [
              "      Aboard  Fatalities  Ground  Cluster\n",
              "4803    92.0        92.0  2750.0        1\n",
              "4804    65.0        65.0  2750.0        1"
            ]
          },
          "metadata": {
            "tags": []
          },
          "execution_count": 74
        }
      ]
    },
    {
      "cell_type": "markdown",
      "metadata": {
        "id": "8Y_i1ITxpj_6",
        "colab_type": "text"
      },
      "source": [
        "De los 3 clusters creados, uno de ellos recoge casi el 90% de las observaciones. Voy a crear una nueva división indicando k=7 para obtener una mayor segregación de los datos:"
      ]
    },
    {
      "cell_type": "code",
      "metadata": {
        "id": "4JXoxZ-ppj_7",
        "colab_type": "code",
        "outputId": "a034afe8-736e-40e5-e3b2-1dea01fb1a28",
        "colab": {}
      },
      "source": [
        "k = 7\n",
        "clusters_7 = fcluster(Z, k, criterion=\"maxclust\")\n",
        "\n",
        "data_cluster_7 = data.copy()\n",
        "\n",
        "data_cluster_7['Cluster'] = clusters_7\n",
        "data_cluster_7.head()"
      ],
      "execution_count": 0,
      "outputs": [
        {
          "output_type": "execute_result",
          "data": {
            "text/html": [
              "<div>\n",
              "<style scoped>\n",
              "    .dataframe tbody tr th:only-of-type {\n",
              "        vertical-align: middle;\n",
              "    }\n",
              "\n",
              "    .dataframe tbody tr th {\n",
              "        vertical-align: top;\n",
              "    }\n",
              "\n",
              "    .dataframe thead th {\n",
              "        text-align: right;\n",
              "    }\n",
              "</style>\n",
              "<table border=\"1\" class=\"dataframe\">\n",
              "  <thead>\n",
              "    <tr style=\"text-align: right;\">\n",
              "      <th></th>\n",
              "      <th>Aboard</th>\n",
              "      <th>Fatalities</th>\n",
              "      <th>Ground</th>\n",
              "      <th>Cluster</th>\n",
              "    </tr>\n",
              "  </thead>\n",
              "  <tbody>\n",
              "    <tr>\n",
              "      <th>0</th>\n",
              "      <td>2.0</td>\n",
              "      <td>1.0</td>\n",
              "      <td>0.0</td>\n",
              "      <td>3</td>\n",
              "    </tr>\n",
              "    <tr>\n",
              "      <th>1</th>\n",
              "      <td>5.0</td>\n",
              "      <td>5.0</td>\n",
              "      <td>0.0</td>\n",
              "      <td>3</td>\n",
              "    </tr>\n",
              "    <tr>\n",
              "      <th>2</th>\n",
              "      <td>1.0</td>\n",
              "      <td>1.0</td>\n",
              "      <td>0.0</td>\n",
              "      <td>3</td>\n",
              "    </tr>\n",
              "    <tr>\n",
              "      <th>3</th>\n",
              "      <td>20.0</td>\n",
              "      <td>14.0</td>\n",
              "      <td>0.0</td>\n",
              "      <td>3</td>\n",
              "    </tr>\n",
              "    <tr>\n",
              "      <th>4</th>\n",
              "      <td>30.0</td>\n",
              "      <td>30.0</td>\n",
              "      <td>0.0</td>\n",
              "      <td>2</td>\n",
              "    </tr>\n",
              "  </tbody>\n",
              "</table>\n",
              "</div>"
            ],
            "text/plain": [
              "   Aboard  Fatalities  Ground  Cluster\n",
              "0     2.0         1.0     0.0        3\n",
              "1     5.0         5.0     0.0        3\n",
              "2     1.0         1.0     0.0        3\n",
              "3    20.0        14.0     0.0        3\n",
              "4    30.0        30.0     0.0        2"
            ]
          },
          "metadata": {
            "tags": []
          },
          "execution_count": 82
        }
      ]
    },
    {
      "cell_type": "code",
      "metadata": {
        "id": "RM7D9WiIpj_8",
        "colab_type": "code",
        "outputId": "25a9c74b-6843-45b5-bb61-f6408f14bbf9",
        "colab": {}
      },
      "source": [
        "#Medias de pasajeros, pasajeros fallecidos y personas en tierra fallecias para cada Cluster:\n",
        "\n",
        "##Pasajeros:\n",
        "data_cluster_7.groupby('Cluster')['Aboard'].describe()"
      ],
      "execution_count": 0,
      "outputs": [
        {
          "output_type": "execute_result",
          "data": {
            "text/html": [
              "<div>\n",
              "<style scoped>\n",
              "    .dataframe tbody tr th:only-of-type {\n",
              "        vertical-align: middle;\n",
              "    }\n",
              "\n",
              "    .dataframe tbody tr th {\n",
              "        vertical-align: top;\n",
              "    }\n",
              "\n",
              "    .dataframe thead th {\n",
              "        text-align: right;\n",
              "    }\n",
              "</style>\n",
              "<table border=\"1\" class=\"dataframe\">\n",
              "  <thead>\n",
              "    <tr style=\"text-align: right;\">\n",
              "      <th></th>\n",
              "      <th>count</th>\n",
              "      <th>mean</th>\n",
              "      <th>std</th>\n",
              "      <th>min</th>\n",
              "      <th>25%</th>\n",
              "      <th>50%</th>\n",
              "      <th>75%</th>\n",
              "      <th>max</th>\n",
              "    </tr>\n",
              "    <tr>\n",
              "      <th>Cluster</th>\n",
              "      <th></th>\n",
              "      <th></th>\n",
              "      <th></th>\n",
              "      <th></th>\n",
              "      <th></th>\n",
              "      <th></th>\n",
              "      <th></th>\n",
              "      <th></th>\n",
              "    </tr>\n",
              "  </thead>\n",
              "  <tbody>\n",
              "    <tr>\n",
              "      <th>1</th>\n",
              "      <td>2.0</td>\n",
              "      <td>78.500000</td>\n",
              "      <td>19.091883</td>\n",
              "      <td>65.0</td>\n",
              "      <td>71.75</td>\n",
              "      <td>78.5</td>\n",
              "      <td>85.25</td>\n",
              "      <td>92.0</td>\n",
              "    </tr>\n",
              "    <tr>\n",
              "      <th>2</th>\n",
              "      <td>1037.0</td>\n",
              "      <td>37.427194</td>\n",
              "      <td>11.459335</td>\n",
              "      <td>2.0</td>\n",
              "      <td>28.00</td>\n",
              "      <td>35.0</td>\n",
              "      <td>45.00</td>\n",
              "      <td>84.0</td>\n",
              "    </tr>\n",
              "    <tr>\n",
              "      <th>3</th>\n",
              "      <td>3606.0</td>\n",
              "      <td>9.248752</td>\n",
              "      <td>6.787315</td>\n",
              "      <td>0.0</td>\n",
              "      <td>3.00</td>\n",
              "      <td>7.0</td>\n",
              "      <td>14.00</td>\n",
              "      <td>34.0</td>\n",
              "    </tr>\n",
              "    <tr>\n",
              "      <th>4</th>\n",
              "      <td>22.0</td>\n",
              "      <td>320.636364</td>\n",
              "      <td>59.694098</td>\n",
              "      <td>257.0</td>\n",
              "      <td>291.25</td>\n",
              "      <td>301.0</td>\n",
              "      <td>337.50</td>\n",
              "      <td>517.0</td>\n",
              "    </tr>\n",
              "    <tr>\n",
              "      <th>5</th>\n",
              "      <td>27.0</td>\n",
              "      <td>285.814815</td>\n",
              "      <td>94.674762</td>\n",
              "      <td>213.0</td>\n",
              "      <td>232.00</td>\n",
              "      <td>260.0</td>\n",
              "      <td>282.50</td>\n",
              "      <td>644.0</td>\n",
              "    </tr>\n",
              "    <tr>\n",
              "      <th>6</th>\n",
              "      <td>160.0</td>\n",
              "      <td>139.143750</td>\n",
              "      <td>28.244852</td>\n",
              "      <td>101.0</td>\n",
              "      <td>115.00</td>\n",
              "      <td>132.0</td>\n",
              "      <td>160.00</td>\n",
              "      <td>226.0</td>\n",
              "    </tr>\n",
              "    <tr>\n",
              "      <th>7</th>\n",
              "      <td>382.0</td>\n",
              "      <td>91.892670</td>\n",
              "      <td>32.920512</td>\n",
              "      <td>53.0</td>\n",
              "      <td>70.00</td>\n",
              "      <td>83.0</td>\n",
              "      <td>100.00</td>\n",
              "      <td>239.0</td>\n",
              "    </tr>\n",
              "  </tbody>\n",
              "</table>\n",
              "</div>"
            ],
            "text/plain": [
              "          count        mean        std    min     25%    50%     75%    max\n",
              "Cluster                                                                    \n",
              "1           2.0   78.500000  19.091883   65.0   71.75   78.5   85.25   92.0\n",
              "2        1037.0   37.427194  11.459335    2.0   28.00   35.0   45.00   84.0\n",
              "3        3606.0    9.248752   6.787315    0.0    3.00    7.0   14.00   34.0\n",
              "4          22.0  320.636364  59.694098  257.0  291.25  301.0  337.50  517.0\n",
              "5          27.0  285.814815  94.674762  213.0  232.00  260.0  282.50  644.0\n",
              "6         160.0  139.143750  28.244852  101.0  115.00  132.0  160.00  226.0\n",
              "7         382.0   91.892670  32.920512   53.0   70.00   83.0  100.00  239.0"
            ]
          },
          "metadata": {
            "tags": []
          },
          "execution_count": 87
        }
      ]
    },
    {
      "cell_type": "code",
      "metadata": {
        "id": "0ZUnnRWlpj_-",
        "colab_type": "code",
        "outputId": "0fa7984a-9209-4540-df35-da56dc991f4a",
        "colab": {}
      },
      "source": [
        "##Pasajeros fallecidos:\n",
        "data_cluster_7.groupby('Cluster')['Fatalities'].describe()"
      ],
      "execution_count": 0,
      "outputs": [
        {
          "output_type": "execute_result",
          "data": {
            "text/html": [
              "<div>\n",
              "<style scoped>\n",
              "    .dataframe tbody tr th:only-of-type {\n",
              "        vertical-align: middle;\n",
              "    }\n",
              "\n",
              "    .dataframe tbody tr th {\n",
              "        vertical-align: top;\n",
              "    }\n",
              "\n",
              "    .dataframe thead th {\n",
              "        text-align: right;\n",
              "    }\n",
              "</style>\n",
              "<table border=\"1\" class=\"dataframe\">\n",
              "  <thead>\n",
              "    <tr style=\"text-align: right;\">\n",
              "      <th></th>\n",
              "      <th>count</th>\n",
              "      <th>mean</th>\n",
              "      <th>std</th>\n",
              "      <th>min</th>\n",
              "      <th>25%</th>\n",
              "      <th>50%</th>\n",
              "      <th>75%</th>\n",
              "      <th>max</th>\n",
              "    </tr>\n",
              "    <tr>\n",
              "      <th>Cluster</th>\n",
              "      <th></th>\n",
              "      <th></th>\n",
              "      <th></th>\n",
              "      <th></th>\n",
              "      <th></th>\n",
              "      <th></th>\n",
              "      <th></th>\n",
              "      <th></th>\n",
              "    </tr>\n",
              "  </thead>\n",
              "  <tbody>\n",
              "    <tr>\n",
              "      <th>1</th>\n",
              "      <td>2.0</td>\n",
              "      <td>78.500000</td>\n",
              "      <td>19.091883</td>\n",
              "      <td>65.0</td>\n",
              "      <td>71.75</td>\n",
              "      <td>78.5</td>\n",
              "      <td>85.25</td>\n",
              "      <td>92.0</td>\n",
              "    </tr>\n",
              "    <tr>\n",
              "      <th>2</th>\n",
              "      <td>1037.0</td>\n",
              "      <td>29.687560</td>\n",
              "      <td>12.973494</td>\n",
              "      <td>0.0</td>\n",
              "      <td>24.00</td>\n",
              "      <td>29.0</td>\n",
              "      <td>38.00</td>\n",
              "      <td>84.0</td>\n",
              "    </tr>\n",
              "    <tr>\n",
              "      <th>3</th>\n",
              "      <td>3606.0</td>\n",
              "      <td>7.351913</td>\n",
              "      <td>5.832294</td>\n",
              "      <td>0.0</td>\n",
              "      <td>3.00</td>\n",
              "      <td>5.0</td>\n",
              "      <td>11.00</td>\n",
              "      <td>23.0</td>\n",
              "    </tr>\n",
              "    <tr>\n",
              "      <th>4</th>\n",
              "      <td>22.0</td>\n",
              "      <td>19.818182</td>\n",
              "      <td>40.377547</td>\n",
              "      <td>0.0</td>\n",
              "      <td>1.00</td>\n",
              "      <td>2.0</td>\n",
              "      <td>14.25</td>\n",
              "      <td>155.0</td>\n",
              "    </tr>\n",
              "    <tr>\n",
              "      <th>5</th>\n",
              "      <td>27.0</td>\n",
              "      <td>279.296296</td>\n",
              "      <td>88.253923</td>\n",
              "      <td>183.0</td>\n",
              "      <td>229.00</td>\n",
              "      <td>259.0</td>\n",
              "      <td>282.50</td>\n",
              "      <td>583.0</td>\n",
              "    </tr>\n",
              "    <tr>\n",
              "      <th>6</th>\n",
              "      <td>160.0</td>\n",
              "      <td>128.218750</td>\n",
              "      <td>27.927280</td>\n",
              "      <td>59.0</td>\n",
              "      <td>109.00</td>\n",
              "      <td>123.5</td>\n",
              "      <td>145.00</td>\n",
              "      <td>200.0</td>\n",
              "    </tr>\n",
              "    <tr>\n",
              "      <th>7</th>\n",
              "      <td>382.0</td>\n",
              "      <td>50.583770</td>\n",
              "      <td>32.321337</td>\n",
              "      <td>0.0</td>\n",
              "      <td>13.00</td>\n",
              "      <td>61.0</td>\n",
              "      <td>77.00</td>\n",
              "      <td>100.0</td>\n",
              "    </tr>\n",
              "  </tbody>\n",
              "</table>\n",
              "</div>"
            ],
            "text/plain": [
              "          count        mean        std    min     25%    50%     75%    max\n",
              "Cluster                                                                    \n",
              "1           2.0   78.500000  19.091883   65.0   71.75   78.5   85.25   92.0\n",
              "2        1037.0   29.687560  12.973494    0.0   24.00   29.0   38.00   84.0\n",
              "3        3606.0    7.351913   5.832294    0.0    3.00    5.0   11.00   23.0\n",
              "4          22.0   19.818182  40.377547    0.0    1.00    2.0   14.25  155.0\n",
              "5          27.0  279.296296  88.253923  183.0  229.00  259.0  282.50  583.0\n",
              "6         160.0  128.218750  27.927280   59.0  109.00  123.5  145.00  200.0\n",
              "7         382.0   50.583770  32.321337    0.0   13.00   61.0   77.00  100.0"
            ]
          },
          "metadata": {
            "tags": []
          },
          "execution_count": 88
        }
      ]
    },
    {
      "cell_type": "code",
      "metadata": {
        "id": "pqxdrk76pkAB",
        "colab_type": "code",
        "outputId": "5f70723e-a215-4978-ecc5-b8eb1590c704",
        "colab": {}
      },
      "source": [
        "##Personas fallecidas en tierra:\n",
        "data_cluster_7.groupby('Cluster')['Ground'].describe()"
      ],
      "execution_count": 0,
      "outputs": [
        {
          "output_type": "execute_result",
          "data": {
            "text/html": [
              "<div>\n",
              "<style scoped>\n",
              "    .dataframe tbody tr th:only-of-type {\n",
              "        vertical-align: middle;\n",
              "    }\n",
              "\n",
              "    .dataframe tbody tr th {\n",
              "        vertical-align: top;\n",
              "    }\n",
              "\n",
              "    .dataframe thead th {\n",
              "        text-align: right;\n",
              "    }\n",
              "</style>\n",
              "<table border=\"1\" class=\"dataframe\">\n",
              "  <thead>\n",
              "    <tr style=\"text-align: right;\">\n",
              "      <th></th>\n",
              "      <th>count</th>\n",
              "      <th>mean</th>\n",
              "      <th>std</th>\n",
              "      <th>min</th>\n",
              "      <th>25%</th>\n",
              "      <th>50%</th>\n",
              "      <th>75%</th>\n",
              "      <th>max</th>\n",
              "    </tr>\n",
              "    <tr>\n",
              "      <th>Cluster</th>\n",
              "      <th></th>\n",
              "      <th></th>\n",
              "      <th></th>\n",
              "      <th></th>\n",
              "      <th></th>\n",
              "      <th></th>\n",
              "      <th></th>\n",
              "      <th></th>\n",
              "    </tr>\n",
              "  </thead>\n",
              "  <tbody>\n",
              "    <tr>\n",
              "      <th>1</th>\n",
              "      <td>2.0</td>\n",
              "      <td>2750.000000</td>\n",
              "      <td>0.000000</td>\n",
              "      <td>2750.0</td>\n",
              "      <td>2750.0</td>\n",
              "      <td>2750.0</td>\n",
              "      <td>2750.0</td>\n",
              "      <td>2750.0</td>\n",
              "    </tr>\n",
              "    <tr>\n",
              "      <th>2</th>\n",
              "      <td>1037.0</td>\n",
              "      <td>1.016393</td>\n",
              "      <td>10.766866</td>\n",
              "      <td>0.0</td>\n",
              "      <td>0.0</td>\n",
              "      <td>0.0</td>\n",
              "      <td>0.0</td>\n",
              "      <td>225.0</td>\n",
              "    </tr>\n",
              "    <tr>\n",
              "      <th>3</th>\n",
              "      <td>3606.0</td>\n",
              "      <td>0.405990</td>\n",
              "      <td>3.542632</td>\n",
              "      <td>0.0</td>\n",
              "      <td>0.0</td>\n",
              "      <td>0.0</td>\n",
              "      <td>0.0</td>\n",
              "      <td>63.0</td>\n",
              "    </tr>\n",
              "    <tr>\n",
              "      <th>4</th>\n",
              "      <td>22.0</td>\n",
              "      <td>0.136364</td>\n",
              "      <td>0.467563</td>\n",
              "      <td>0.0</td>\n",
              "      <td>0.0</td>\n",
              "      <td>0.0</td>\n",
              "      <td>0.0</td>\n",
              "      <td>2.0</td>\n",
              "    </tr>\n",
              "    <tr>\n",
              "      <th>5</th>\n",
              "      <td>27.0</td>\n",
              "      <td>0.666667</td>\n",
              "      <td>2.303843</td>\n",
              "      <td>0.0</td>\n",
              "      <td>0.0</td>\n",
              "      <td>0.0</td>\n",
              "      <td>0.0</td>\n",
              "      <td>11.0</td>\n",
              "    </tr>\n",
              "    <tr>\n",
              "      <th>6</th>\n",
              "      <td>160.0</td>\n",
              "      <td>1.012500</td>\n",
              "      <td>5.183413</td>\n",
              "      <td>0.0</td>\n",
              "      <td>0.0</td>\n",
              "      <td>0.0</td>\n",
              "      <td>0.0</td>\n",
              "      <td>45.0</td>\n",
              "    </tr>\n",
              "    <tr>\n",
              "      <th>7</th>\n",
              "      <td>382.0</td>\n",
              "      <td>0.615183</td>\n",
              "      <td>3.376790</td>\n",
              "      <td>0.0</td>\n",
              "      <td>0.0</td>\n",
              "      <td>0.0</td>\n",
              "      <td>0.0</td>\n",
              "      <td>47.0</td>\n",
              "    </tr>\n",
              "  </tbody>\n",
              "</table>\n",
              "</div>"
            ],
            "text/plain": [
              "          count         mean        std     min     25%     50%     75%  \\\n",
              "Cluster                                                                   \n",
              "1           2.0  2750.000000   0.000000  2750.0  2750.0  2750.0  2750.0   \n",
              "2        1037.0     1.016393  10.766866     0.0     0.0     0.0     0.0   \n",
              "3        3606.0     0.405990   3.542632     0.0     0.0     0.0     0.0   \n",
              "4          22.0     0.136364   0.467563     0.0     0.0     0.0     0.0   \n",
              "5          27.0     0.666667   2.303843     0.0     0.0     0.0     0.0   \n",
              "6         160.0     1.012500   5.183413     0.0     0.0     0.0     0.0   \n",
              "7         382.0     0.615183   3.376790     0.0     0.0     0.0     0.0   \n",
              "\n",
              "            max  \n",
              "Cluster          \n",
              "1        2750.0  \n",
              "2         225.0  \n",
              "3          63.0  \n",
              "4           2.0  \n",
              "5          11.0  \n",
              "6          45.0  \n",
              "7          47.0  "
            ]
          },
          "metadata": {
            "tags": []
          },
          "execution_count": 90
        }
      ]
    },
    {
      "cell_type": "code",
      "metadata": {
        "id": "ps773Q33pkAD",
        "colab_type": "code",
        "outputId": "63a04cc5-f3ba-4f5c-91cb-5b13ce2e3d22",
        "colab": {}
      },
      "source": [
        "#Vista de datos medios:\n",
        "\n",
        "data_cluster_7.groupby('Cluster').mean()"
      ],
      "execution_count": 0,
      "outputs": [
        {
          "output_type": "execute_result",
          "data": {
            "text/html": [
              "<div>\n",
              "<style scoped>\n",
              "    .dataframe tbody tr th:only-of-type {\n",
              "        vertical-align: middle;\n",
              "    }\n",
              "\n",
              "    .dataframe tbody tr th {\n",
              "        vertical-align: top;\n",
              "    }\n",
              "\n",
              "    .dataframe thead th {\n",
              "        text-align: right;\n",
              "    }\n",
              "</style>\n",
              "<table border=\"1\" class=\"dataframe\">\n",
              "  <thead>\n",
              "    <tr style=\"text-align: right;\">\n",
              "      <th></th>\n",
              "      <th>Aboard</th>\n",
              "      <th>Fatalities</th>\n",
              "      <th>Ground</th>\n",
              "    </tr>\n",
              "    <tr>\n",
              "      <th>Cluster</th>\n",
              "      <th></th>\n",
              "      <th></th>\n",
              "      <th></th>\n",
              "    </tr>\n",
              "  </thead>\n",
              "  <tbody>\n",
              "    <tr>\n",
              "      <th>1</th>\n",
              "      <td>78.500000</td>\n",
              "      <td>78.500000</td>\n",
              "      <td>2750.000000</td>\n",
              "    </tr>\n",
              "    <tr>\n",
              "      <th>2</th>\n",
              "      <td>37.427194</td>\n",
              "      <td>29.687560</td>\n",
              "      <td>1.016393</td>\n",
              "    </tr>\n",
              "    <tr>\n",
              "      <th>3</th>\n",
              "      <td>9.248752</td>\n",
              "      <td>7.351913</td>\n",
              "      <td>0.405990</td>\n",
              "    </tr>\n",
              "    <tr>\n",
              "      <th>4</th>\n",
              "      <td>320.636364</td>\n",
              "      <td>19.818182</td>\n",
              "      <td>0.136364</td>\n",
              "    </tr>\n",
              "    <tr>\n",
              "      <th>5</th>\n",
              "      <td>285.814815</td>\n",
              "      <td>279.296296</td>\n",
              "      <td>0.666667</td>\n",
              "    </tr>\n",
              "    <tr>\n",
              "      <th>6</th>\n",
              "      <td>139.143750</td>\n",
              "      <td>128.218750</td>\n",
              "      <td>1.012500</td>\n",
              "    </tr>\n",
              "    <tr>\n",
              "      <th>7</th>\n",
              "      <td>91.892670</td>\n",
              "      <td>50.583770</td>\n",
              "      <td>0.615183</td>\n",
              "    </tr>\n",
              "  </tbody>\n",
              "</table>\n",
              "</div>"
            ],
            "text/plain": [
              "             Aboard  Fatalities       Ground\n",
              "Cluster                                     \n",
              "1         78.500000   78.500000  2750.000000\n",
              "2         37.427194   29.687560     1.016393\n",
              "3          9.248752    7.351913     0.405990\n",
              "4        320.636364   19.818182     0.136364\n",
              "5        285.814815  279.296296     0.666667\n",
              "6        139.143750  128.218750     1.012500\n",
              "7         91.892670   50.583770     0.615183"
            ]
          },
          "metadata": {
            "tags": []
          },
          "execution_count": 84
        }
      ]
    },
    {
      "cell_type": "code",
      "metadata": {
        "id": "VQFaaXprpkAF",
        "colab_type": "code",
        "outputId": "ea9c95b1-bcfd-4031-be98-4a0cfad366f7",
        "colab": {}
      },
      "source": [
        "#Recuento de fallecidos en tierra:\n",
        "\n",
        "print('Número de accidentes con 10 o más fallecidos en tierra: ', data_cluster_7[data_cluster_7['Ground'] >= 10].shape[0])\n",
        "data_cluster_7[data_cluster_7['Ground'] >= 10].head()"
      ],
      "execution_count": 0,
      "outputs": [
        {
          "output_type": "stream",
          "text": [
            "Número de accidentes con 10 o más fallecidos en tierra:  68\n"
          ],
          "name": "stdout"
        },
        {
          "output_type": "execute_result",
          "data": {
            "text/html": [
              "<div>\n",
              "<style scoped>\n",
              "    .dataframe tbody tr th:only-of-type {\n",
              "        vertical-align: middle;\n",
              "    }\n",
              "\n",
              "    .dataframe tbody tr th {\n",
              "        vertical-align: top;\n",
              "    }\n",
              "\n",
              "    .dataframe thead th {\n",
              "        text-align: right;\n",
              "    }\n",
              "</style>\n",
              "<table border=\"1\" class=\"dataframe\">\n",
              "  <thead>\n",
              "    <tr style=\"text-align: right;\">\n",
              "      <th></th>\n",
              "      <th>Aboard</th>\n",
              "      <th>Fatalities</th>\n",
              "      <th>Ground</th>\n",
              "      <th>Cluster</th>\n",
              "    </tr>\n",
              "  </thead>\n",
              "  <tbody>\n",
              "    <tr>\n",
              "      <th>296</th>\n",
              "      <td>3.0</td>\n",
              "      <td>3.0</td>\n",
              "      <td>11.0</td>\n",
              "      <td>3</td>\n",
              "    </tr>\n",
              "    <tr>\n",
              "      <th>478</th>\n",
              "      <td>1.0</td>\n",
              "      <td>1.0</td>\n",
              "      <td>52.0</td>\n",
              "      <td>3</td>\n",
              "    </tr>\n",
              "    <tr>\n",
              "      <th>518</th>\n",
              "      <td>1.0</td>\n",
              "      <td>1.0</td>\n",
              "      <td>22.0</td>\n",
              "      <td>3</td>\n",
              "    </tr>\n",
              "    <tr>\n",
              "      <th>607</th>\n",
              "      <td>10.0</td>\n",
              "      <td>10.0</td>\n",
              "      <td>20.0</td>\n",
              "      <td>3</td>\n",
              "    </tr>\n",
              "    <tr>\n",
              "      <th>621</th>\n",
              "      <td>10.0</td>\n",
              "      <td>10.0</td>\n",
              "      <td>63.0</td>\n",
              "      <td>3</td>\n",
              "    </tr>\n",
              "  </tbody>\n",
              "</table>\n",
              "</div>"
            ],
            "text/plain": [
              "     Aboard  Fatalities  Ground  Cluster\n",
              "296     3.0         3.0    11.0        3\n",
              "478     1.0         1.0    52.0        3\n",
              "518     1.0         1.0    22.0        3\n",
              "607    10.0        10.0    20.0        3\n",
              "621    10.0        10.0    63.0        3"
            ]
          },
          "metadata": {
            "tags": []
          },
          "execution_count": 122
        }
      ]
    },
    {
      "cell_type": "code",
      "metadata": {
        "id": "AYEkH5h1pkAH",
        "colab_type": "code",
        "outputId": "c401ef0b-d743-45ae-fa0f-da50758b4ead",
        "colab": {}
      },
      "source": [
        "#Observación de casos en los que los vuelos llevaban más de 340 pasajeros:\n",
        "\n",
        "print('Número de vuelos con 340 o más pasjeros: ', data_cluster_7[data_cluster_7['Aboard'] >= 340].shape[0])\n",
        "data_cluster_7[data_cluster_7['Aboard'] >= 340].head(10)"
      ],
      "execution_count": 0,
      "outputs": [
        {
          "output_type": "stream",
          "text": [
            "Número de vuelos con 340 o más pasjeros:  10\n"
          ],
          "name": "stdout"
        },
        {
          "output_type": "execute_result",
          "data": {
            "text/html": [
              "<div>\n",
              "<style scoped>\n",
              "    .dataframe tbody tr th:only-of-type {\n",
              "        vertical-align: middle;\n",
              "    }\n",
              "\n",
              "    .dataframe tbody tr th {\n",
              "        vertical-align: top;\n",
              "    }\n",
              "\n",
              "    .dataframe thead th {\n",
              "        text-align: right;\n",
              "    }\n",
              "</style>\n",
              "<table border=\"1\" class=\"dataframe\">\n",
              "  <thead>\n",
              "    <tr style=\"text-align: right;\">\n",
              "      <th></th>\n",
              "      <th>Aboard</th>\n",
              "      <th>Fatalities</th>\n",
              "      <th>Ground</th>\n",
              "      <th>Cluster</th>\n",
              "    </tr>\n",
              "  </thead>\n",
              "  <tbody>\n",
              "    <tr>\n",
              "      <th>2726</th>\n",
              "      <td>346.0</td>\n",
              "      <td>346.0</td>\n",
              "      <td>0.0</td>\n",
              "      <td>5</td>\n",
              "    </tr>\n",
              "    <tr>\n",
              "      <th>2963</th>\n",
              "      <td>644.0</td>\n",
              "      <td>583.0</td>\n",
              "      <td>0.0</td>\n",
              "      <td>5</td>\n",
              "    </tr>\n",
              "    <tr>\n",
              "      <th>3378</th>\n",
              "      <td>394.0</td>\n",
              "      <td>50.0</td>\n",
              "      <td>0.0</td>\n",
              "      <td>4</td>\n",
              "    </tr>\n",
              "    <tr>\n",
              "      <th>3568</th>\n",
              "      <td>524.0</td>\n",
              "      <td>520.0</td>\n",
              "      <td>0.0</td>\n",
              "      <td>5</td>\n",
              "    </tr>\n",
              "    <tr>\n",
              "      <th>3640</th>\n",
              "      <td>384.0</td>\n",
              "      <td>16.0</td>\n",
              "      <td>1.0</td>\n",
              "      <td>4</td>\n",
              "    </tr>\n",
              "    <tr>\n",
              "      <th>3829</th>\n",
              "      <td>356.0</td>\n",
              "      <td>9.0</td>\n",
              "      <td>0.0</td>\n",
              "      <td>4</td>\n",
              "    </tr>\n",
              "    <tr>\n",
              "      <th>4154</th>\n",
              "      <td>340.0</td>\n",
              "      <td>56.0</td>\n",
              "      <td>0.0</td>\n",
              "      <td>4</td>\n",
              "    </tr>\n",
              "    <tr>\n",
              "      <th>4455</th>\n",
              "      <td>349.0</td>\n",
              "      <td>349.0</td>\n",
              "      <td>0.0</td>\n",
              "      <td>5</td>\n",
              "    </tr>\n",
              "    <tr>\n",
              "      <th>4536</th>\n",
              "      <td>393.0</td>\n",
              "      <td>1.0</td>\n",
              "      <td>0.0</td>\n",
              "      <td>4</td>\n",
              "    </tr>\n",
              "    <tr>\n",
              "      <th>4645</th>\n",
              "      <td>517.0</td>\n",
              "      <td>1.0</td>\n",
              "      <td>0.0</td>\n",
              "      <td>4</td>\n",
              "    </tr>\n",
              "  </tbody>\n",
              "</table>\n",
              "</div>"
            ],
            "text/plain": [
              "      Aboard  Fatalities  Ground  Cluster\n",
              "2726   346.0       346.0     0.0        5\n",
              "2963   644.0       583.0     0.0        5\n",
              "3378   394.0        50.0     0.0        4\n",
              "3568   524.0       520.0     0.0        5\n",
              "3640   384.0        16.0     1.0        4\n",
              "3829   356.0         9.0     0.0        4\n",
              "4154   340.0        56.0     0.0        4\n",
              "4455   349.0       349.0     0.0        5\n",
              "4536   393.0         1.0     0.0        4\n",
              "4645   517.0         1.0     0.0        4"
            ]
          },
          "metadata": {
            "tags": []
          },
          "execution_count": 174
        }
      ]
    },
    {
      "cell_type": "markdown",
      "metadata": {
        "id": "UFGqbmkjpkAK",
        "colab_type": "text"
      },
      "source": [
        "De los anteriores, solo 3 vuelos superan los 400 pasajeros, de hecho, superan los 500."
      ]
    },
    {
      "cell_type": "code",
      "metadata": {
        "id": "_zhugYL6pkAK",
        "colab_type": "code",
        "outputId": "5a3ad71b-f694-478a-c229-aaa0036894cf",
        "colab": {}
      },
      "source": [
        "#El accidente con más víctimas:\n",
        "\n",
        "data[2963:2964]"
      ],
      "execution_count": 0,
      "outputs": [
        {
          "output_type": "execute_result",
          "data": {
            "text/plain": [
              "2963    Both aircraft were diverted to Tenerife becaus...\n",
              "Name: Summary, dtype: object"
            ]
          },
          "metadata": {
            "tags": []
          },
          "execution_count": 184
        }
      ]
    },
    {
      "cell_type": "code",
      "metadata": {
        "scrolled": true,
        "id": "BkVaukekpkAM",
        "colab_type": "code",
        "outputId": "51e9afd7-7a8b-46a1-bf0b-df01e49de60b",
        "colab": {}
      },
      "source": [
        "#Histograma: número de accidentes en cada cluster:\n",
        "\n",
        "plt.figure(figsize=(11, 5))\n",
        "plt.hist(data_cluster_7['Cluster'], bins=[1,2,3,4,5,6,7,8], align='left', color='orange')\n",
        "plt.xlabel('Cluster (k = 7)')\n",
        "plt.ylabel('Nº Accidentes')\n",
        "plt.title('Nº de accidentes por cluster')\n",
        "plt.show()"
      ],
      "execution_count": 0,
      "outputs": [
        {
          "output_type": "display_data",
          "data": {
            "image/png": "[encoded data removed]",
            "text/plain": [
              "<Figure size 792x360 with 1 Axes>"
            ]
          },
          "metadata": {
            "tags": [],
            "needs_background": "light"
          }
        }
      ]
    },
    {
      "cell_type": "markdown",
      "metadata": {
        "id": "gdHZbOCgpkAO",
        "colab_type": "text"
      },
      "source": [
        "### Análisis de los clusters:\n",
        "\n",
        "* El **cluster-1** hace referencia a los dos aviones de los atentados de NY que impactaron contra las Torres Gemelas.\n",
        "\n",
        "* El **cluster-2** recoge el 20% del total de accidentes (el segundo grupo más numeroso). Sus características son accidentes en aeronaves cuyo promedio de pasajeros es de 37 personas (se presume que son aeronaves de tamaño medio) y en el 75% de los casos, de menos de 45 pasajeros. El promedio de fallecidos es de 30 pasajeros y en el 75% de los casos, menos de 40 personas. La tasa promedio de fallecidos es alta, superior al 80% de pasajeros.\n",
        "\n",
        "* El **cluster-3** es el más numeroso, con un 67,5% de los accidentes registrados. Son accidentes en los que el vuelo, de media, transportaba a 9 personas y en el 75% de los casos, menos de 14 pasajeros. Por tanto, es de suponer que son vuelos de pequeños aviones o no destinados al transporte comercial. La tasa de fallecidos también es alta, siendo de media el 79,5% de los pasajeros.\n",
        "\n",
        "* El **cluster-4** solo recoge el 0,42% de los casos (22 accidentes). Son vuelos con 320 pasajeros de media y 20 fallecidos promedio por accidente.\n",
        "\n",
        "* El **cluster-5** es el segundo más pequeño con un 0,52% de los casos (27 accidentes). Los vuelos transportan de media a 285 pasajeros y la tasa media de fallecidos es altísima, con casi un 98% de los pasajeros. Podrían resumirse los cluster 4 y 5 como aquellos que segmentan a los accidentes de vuelos más númerosos (podríamos pensar en vuelos intercontinentales o de largo recorrido) con la diferencia de que el primero (cluster 4) deja una tasa de fallecidos del 6% y el segundo (cluster 5) del 98%.\n",
        "\n",
        "* El **cluster-6** agrupa 160 accidentes, el 3% del total. La media de pasajeros de estos vuelos ha sido de 139 y en el 75% de los casos, de menos de 160 personas. La tasa media de fallecidos en el vuelo asciende a más del 92%.\n",
        "\n",
        "* El **cluster-7** supone el 7,3% de los accidentes (382 vuelos). La ocupación promedio de los vuelos es de 92 pasajeros e inferior a 100 en el 75% de los casos. La tasa de fallecidos es del 55%. Los cifras de pasajeros de los cluster 6 y 7 hacen pensar que agrupan vuelos nacionales y continentales de medio alcance.\n",
        "\n",
        "Respecto a las victimas en tierra, como es de esperar, encontramos que la media por accidente es igual o inferior a 1. Existen casos puntuales que sería interesante tratar (queda fuera del alcance de la primera versión de este análisis) y como resumen, de los más de 5.200 vuelos que componen el DataSet de estudio, un 1,3% (68 accidentes) ha registrado 10 o más fallecidos en tierra."
      ]
    },
    {
      "cell_type": "code",
      "metadata": {
        "id": "u_eSeYkipkAP",
        "colab_type": "code",
        "colab": {}
      },
      "source": [
        ""
      ],
      "execution_count": 0,
      "outputs": []
    }
  ]
}