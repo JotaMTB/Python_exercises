{
  "nbformat": 4,
  "nbformat_minor": 0,
  "metadata": {
    "colab": {
      "name": "Cómo crear variables dummy.ipynb",
      "provenance": [],
      "collapsed_sections": [],
      "authorship_tag": "ABX9TyNsDBKNIYlQzOyx+Kh1+Ah8",
      "include_colab_link": true
    },
    "kernelspec": {
      "name": "python3",
      "display_name": "Python 3"
    }
  },
  "cells": [
    {
      "cell_type": "markdown",
      "metadata": {
        "id": "view-in-github",
        "colab_type": "text"
      },
      "source": [
        "<a href=\"https://colab.research.google.com/github/JotaMTB/Python_exercises/blob/master/C%C3%B3mo_crear_variables_dummy.ipynb\" target=\"_parent\"><img src=\"https://colab.research.google.com/assets/colab-badge.svg\" alt=\"Open In Colab\"/></a>"
      ]
    },
    {
      "cell_type": "markdown",
      "metadata": {
        "id": "ZMvGXXmXTj2R",
        "colab_type": "text"
      },
      "source": [
        "##¿Cómo crear variables dummy en un DataFrame usando Python?\n",
        "El código explicado en el artículo de Linkedin con el mismo nombre."
      ]
    },
    {
      "cell_type": "code",
      "metadata": {
        "id": "eGiPgCIMTfZa",
        "colab_type": "code",
        "colab": {}
      },
      "source": [
        "#La función:\n",
        "\n",
        "data                                          #DataFrame de partida\n",
        "columns_to_dummy = ['Column 1', 'Column 2']   #lista que guarda el nombre de las columnas que se van a transformar en dummy.\n",
        "\n",
        "def dummy_generator(dataframe, columns_list):   #la función pide un DataFrame y una lista.\n",
        "    \n",
        "    for column in columns_list:                           #bucle para recorrer todas las columnas (los elementos de la lista).\n",
        "        col_dummies = pd.get_dummies(dataframe[column])   #almacena las nuevas columnas dummy.\n",
        "        dataframe = dataframe.join(col_dummies)           #se añaden las nuevas columnas dummy al DataFrame de partida.\n",
        "\n",
        "    dataframe = dataframe.drop(columns_list, axis=1)      #se eliminan las columnas de partida en el DataFrame.\n",
        "    return dataframe\n",
        "\n",
        "\n",
        "data = dummy_generator(data, columns_to_dummy)    #Para obtener el DataFrame modificado, se iguala a la función generadora."
      ],
      "execution_count": 0,
      "outputs": []
    },
    {
      "cell_type": "code",
      "metadata": {
        "id": "lpyHaJsET_bL",
        "colab_type": "code",
        "colab": {
          "base_uri": "https://localhost:8080/",
          "height": 266
        },
        "outputId": "3626c868-b98c-49b6-f0fa-2d17447434d6"
      },
      "source": [
        "#El ejemplo:\n",
        "\n",
        "import pandas as pd  #importando el paquete Pandas\n",
        "\n",
        "#Creación de dos listados con variables categóricas que serán las columnas del DataFrame:\n",
        "sexo = ['mujer', 'hombre', 'mujer', 'hombre', 'hombre', 'mujer', 'mujer']\n",
        "estado = ['soltero', 'casado', 'soltero', 'casado', 'soltero', 'casado', 'casado']\n",
        "\n",
        "#Creación del diccionario previo a la creación del DataFrame (data):\n",
        "main_dict = {'Sexo': sexo, 'Estado Civil': estado}\n",
        "data = pd.DataFrame(main_dict)\n",
        "\n",
        "#Visualización de los datos:\n",
        "data"
      ],
      "execution_count": 1,
      "outputs": [
        {
          "output_type": "execute_result",
          "data": {
            "text/html": [
              "<div>\n",
              "<style scoped>\n",
              "    .dataframe tbody tr th:only-of-type {\n",
              "        vertical-align: middle;\n",
              "    }\n",
              "\n",
              "    .dataframe tbody tr th {\n",
              "        vertical-align: top;\n",
              "    }\n",
              "\n",
              "    .dataframe thead th {\n",
              "        text-align: right;\n",
              "    }\n",
              "</style>\n",
              "<table border=\"1\" class=\"dataframe\">\n",
              "  <thead>\n",
              "    <tr style=\"text-align: right;\">\n",
              "      <th></th>\n",
              "      <th>Sexo</th>\n",
              "      <th>Estado Civil</th>\n",
              "    </tr>\n",
              "  </thead>\n",
              "  <tbody>\n",
              "    <tr>\n",
              "      <th>0</th>\n",
              "      <td>mujer</td>\n",
              "      <td>soltero</td>\n",
              "    </tr>\n",
              "    <tr>\n",
              "      <th>1</th>\n",
              "      <td>hombre</td>\n",
              "      <td>casado</td>\n",
              "    </tr>\n",
              "    <tr>\n",
              "      <th>2</th>\n",
              "      <td>mujer</td>\n",
              "      <td>soltero</td>\n",
              "    </tr>\n",
              "    <tr>\n",
              "      <th>3</th>\n",
              "      <td>hombre</td>\n",
              "      <td>casado</td>\n",
              "    </tr>\n",
              "    <tr>\n",
              "      <th>4</th>\n",
              "      <td>hombre</td>\n",
              "      <td>soltero</td>\n",
              "    </tr>\n",
              "    <tr>\n",
              "      <th>5</th>\n",
              "      <td>mujer</td>\n",
              "      <td>casado</td>\n",
              "    </tr>\n",
              "    <tr>\n",
              "      <th>6</th>\n",
              "      <td>mujer</td>\n",
              "      <td>casado</td>\n",
              "    </tr>\n",
              "  </tbody>\n",
              "</table>\n",
              "</div>"
            ],
            "text/plain": [
              "     Sexo Estado Civil\n",
              "0   mujer      soltero\n",
              "1  hombre       casado\n",
              "2   mujer      soltero\n",
              "3  hombre       casado\n",
              "4  hombre      soltero\n",
              "5   mujer       casado\n",
              "6   mujer       casado"
            ]
          },
          "metadata": {
            "tags": []
          },
          "execution_count": 1
        }
      ]
    },
    {
      "cell_type": "code",
      "metadata": {
        "id": "0F6CvlYvUNVe",
        "colab_type": "code",
        "colab": {
          "base_uri": "https://localhost:8080/",
          "height": 266
        },
        "outputId": "343f8028-e8cc-427c-ea9b-aca065c517e1"
      },
      "source": [
        "columns_to_dummy = ['Sexo', 'Estado Civil']  \n",
        "\n",
        "def dummy_generator(dataframe, columns_list):  \n",
        "    \n",
        "    for column in columns_list:\n",
        "        col_dummies = pd.get_dummies(dataframe[column])\n",
        "        dataframe = dataframe.join(col_dummies)\n",
        "\n",
        "    dataframe = dataframe.drop(columns_list, axis=1)\n",
        "    return dataframe\n",
        "\n",
        "\n",
        "data = dummy_generator(data, columns_to_dummy)\n",
        "data"
      ],
      "execution_count": 2,
      "outputs": [
        {
          "output_type": "execute_result",
          "data": {
            "text/html": [
              "<div>\n",
              "<style scoped>\n",
              "    .dataframe tbody tr th:only-of-type {\n",
              "        vertical-align: middle;\n",
              "    }\n",
              "\n",
              "    .dataframe tbody tr th {\n",
              "        vertical-align: top;\n",
              "    }\n",
              "\n",
              "    .dataframe thead th {\n",
              "        text-align: right;\n",
              "    }\n",
              "</style>\n",
              "<table border=\"1\" class=\"dataframe\">\n",
              "  <thead>\n",
              "    <tr style=\"text-align: right;\">\n",
              "      <th></th>\n",
              "      <th>hombre</th>\n",
              "      <th>mujer</th>\n",
              "      <th>casado</th>\n",
              "      <th>soltero</th>\n",
              "    </tr>\n",
              "  </thead>\n",
              "  <tbody>\n",
              "    <tr>\n",
              "      <th>0</th>\n",
              "      <td>0</td>\n",
              "      <td>1</td>\n",
              "      <td>0</td>\n",
              "      <td>1</td>\n",
              "    </tr>\n",
              "    <tr>\n",
              "      <th>1</th>\n",
              "      <td>1</td>\n",
              "      <td>0</td>\n",
              "      <td>1</td>\n",
              "      <td>0</td>\n",
              "    </tr>\n",
              "    <tr>\n",
              "      <th>2</th>\n",
              "      <td>0</td>\n",
              "      <td>1</td>\n",
              "      <td>0</td>\n",
              "      <td>1</td>\n",
              "    </tr>\n",
              "    <tr>\n",
              "      <th>3</th>\n",
              "      <td>1</td>\n",
              "      <td>0</td>\n",
              "      <td>1</td>\n",
              "      <td>0</td>\n",
              "    </tr>\n",
              "    <tr>\n",
              "      <th>4</th>\n",
              "      <td>1</td>\n",
              "      <td>0</td>\n",
              "      <td>0</td>\n",
              "      <td>1</td>\n",
              "    </tr>\n",
              "    <tr>\n",
              "      <th>5</th>\n",
              "      <td>0</td>\n",
              "      <td>1</td>\n",
              "      <td>1</td>\n",
              "      <td>0</td>\n",
              "    </tr>\n",
              "    <tr>\n",
              "      <th>6</th>\n",
              "      <td>0</td>\n",
              "      <td>1</td>\n",
              "      <td>1</td>\n",
              "      <td>0</td>\n",
              "    </tr>\n",
              "  </tbody>\n",
              "</table>\n",
              "</div>"
            ],
            "text/plain": [
              "   hombre  mujer  casado  soltero\n",
              "0       0      1       0        1\n",
              "1       1      0       1        0\n",
              "2       0      1       0        1\n",
              "3       1      0       1        0\n",
              "4       1      0       0        1\n",
              "5       0      1       1        0\n",
              "6       0      1       1        0"
            ]
          },
          "metadata": {
            "tags": []
          },
          "execution_count": 2
        }
      ]
    }
  ]
}