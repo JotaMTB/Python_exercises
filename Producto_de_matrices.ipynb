{
  "nbformat": 4,
  "nbformat_minor": 0,
  "metadata": {
    "colab": {
      "name": "Producto de matrices.ipynb",
      "provenance": [],
      "collapsed_sections": [],
      "authorship_tag": "ABX9TyPL/y5egocVjBcTT095ds+O",
      "include_colab_link": true
    },
    "kernelspec": {
      "name": "python3",
      "display_name": "Python 3"
    }
  },
  "cells": [
    {
      "cell_type": "markdown",
      "metadata": {
        "id": "view-in-github",
        "colab_type": "text"
      },
      "source": [
        "<a href=\"https://colab.research.google.com/github/JotaMTB/Python_exercises/blob/master/Producto_de_matrices.ipynb\" target=\"_parent\"><img src=\"https://colab.research.google.com/assets/colab-badge.svg\" alt=\"Open In Colab\"/></a>"
      ]
    },
    {
      "cell_type": "code",
      "metadata": {
        "id": "CdaOCCMwSOdK",
        "colab_type": "code",
        "colab": {}
      },
      "source": [
        ""
      ],
      "execution_count": null,
      "outputs": []
    },
    {
      "cell_type": "markdown",
      "metadata": {
        "id": "BRQgJ2XbSQLa",
        "colab_type": "text"
      },
      "source": [
        "##Multiplicando matrices.\n",
        "Primero, un breve recordatorio:\n",
        "- El número de columnas de la 1ª matriz (matriz A) debe ser igual al de filas de la 2ª matriz (matriz B).\n",
        "- El resultado será una matriz de tamaño: (filas de A) x (columnas de B).\n",
        "\n",
        "![texto alternativo](https://www.geogebra.org/resource/jyFms9hh/gWfr05GxoKt6c3JS/material-jyFms9hh.png)\n",
        "![texto alternativo](https://www.geogebra.org/resource/ZFmZ8JrW/350Qoz3KUQKDeQUj/material-ZFmZ8JrW.png)\n"
      ]
    },
    {
      "cell_type": "code",
      "metadata": {
        "id": "kCFR5K0iSPs7",
        "colab_type": "code",
        "colab": {
          "base_uri": "https://localhost:8080/",
          "height": 187
        },
        "outputId": "1db7b1d5-a718-40f9-8a6d-05e51e9a3e37"
      },
      "source": [
        "#Prueba a cambiar los valores y tamaños de las siguientes dos matrices, atendiendo a la regla explicada arriba:\n",
        "#Para emplear número decimales, el separador debe ser un punto \".\"\n",
        "\n",
        "matriz_A = [[1, 2, 3], [4, 5, 6], [7, 8, 9]]\n",
        "matriz_B = [[-1, 2], [3, -4], [-5, 6]]\n",
        "\n",
        "columnas_A = len(matriz_A[0]) # grabamos en una variable el número de columnas de la 1ª matriz\n",
        "filas_B = len(matriz_B) # grabamos en otra variable el número de filas de la 2ª matriz\n",
        "\n",
        "# para poder multiplicar las matrices, primero se comparan las variables anteriores\n",
        "if columnas_A == filas_B:\n",
        "    matriz_AB = [] # se preapra una matriz (lista) vacía que almacenará el producto\n",
        "    filas_A = len(matriz_A) # variable que graba el número de filas de la 1ª matriz\n",
        "    columnas_B = len(matriz_B[0]) #variable que graba el número de columnas de la 2º matriz\n",
        "\n",
        "# comineza la \"magia\" --> con los siguientes bucles se operan los elementos de la matriz\n",
        "    for i in range(filas_A):\n",
        "        componente_AB = [] # lista vacía para almacenar cada fila de la matriz\n",
        "        for j in range(columnas_B): \n",
        "            producto = 0 # esta variable se inicializa con valor cero \n",
        "            for k in range(columnas_A):\n",
        "                producto += matriz_A[i][k] * matriz_B[k][j] # la variable recoge el valor de cada elementos de cada fila\n",
        "            componente_AB.append(producto) # el elemento se añade a la fila (lista)\n",
        "        matriz_AB.append(componente_AB) # cada fila (lista) se añade a la matriz (lista que agrupa al resto se sublistas)\n",
        "    print(f\"Las columnas de A ({columnas_A}) son iguales a las filas de B ({filas_B}), por tanto se han podido multiplicar.\")\n",
        "    print(f\"El producto de las matrices es {matriz_AB}\")\n",
        "    print(\"\\n\")\n",
        "    for filas in matriz_AB:\n",
        "      for i in filas:\n",
        "        print(i,\"\\t\", end=\"\\t\")\n",
        "      print(\"\\n\")\n",
        "else:\n",
        "    print(\"Estas matrices no pueden multiplicarse.\")\n",
        "    print(f\"Las columnas de A ({columnas_A}) son diferentes a las filas de B ({filas_B}), por tanto NO se han podido multiplicar.\")"
      ],
      "execution_count": null,
      "outputs": [
        {
          "output_type": "stream",
          "text": [
            "Las columnas de A (3) son iguales a las filas de B (3), por tanto se han podido multiplicar.\n",
            "El producto de las matrices es [[-10, 12], [-19, 24], [-28, 36]]\n",
            "\n",
            "\n",
            "-10 \t\t12 \t\t\n",
            "\n",
            "-19 \t\t24 \t\t\n",
            "\n",
            "-28 \t\t36 \t\t\n",
            "\n"
          ],
          "name": "stdout"
        }
      ]
    },
    {
      "cell_type": "markdown",
      "metadata": {
        "id": "HsCvZfS073MY",
        "colab_type": "text"
      },
      "source": [
        "(Actualización 2/julio/2020)\n",
        "## Otra forma de multiplicar matrices, usando la librería NumPy y sus arrays:"
      ]
    },
    {
      "cell_type": "code",
      "metadata": {
        "id": "IEdQbXFv73fX",
        "colab_type": "code",
        "colab": {
          "base_uri": "https://localhost:8080/",
          "height": 85
        },
        "outputId": "a2d867bf-dbea-4ff7-983d-2d6fc9a7e317"
      },
      "source": [
        "import numpy as np\n",
        "\n",
        "matriz_A = [[1, 2, 3], [4, 5, 6], [7, 8, 9]]  # matriz A\n",
        "matriz_B = [[-1, 2], [3, -4], [-5, 6]]  # matriz B\n",
        "\n",
        "columnas_A = len(matriz_A[0])  # grabamos en una variable el número de columnas de la 1ª matriz\n",
        "filas_B = len(matriz_B)  # grabamos en otra variable el número de filas de la 2ª matriz\n",
        "\n",
        "if columnas_A == filas_B:\n",
        "\n",
        "  #Transformar en arrays las matrices:\n",
        "  Mat_A = np.array(matriz_A)\n",
        "  Mat_B = np.array(matriz_B)\n",
        "\n",
        "  #Array que almacena el valor del producto de las matrices A y B:\n",
        "  Mat_C = np.dot(Mat_A, Mat_B)\n",
        "\n",
        "  print('El producto de las matrices es:')\n",
        "  print(Mat_C)\n",
        "\n",
        "else:\n",
        "    print(\"Estas matrices no pueden multiplicarse.\")\n",
        "    print(f\"Las columnas de A ({columnas_A}) son diferentes a las filas de B ({filas_B}), por tanto NO se han podido multiplicar.\")"
      ],
      "execution_count": 1,
      "outputs": [
        {
          "output_type": "stream",
          "text": [
            "El producto de las matrices es:\n",
            "[[-10  12]\n",
            " [-19  24]\n",
            " [-28  36]]\n"
          ],
          "name": "stdout"
        }
      ]
    },
    {
      "cell_type": "code",
      "metadata": {
        "id": "dKolblpR8Fww",
        "colab_type": "code",
        "colab": {}
      },
      "source": [
        ""
      ],
      "execution_count": null,
      "outputs": []
    }
  ]
}