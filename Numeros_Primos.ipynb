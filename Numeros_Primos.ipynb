{
  "nbformat": 4,
  "nbformat_minor": 0,
  "metadata": {
    "colab": {
      "name": "Numeros_Primos.ipynb",
      "provenance": [],
      "collapsed_sections": [],
      "authorship_tag": "ABX9TyPOyM7lSAvEBH/wVpJ557SY",
      "include_colab_link": true
    },
    "kernelspec": {
      "name": "python3",
      "display_name": "Python 3"
    }
  },
  "cells": [
    {
      "cell_type": "markdown",
      "metadata": {
        "id": "view-in-github",
        "colab_type": "text"
      },
      "source": [
        "<a href=\"https://colab.research.google.com/github/JotaMTB/Python_exercises/blob/master/Numeros_Primos.ipynb\" target=\"_parent\"><img src=\"https://colab.research.google.com/assets/colab-badge.svg\" alt=\"Open In Colab\"/></a>"
      ]
    },
    {
      "cell_type": "markdown",
      "metadata": {
        "id": "B_oa4DfSyQDI",
        "colab_type": "text"
      },
      "source": [
        "Ejercicio para visualizar los números primos comprendidos entre 2 y \"n\"."
      ]
    },
    {
      "cell_type": "code",
      "metadata": {
        "id": "Vzt5BKGXyIqk",
        "colab_type": "code",
        "colab": {
          "base_uri": "https://localhost:8080/",
          "height": 51
        },
        "outputId": "e143eebb-84a7-4e78-8e79-c656db46f5ff"
      },
      "source": [
        "# Mostrar los números primos entre el 1 y el 100:\n",
        "\n",
        "#Creación de variable para almacenar la lista de números primos:\n",
        "lista_primos = [2]  #así consigo que la lista muestre el primer número primo, el 2.\n",
        "\n",
        "#Límite superior del rango a valorar:\n",
        "n = 100   #este valor puede modificarse para obtener distintos rangos.\n",
        "\n",
        "for num in range (3, n+1):  # hago que una variable recorra el rango entre 3 y \"n\".\n",
        "    i = 2                   # reinicio la variable asignando valor 2.\n",
        "    cadena = set()          # reinicio la cadena para que vuelva a estar vacía.\n",
        "   \n",
        "    while i < num:            #bucle para que el divisor nunca alcance el valor del número a valorar (num).\n",
        "        if num % i != 0:      #el resto de los números primos siempre es distinto a cero, salvo que se divida entre 1 o él mismo.\n",
        "            cadena.add (1)    #añade a la cadena el valor 1 si el resto es distinto a 0.\n",
        "        else:\n",
        "            cadena.add (2)    #añade a la cadena el valor 2 si el resto es 0.\n",
        "        i += 1\n",
        "    \n",
        "    if len(cadena) == 1:          #la longitud de la cadena solo puede ser 1 o 2 (son valores únicos).\n",
        "                                  #la variable \"cadena\" es un Conjunto, esto implica que no puede haber elementos repetidos.\n",
        "        lista_primos.append(num)  #si se cumple la condición, \"num\" es un nº primo y se añade al listado.\n",
        "\n",
        "\n",
        "print (f\"Los números primos entre el 1 y el {n} son {lista_primos}\")\n",
        "print(f\"En el intervalo [1, {num}] hay {len(lista_primos)} números primos.\")"
      ],
      "execution_count": 9,
      "outputs": [
        {
          "output_type": "stream",
          "text": [
            "Los números primos entre el 1 y el 100 son [2, 3, 5, 7, 11, 13, 17, 19, 23, 29, 31, 37, 41, 43, 47, 53, 59, 61, 67, 71, 73, 79, 83, 89, 97]\n",
            "En el intervalo [1, 100] hay 25 números primos.\n"
          ],
          "name": "stdout"
        }
      ]
    },
    {
      "cell_type": "code",
      "metadata": {
        "id": "PP-snPCf1eHU",
        "colab_type": "code",
        "colab": {}
      },
      "source": [
        ""
      ],
      "execution_count": 0,
      "outputs": []
    }
  ]
}