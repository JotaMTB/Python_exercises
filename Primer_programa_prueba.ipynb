{
  "nbformat": 4,
  "nbformat_minor": 0,
  "metadata": {
    "colab": {
      "name": "Primer programa - prueba.ipynb",
      "provenance": [],
      "collapsed_sections": []
    },
    "kernelspec": {
      "name": "python3",
      "display_name": "Python 3"
    }
  },
  "cells": [
    {
      "cell_type": "code",
      "metadata": {
        "id": "s_WD5jeenckI",
        "colab_type": "code",
        "colab": {}
      },
      "source": [
        "name = input(\"Por favor, dime tu nombre: \")\n",
        "print(f\"Hola {name}, encantado de saludarte\")"
      ],
      "execution_count": 0,
      "outputs": []
    }
  ]
}